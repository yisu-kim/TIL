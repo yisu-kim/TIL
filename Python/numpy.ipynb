{
  "nbformat": 4,
  "nbformat_minor": 0,
  "metadata": {
    "colab": {
      "name": "Numpy.ipynb",
      "version": "0.3.2",
      "views": {},
      "default_view": {},
      "provenance": [],
      "collapsed_sections": []
    }
  },
  "cells": [
    {
      "metadata": {
        "id": "Lbtzi8IFjiAu",
        "colab_type": "text"
      },
      "cell_type": "markdown",
      "source": [
        "# Numpy\n",
        "\n",
        "Numerical Python의 준말\n",
        "고성능의 과학계산 컴퓨팅과 데이터 분석에 필요한 패키지\n",
        "\n",
        "Numpy에서 제공하는 기능\n",
        "- 다차원 배열 (ndarray)\n",
        "- 표준 수학 함수\n",
        "- 디스크, 메모리 접근 도구\n",
        "- 선형대수, 난수 발생기, 푸리에 변환"
      ]
    },
    {
      "metadata": {
        "id": "KfinCk6qwo5P",
        "colab_type": "code",
        "colab": {
          "autoexec": {
            "startup": false,
            "wait_interval": 0
          }
        }
      },
      "cell_type": "code",
      "source": [
        "import numpy as np"
      ],
      "execution_count": 0,
      "outputs": []
    },
    {
      "metadata": {
        "id": "Nprf2oWdwHqT",
        "colab_type": "text"
      },
      "cell_type": "markdown",
      "source": [
        "## ndarray (다차원 배열 객체)\n",
        "\n",
        "파이썬에서 사용할 수 있는 대규모 데이터 집합을 담을 수 있는 빠르고 유연한 자료구조 <br>\n",
        "같은 종류의 데이터를 담을 수 있는 포괄적인 다차원 배열이다. <br>\n",
        "전체 데이터 블록에 수학적인 연산을 수행할 수 있도록 돕는다.\n",
        "\n",
        "\n",
        "| 함수              | 설명                                                                                                |\n",
        "|-------------------|-----------------------------------------------------------------------------------------------------|\n",
        "|  array            | 입력데이터를 ndarray로 변환 <br> dtype이 명시되지 않으면 자료형은 추론 한다.                             |\n",
        "| asarray           | 입력 데이터를 ndarray로 변환 <br> 이미 ndarray일 경우 복사되지 않는다.                                   |\n",
        "| arange            | range 함수와 유사한 기능 <br> ndarray를 반환                                                             |\n",
        "| ones, ones_like   | 내용이 1로 초기화된 ndarray 생성 <br> ones_likes는 주어진 배열과 동일한 형태의 1로 초기화된 ndarray 생성 |\n",
        "| zeros, zeros_like | 위와 같은 기능이지만 내용이 0으로 초기화                                                                  |\n",
        "| empty, empty_like | 내용을 초기화하지 않은 ndarray 생성                                                                 |\n",
        "| eye, identity     | NxN 크기의 단위 행렬 생성                                                                           |"
      ]
    },
    {
      "metadata": {
        "id": "PpjERfsIwgGn",
        "colab_type": "code",
        "colab": {
          "autoexec": {
            "startup": false,
            "wait_interval": 0
          },
          "base_uri": "https://localhost:8080/",
          "height": 36
        },
        "outputId": "e206e4f4-c92a-4bd3-d53a-30d28d1223f2",
        "executionInfo": {
          "status": "ok",
          "timestamp": 1533377793855,
          "user_tz": -540,
          "elapsed": 1188,
          "user": {
            "displayName": "Yisu Kim",
            "photoUrl": "https://lh3.googleusercontent.com/a/default-user=s128",
            "userId": "115961139854090288133"
          }
        }
      },
      "cell_type": "code",
      "source": [
        "data = [2, 3.5, 6, 1, 0]\n",
        "arr = np.array(data)\n",
        "arr"
      ],
      "execution_count": 2,
      "outputs": [
        {
          "output_type": "execute_result",
          "data": {
            "text/plain": [
              "array([2. , 3.5, 6. , 1. , 0. ])"
            ]
          },
          "metadata": {
            "tags": []
          },
          "execution_count": 2
        }
      ]
    },
    {
      "metadata": {
        "id": "1RdjOsozxUiJ",
        "colab_type": "code",
        "colab": {
          "autoexec": {
            "startup": false,
            "wait_interval": 0
          },
          "base_uri": "https://localhost:8080/",
          "height": 74
        },
        "outputId": "e67be1ba-489b-44d0-9c4d-22ac0e2956f4",
        "executionInfo": {
          "status": "ok",
          "timestamp": 1533377797627,
          "user_tz": -540,
          "elapsed": 1168,
          "user": {
            "displayName": "Yisu Kim",
            "photoUrl": "https://lh3.googleusercontent.com/a/default-user=s128",
            "userId": "115961139854090288133"
          }
        }
      },
      "cell_type": "code",
      "source": [
        "# shape: 각 차원 크기\n",
        "# dtype: 저장된 자료형\n",
        "# ndim: 몇 차원 배열\n",
        "\n",
        "print(arr.shape)\n",
        "print(arr.dtype)\n",
        "print(arr.ndim)"
      ],
      "execution_count": 3,
      "outputs": [
        {
          "output_type": "stream",
          "text": [
            "(5,)\n",
            "float64\n",
            "1\n"
          ],
          "name": "stdout"
        }
      ]
    },
    {
      "metadata": {
        "id": "A9cokIVGxr-J",
        "colab_type": "code",
        "colab": {
          "autoexec": {
            "startup": false,
            "wait_interval": 0
          },
          "base_uri": "https://localhost:8080/",
          "height": 74
        },
        "outputId": "0ea4427b-0baa-494b-99b1-af3f35dbf4d0",
        "executionInfo": {
          "status": "ok",
          "timestamp": 1533377800523,
          "user_tz": -540,
          "elapsed": 1026,
          "user": {
            "displayName": "Yisu Kim",
            "photoUrl": "https://lh3.googleusercontent.com/a/default-user=s128",
            "userId": "115961139854090288133"
          }
        }
      },
      "cell_type": "code",
      "source": [
        "# zeros\n",
        "\n",
        "print(np.zeros(10))\n",
        "print(np.zeros((2,3)))"
      ],
      "execution_count": 4,
      "outputs": [
        {
          "output_type": "stream",
          "text": [
            "[0. 0. 0. 0. 0. 0. 0. 0. 0. 0.]\n",
            "[[0. 0. 0.]\n",
            " [0. 0. 0.]]\n"
          ],
          "name": "stdout"
        }
      ]
    },
    {
      "metadata": {
        "id": "tM7Zeevh4sNf",
        "colab_type": "code",
        "colab": {
          "autoexec": {
            "startup": false,
            "wait_interval": 0
          },
          "base_uri": "https://localhost:8080/",
          "height": 36
        },
        "outputId": "9f481d5e-8c43-4e83-ce3f-c80a68e27eb5",
        "executionInfo": {
          "status": "ok",
          "timestamp": 1533377803672,
          "user_tz": -540,
          "elapsed": 1113,
          "user": {
            "displayName": "Yisu Kim",
            "photoUrl": "https://lh3.googleusercontent.com/a/default-user=s128",
            "userId": "115961139854090288133"
          }
        }
      },
      "cell_type": "code",
      "source": [
        "# arange\n",
        "\n",
        "np.arange(15)"
      ],
      "execution_count": 5,
      "outputs": [
        {
          "output_type": "execute_result",
          "data": {
            "text/plain": [
              "array([ 0,  1,  2,  3,  4,  5,  6,  7,  8,  9, 10, 11, 12, 13, 14])"
            ]
          },
          "metadata": {
            "tags": []
          },
          "execution_count": 5
        }
      ]
    },
    {
      "metadata": {
        "id": "WFZfUIcDKQ-F",
        "colab_type": "text"
      },
      "cell_type": "markdown",
      "source": [
        "## Data type\n",
        "\n",
        "| 종류          | type code  | 설명                                                            |\n",
        "|---------------|------------|-----------------------------------------------------------------|\n",
        "| int8, uint8   | i1, u1     | 부호가 있는/없는 8비트 정수형                                   |\n",
        "| int16, uint16 | i2, u2     | 부호가 있는/없는 16비트 정수형                                  |\n",
        "| int32, uint32 | i4, u4     | 부호가 있는/없는 32비트 정수형                                  |\n",
        "| int64, uint64 | i8, u8     | 부호가 있는/없는 64비트 정수형                                  |\n",
        "| float16       | f2         | 반정밀도 부동소수점                                             |\n",
        "| float32       | f4 또는 f  | 단정밀도 부동소수점 <br> float형(C)과 호환                      |\n",
        "| float64       | f8 또는 d  | 배정밀도 부동소수점 <br> double형(C), float 객체(python)와 호환 |\n",
        "| float128      | f16 또는 g | 확장 정밀도 부동소수점                                          |\n",
        "| complex64     | c8         | 2개의 32비트 부동소수점형을 가지는 복소수                       |\n",
        "| complex128    | c16        | 2개의 64비트 부동소수점형을 가지는 복소수                       |\n",
        "| complex256    | c32        | 2개의 128비트 부동소수점형을 가지는 복소수                      |\n",
        "| bool          | ?          | True, False 값을 저장                                           |\n",
        "| object        | O          | 파이썬 객체형                                                   |\n",
        "| string_       | S          | 고정 길이 문자열형 (각 글자는 1byte)                            |\n",
        "| unicode_      | U          | 고정 길이 유니코드형                                            |"
      ]
    },
    {
      "metadata": {
        "id": "S8NEExtc__6e",
        "colab_type": "text"
      },
      "cell_type": "markdown",
      "source": [
        "- 'b' - (boolean)\n",
        "- 'i' - (signed) integer\n",
        "- 'u' − unsigned integer\n",
        "- 'f' − floating-point\n",
        "- 'c' − complex-floating point\n",
        "- 'm' − timedelta\n",
        "- 'M' − datetime\n",
        "- 'O' − (Python) objects\n",
        "- 'S', 'a' − (byte-)string\n",
        "- 'U' − Unicode\n",
        "- 'V' − raw data (void)"
      ]
    },
    {
      "metadata": {
        "id": "Btn66sUO5Gwn",
        "colab_type": "code",
        "colab": {
          "autoexec": {
            "startup": false,
            "wait_interval": 0
          },
          "base_uri": "https://localhost:8080/",
          "height": 55
        },
        "outputId": "157edbe9-da0d-4a2b-feac-0eebe31d7711",
        "executionInfo": {
          "status": "ok",
          "timestamp": 1533377806439,
          "user_tz": -540,
          "elapsed": 1248,
          "user": {
            "displayName": "Yisu Kim",
            "photoUrl": "https://lh3.googleusercontent.com/a/default-user=s128",
            "userId": "115961139854090288133"
          }
        }
      },
      "cell_type": "code",
      "source": [
        "arr = np.array([1, 2, 3], dtype=np.float64)\n",
        "print(arr.dtype)\n",
        "arr = np.array([1, 2, 3], dtype=np.int32)\n",
        "print(arr.dtype)"
      ],
      "execution_count": 6,
      "outputs": [
        {
          "output_type": "stream",
          "text": [
            "float64\n",
            "int32\n"
          ],
          "name": "stdout"
        }
      ]
    },
    {
      "metadata": {
        "id": "eGIXxv5qMrBy",
        "colab_type": "code",
        "colab": {
          "autoexec": {
            "startup": false,
            "wait_interval": 0
          },
          "base_uri": "https://localhost:8080/",
          "height": 74
        },
        "outputId": "e641528a-c30d-4353-f72e-d49ccd2f9f29",
        "executionInfo": {
          "status": "ok",
          "timestamp": 1533377810143,
          "user_tz": -540,
          "elapsed": 1289,
          "user": {
            "displayName": "Yisu Kim",
            "photoUrl": "https://lh3.googleusercontent.com/a/default-user=s128",
            "userId": "115961139854090288133"
          }
        }
      },
      "cell_type": "code",
      "source": [
        "# astype\n",
        "\n",
        "arr = np.array([2.1, -5.2, 3.8, 6.9, -2.9])\n",
        "print(arr.dtype)\n",
        "int_arr = arr.astype(np.int32)\n",
        "print(int_arr)\n",
        "\n",
        "numeric_strings = np.array(['2.75', '3.42', '-9.8'], dtype=np.string_)\n",
        "numeric_strings.astype(float)"
      ],
      "execution_count": 7,
      "outputs": [
        {
          "output_type": "stream",
          "text": [
            "float64\n",
            "[ 2 -5  3  6 -2]\n"
          ],
          "name": "stdout"
        },
        {
          "output_type": "execute_result",
          "data": {
            "text/plain": [
              "array([ 2.75,  3.42, -9.8 ])"
            ]
          },
          "metadata": {
            "tags": []
          },
          "execution_count": 7
        }
      ]
    },
    {
      "metadata": {
        "id": "OpSrA9024CFw",
        "colab_type": "text"
      },
      "cell_type": "markdown",
      "source": [
        "** 배열과 스칼라 간의 연산** \n",
        "\n",
        "벡터화\n",
        "- 반복문 없이 데이터 일괄처리\n",
        "- 배열 각 요소 단위로 배열 간 산술연산 적용"
      ]
    },
    {
      "metadata": {
        "id": "smye2p7qNbF6",
        "colab_type": "code",
        "colab": {
          "autoexec": {
            "startup": false,
            "wait_interval": 0
          },
          "base_uri": "https://localhost:8080/",
          "height": 130
        },
        "outputId": "7b1d4abb-5128-4abd-86f1-745ade6d2e99",
        "executionInfo": {
          "status": "ok",
          "timestamp": 1533377813547,
          "user_tz": -540,
          "elapsed": 1029,
          "user": {
            "displayName": "Yisu Kim",
            "photoUrl": "https://lh3.googleusercontent.com/a/default-user=s128",
            "userId": "115961139854090288133"
          }
        }
      },
      "cell_type": "code",
      "source": [
        "arr = np.array([[1., 2., 3.], [4., 5., 6.]])\n",
        "print(arr)\n",
        "print(arr * arr)\n",
        "print(1 / arr)"
      ],
      "execution_count": 8,
      "outputs": [
        {
          "output_type": "stream",
          "text": [
            "[[1. 2. 3.]\n",
            " [4. 5. 6.]]\n",
            "[[ 1.  4.  9.]\n",
            " [16. 25. 36.]]\n",
            "[[1.         0.5        0.33333333]\n",
            " [0.25       0.2        0.16666667]]\n"
          ],
          "name": "stdout"
        }
      ]
    },
    {
      "metadata": {
        "id": "1k319DhV64Rh",
        "colab_type": "text"
      },
      "cell_type": "markdown",
      "source": [
        "## Indexing & Slicing"
      ]
    },
    {
      "metadata": {
        "id": "opP1FUo74kLJ",
        "colab_type": "code",
        "colab": {
          "autoexec": {
            "startup": false,
            "wait_interval": 0
          },
          "base_uri": "https://localhost:8080/",
          "height": 36
        },
        "outputId": "06007693-3cd6-4aec-e2cf-006595cb6f0c",
        "executionInfo": {
          "status": "ok",
          "timestamp": 1533377816225,
          "user_tz": -540,
          "elapsed": 1160,
          "user": {
            "displayName": "Yisu Kim",
            "photoUrl": "https://lh3.googleusercontent.com/a/default-user=s128",
            "userId": "115961139854090288133"
          }
        }
      },
      "cell_type": "code",
      "source": [
        "arr = np.arange(10)\n",
        "arr"
      ],
      "execution_count": 9,
      "outputs": [
        {
          "output_type": "execute_result",
          "data": {
            "text/plain": [
              "array([0, 1, 2, 3, 4, 5, 6, 7, 8, 9])"
            ]
          },
          "metadata": {
            "tags": []
          },
          "execution_count": 9
        }
      ]
    },
    {
      "metadata": {
        "id": "9dT8U3Xo7UKk",
        "colab_type": "code",
        "colab": {
          "autoexec": {
            "startup": false,
            "wait_interval": 0
          },
          "base_uri": "https://localhost:8080/",
          "height": 36
        },
        "outputId": "d6359bbb-b9a6-446a-8cb0-d6a61873fff9",
        "executionInfo": {
          "status": "ok",
          "timestamp": 1533377818931,
          "user_tz": -540,
          "elapsed": 1057,
          "user": {
            "displayName": "Yisu Kim",
            "photoUrl": "https://lh3.googleusercontent.com/a/default-user=s128",
            "userId": "115961139854090288133"
          }
        }
      },
      "cell_type": "code",
      "source": [
        "# indexing\n",
        "arr[5]"
      ],
      "execution_count": 10,
      "outputs": [
        {
          "output_type": "execute_result",
          "data": {
            "text/plain": [
              "5"
            ]
          },
          "metadata": {
            "tags": []
          },
          "execution_count": 10
        }
      ]
    },
    {
      "metadata": {
        "id": "PSrCwI3C7Xsh",
        "colab_type": "code",
        "colab": {
          "autoexec": {
            "startup": false,
            "wait_interval": 0
          },
          "base_uri": "https://localhost:8080/",
          "height": 92
        },
        "outputId": "682350f5-f2d2-4343-a7d6-e063e862a497",
        "executionInfo": {
          "status": "ok",
          "timestamp": 1533377821737,
          "user_tz": -540,
          "elapsed": 1176,
          "user": {
            "displayName": "Yisu Kim",
            "photoUrl": "https://lh3.googleusercontent.com/a/default-user=s128",
            "userId": "115961139854090288133"
          }
        }
      },
      "cell_type": "code",
      "source": [
        "# slicing\n",
        "print(arr[1:6])\n",
        "print(arr[:3])\n",
        "print(arr[3:])\n",
        "print(arr[:])"
      ],
      "execution_count": 11,
      "outputs": [
        {
          "output_type": "stream",
          "text": [
            "[1 2 3 4 5]\n",
            "[0 1 2]\n",
            "[3 4 5 6 7 8 9]\n",
            "[0 1 2 3 4 5 6 7 8 9]\n"
          ],
          "name": "stdout"
        }
      ]
    },
    {
      "metadata": {
        "id": "dOjUiarQ73CZ",
        "colab_type": "text"
      },
      "cell_type": "markdown",
      "source": [
        "슬라이스된 배열은 원본 배열의 view이다. 따라서 view에 대한 변경이 원본 배열에 그대로 반영된다. <br>\n",
        "복사본을 얻고 싶다면 `.copy()` 함수를 사용하면 된다."
      ]
    },
    {
      "metadata": {
        "id": "6omKrLJ77bIZ",
        "colab_type": "code",
        "colab": {
          "autoexec": {
            "startup": false,
            "wait_interval": 0
          },
          "base_uri": "https://localhost:8080/",
          "height": 36
        },
        "outputId": "20ab0e4f-f220-4e21-e404-b9c96f387eb3",
        "executionInfo": {
          "status": "ok",
          "timestamp": 1533377824553,
          "user_tz": -540,
          "elapsed": 1012,
          "user": {
            "displayName": "Yisu Kim",
            "photoUrl": "https://lh3.googleusercontent.com/a/default-user=s128",
            "userId": "115961139854090288133"
          }
        }
      },
      "cell_type": "code",
      "source": [
        "arr_slice = arr[1:3]\n",
        "arr_slice[1] = 123\n",
        "print(arr)"
      ],
      "execution_count": 12,
      "outputs": [
        {
          "output_type": "stream",
          "text": [
            "[  0   1 123   3   4   5   6   7   8   9]\n"
          ],
          "name": "stdout"
        }
      ]
    },
    {
      "metadata": {
        "id": "YhGMivyY8FVy",
        "colab_type": "code",
        "colab": {
          "autoexec": {
            "startup": false,
            "wait_interval": 0
          },
          "base_uri": "https://localhost:8080/",
          "height": 55
        },
        "outputId": "bc4623e8-2ebf-45de-aa9b-a4646ffdecbb",
        "executionInfo": {
          "status": "ok",
          "timestamp": 1533377827032,
          "user_tz": -540,
          "elapsed": 984,
          "user": {
            "displayName": "Yisu Kim",
            "photoUrl": "https://lh3.googleusercontent.com/a/default-user=s128",
            "userId": "115961139854090288133"
          }
        }
      },
      "cell_type": "code",
      "source": [
        "# 2 dimension\n",
        "arr2d = np.array([[1, 2, 3], [4, 5, 6]])\n",
        "arr2d"
      ],
      "execution_count": 13,
      "outputs": [
        {
          "output_type": "execute_result",
          "data": {
            "text/plain": [
              "array([[1, 2, 3],\n",
              "       [4, 5, 6]])"
            ]
          },
          "metadata": {
            "tags": []
          },
          "execution_count": 13
        }
      ]
    },
    {
      "metadata": {
        "id": "Zs4lDylt9Kzy",
        "colab_type": "code",
        "colab": {
          "autoexec": {
            "startup": false,
            "wait_interval": 0
          },
          "base_uri": "https://localhost:8080/",
          "height": 74
        },
        "outputId": "094c8098-5697-4edb-f802-717d83969919",
        "executionInfo": {
          "status": "ok",
          "timestamp": 1533377830156,
          "user_tz": -540,
          "elapsed": 1252,
          "user": {
            "displayName": "Yisu Kim",
            "photoUrl": "https://lh3.googleusercontent.com/a/default-user=s128",
            "userId": "115961139854090288133"
          }
        }
      },
      "cell_type": "code",
      "source": [
        "# indexing\n",
        "print(arr2d[1])\n",
        "print(arr2d[0][1])\n",
        "print(arr2d[0, 1])"
      ],
      "execution_count": 14,
      "outputs": [
        {
          "output_type": "stream",
          "text": [
            "[4 5 6]\n",
            "2\n",
            "2\n"
          ],
          "name": "stdout"
        }
      ]
    },
    {
      "metadata": {
        "id": "w4sfJKyj9OnK",
        "colab_type": "code",
        "colab": {
          "autoexec": {
            "startup": false,
            "wait_interval": 0
          },
          "base_uri": "https://localhost:8080/",
          "height": 55
        },
        "outputId": "6871be1d-a1d7-4523-bbb1-41e4020edd6f",
        "executionInfo": {
          "status": "ok",
          "timestamp": 1533377833210,
          "user_tz": -540,
          "elapsed": 1635,
          "user": {
            "displayName": "Yisu Kim",
            "photoUrl": "https://lh3.googleusercontent.com/a/default-user=s128",
            "userId": "115961139854090288133"
          }
        }
      },
      "cell_type": "code",
      "source": [
        "arr2d[0] = 123\n",
        "arr2d"
      ],
      "execution_count": 15,
      "outputs": [
        {
          "output_type": "execute_result",
          "data": {
            "text/plain": [
              "array([[123, 123, 123],\n",
              "       [  4,   5,   6]])"
            ]
          },
          "metadata": {
            "tags": []
          },
          "execution_count": 15
        }
      ]
    },
    {
      "metadata": {
        "id": "Hh8lhMgF-Vw6",
        "colab_type": "code",
        "colab": {
          "autoexec": {
            "startup": false,
            "wait_interval": 0
          },
          "base_uri": "https://localhost:8080/",
          "height": 111
        },
        "outputId": "3059ac81-b890-41da-f34c-8e3a508b1658",
        "executionInfo": {
          "status": "ok",
          "timestamp": 1533377835824,
          "user_tz": -540,
          "elapsed": 1075,
          "user": {
            "displayName": "Yisu Kim",
            "photoUrl": "https://lh3.googleusercontent.com/a/default-user=s128",
            "userId": "115961139854090288133"
          }
        }
      },
      "cell_type": "code",
      "source": [
        "# slicing\n",
        "print(arr2d[:1])\n",
        "print(arr2d[:1, 1:])\n",
        "print(arr2d[:2, 2])\n",
        "print(arr2d[:, :3])"
      ],
      "execution_count": 16,
      "outputs": [
        {
          "output_type": "stream",
          "text": [
            "[[123 123 123]]\n",
            "[[123 123]]\n",
            "[123   6]\n",
            "[[123 123 123]\n",
            " [  4   5   6]]\n"
          ],
          "name": "stdout"
        }
      ]
    },
    {
      "metadata": {
        "id": "Ud4Gc1ZB_dvQ",
        "colab_type": "text"
      },
      "cell_type": "markdown",
      "source": [
        "## Boolean index"
      ]
    },
    {
      "metadata": {
        "id": "p8gzLYna-jWD",
        "colab_type": "code",
        "colab": {
          "autoexec": {
            "startup": false,
            "wait_interval": 0
          },
          "base_uri": "https://localhost:8080/",
          "height": 36
        },
        "outputId": "54b1f010-299a-40c5-8ba8-5329f5851761",
        "executionInfo": {
          "status": "ok",
          "timestamp": 1533377838797,
          "user_tz": -540,
          "elapsed": 1362,
          "user": {
            "displayName": "Yisu Kim",
            "photoUrl": "https://lh3.googleusercontent.com/a/default-user=s128",
            "userId": "115961139854090288133"
          }
        }
      },
      "cell_type": "code",
      "source": [
        "mask = np.array(['a', 'b', 'c', 'd', 'e', 'c'])\n",
        "mask == 'c'"
      ],
      "execution_count": 17,
      "outputs": [
        {
          "output_type": "execute_result",
          "data": {
            "text/plain": [
              "array([False, False,  True, False, False,  True])"
            ]
          },
          "metadata": {
            "tags": []
          },
          "execution_count": 17
        }
      ]
    },
    {
      "metadata": {
        "id": "EbQFW9RSAxlj",
        "colab_type": "code",
        "colab": {
          "autoexec": {
            "startup": false,
            "wait_interval": 0
          },
          "base_uri": "https://localhost:8080/",
          "height": 130
        },
        "outputId": "7bf05b44-2d85-47b5-e5e0-0e1234783401",
        "executionInfo": {
          "status": "ok",
          "timestamp": 1533377841640,
          "user_tz": -540,
          "elapsed": 1239,
          "user": {
            "displayName": "Yisu Kim",
            "photoUrl": "https://lh3.googleusercontent.com/a/default-user=s128",
            "userId": "115961139854090288133"
          }
        }
      },
      "cell_type": "code",
      "source": [
        "arr2d = np.random.rand(6,2)\n",
        "arr2d"
      ],
      "execution_count": 18,
      "outputs": [
        {
          "output_type": "execute_result",
          "data": {
            "text/plain": [
              "array([[0.51381963, 0.12950826],\n",
              "       [0.36544271, 0.61724526],\n",
              "       [0.91712652, 0.25692753],\n",
              "       [0.772035  , 0.40519217],\n",
              "       [0.15558113, 0.24351806],\n",
              "       [0.67433642, 0.89308625]])"
            ]
          },
          "metadata": {
            "tags": []
          },
          "execution_count": 18
        }
      ]
    },
    {
      "metadata": {
        "id": "j040mH3mA6s0",
        "colab_type": "code",
        "colab": {
          "autoexec": {
            "startup": false,
            "wait_interval": 0
          },
          "base_uri": "https://localhost:8080/",
          "height": 55
        },
        "outputId": "8bfdc7dd-1063-4629-9df0-5d21b66d9fb1",
        "executionInfo": {
          "status": "ok",
          "timestamp": 1533377844570,
          "user_tz": -540,
          "elapsed": 1068,
          "user": {
            "displayName": "Yisu Kim",
            "photoUrl": "https://lh3.googleusercontent.com/a/default-user=s128",
            "userId": "115961139854090288133"
          }
        }
      },
      "cell_type": "code",
      "source": [
        "arr2d[mask == 'c']"
      ],
      "execution_count": 19,
      "outputs": [
        {
          "output_type": "execute_result",
          "data": {
            "text/plain": [
              "array([[0.91712652, 0.25692753],\n",
              "       [0.67433642, 0.89308625]])"
            ]
          },
          "metadata": {
            "tags": []
          },
          "execution_count": 19
        }
      ]
    },
    {
      "metadata": {
        "id": "lH7xcoINBqbJ",
        "colab_type": "text"
      },
      "cell_type": "markdown",
      "source": [
        "불리언 색인 값이 true인 2, 5번째 행의 값만 선택된 것을 볼 수 있다."
      ]
    },
    {
      "metadata": {
        "id": "TiFXySORBmFD",
        "colab_type": "code",
        "colab": {
          "autoexec": {
            "startup": false,
            "wait_interval": 0
          },
          "base_uri": "https://localhost:8080/",
          "height": 55
        },
        "outputId": "ba7b444e-6b3f-4686-bf23-1fc0746abdc2",
        "executionInfo": {
          "status": "ok",
          "timestamp": 1533377847530,
          "user_tz": -540,
          "elapsed": 979,
          "user": {
            "displayName": "Yisu Kim",
            "photoUrl": "https://lh3.googleusercontent.com/a/default-user=s128",
            "userId": "115961139854090288133"
          }
        }
      },
      "cell_type": "code",
      "source": [
        "arr2d[arr2d < .5]"
      ],
      "execution_count": 20,
      "outputs": [
        {
          "output_type": "execute_result",
          "data": {
            "text/plain": [
              "array([0.12950826, 0.36544271, 0.25692753, 0.40519217, 0.15558113,\n",
              "       0.24351806])"
            ]
          },
          "metadata": {
            "tags": []
          },
          "execution_count": 20
        }
      ]
    },
    {
      "metadata": {
        "id": "tCIzZotkCgAM",
        "colab_type": "text"
      },
      "cell_type": "markdown",
      "source": [
        "## Fancy index"
      ]
    },
    {
      "metadata": {
        "id": "sV_zSAU4CRLl",
        "colab_type": "code",
        "colab": {
          "autoexec": {
            "startup": false,
            "wait_interval": 0
          },
          "base_uri": "https://localhost:8080/",
          "height": 168
        },
        "outputId": "4505ab3b-6de2-46d0-e095-aa22885d9d1a",
        "executionInfo": {
          "status": "ok",
          "timestamp": 1533377850536,
          "user_tz": -540,
          "elapsed": 1017,
          "user": {
            "displayName": "Yisu Kim",
            "photoUrl": "https://lh3.googleusercontent.com/a/default-user=s128",
            "userId": "115961139854090288133"
          }
        }
      },
      "cell_type": "code",
      "source": [
        "arr = np.empty((8,4))\n",
        "\n",
        "for i in range(8):\n",
        "  arr[i] = i\n",
        "\n",
        "arr"
      ],
      "execution_count": 21,
      "outputs": [
        {
          "output_type": "execute_result",
          "data": {
            "text/plain": [
              "array([[0., 0., 0., 0.],\n",
              "       [1., 1., 1., 1.],\n",
              "       [2., 2., 2., 2.],\n",
              "       [3., 3., 3., 3.],\n",
              "       [4., 4., 4., 4.],\n",
              "       [5., 5., 5., 5.],\n",
              "       [6., 6., 6., 6.],\n",
              "       [7., 7., 7., 7.]])"
            ]
          },
          "metadata": {
            "tags": []
          },
          "execution_count": 21
        }
      ]
    },
    {
      "metadata": {
        "id": "UDqydeH4DRyi",
        "colab_type": "code",
        "colab": {
          "autoexec": {
            "startup": false,
            "wait_interval": 0
          },
          "base_uri": "https://localhost:8080/",
          "height": 168
        },
        "outputId": "a8ec56f4-d0f8-43b0-ea5a-92da796856f4",
        "executionInfo": {
          "status": "ok",
          "timestamp": 1533377852528,
          "user_tz": -540,
          "elapsed": 874,
          "user": {
            "displayName": "Yisu Kim",
            "photoUrl": "https://lh3.googleusercontent.com/a/default-user=s128",
            "userId": "115961139854090288133"
          }
        }
      },
      "cell_type": "code",
      "source": [
        "print(arr[[3, 2, 7, 1, 0]])\n",
        "print(arr[[-1, -6, -4]])"
      ],
      "execution_count": 22,
      "outputs": [
        {
          "output_type": "stream",
          "text": [
            "[[3. 3. 3. 3.]\n",
            " [2. 2. 2. 2.]\n",
            " [7. 7. 7. 7.]\n",
            " [1. 1. 1. 1.]\n",
            " [0. 0. 0. 0.]]\n",
            "[[7. 7. 7. 7.]\n",
            " [2. 2. 2. 2.]\n",
            " [4. 4. 4. 4.]]\n"
          ],
          "name": "stdout"
        }
      ]
    },
    {
      "metadata": {
        "id": "7H5BxjveEjFk",
        "colab_type": "code",
        "colab": {
          "autoexec": {
            "startup": false,
            "wait_interval": 0
          },
          "base_uri": "https://localhost:8080/",
          "height": 168
        },
        "outputId": "df4f583a-69fd-4490-a4be-d60cb4059ec2",
        "executionInfo": {
          "status": "ok",
          "timestamp": 1533377855201,
          "user_tz": -540,
          "elapsed": 1092,
          "user": {
            "displayName": "Yisu Kim",
            "photoUrl": "https://lh3.googleusercontent.com/a/default-user=s128",
            "userId": "115961139854090288133"
          }
        }
      },
      "cell_type": "code",
      "source": [
        "arr = np.arange(16).reshape(8,2)\n",
        "arr"
      ],
      "execution_count": 23,
      "outputs": [
        {
          "output_type": "execute_result",
          "data": {
            "text/plain": [
              "array([[ 0,  1],\n",
              "       [ 2,  3],\n",
              "       [ 4,  5],\n",
              "       [ 6,  7],\n",
              "       [ 8,  9],\n",
              "       [10, 11],\n",
              "       [12, 13],\n",
              "       [14, 15]])"
            ]
          },
          "metadata": {
            "tags": []
          },
          "execution_count": 23
        }
      ]
    },
    {
      "metadata": {
        "id": "4Hc23E9jEwRC",
        "colab_type": "code",
        "colab": {
          "autoexec": {
            "startup": false,
            "wait_interval": 0
          },
          "base_uri": "https://localhost:8080/",
          "height": 74
        },
        "outputId": "2fa8707d-8cfb-4c56-dfd5-47a2621b9375",
        "executionInfo": {
          "status": "ok",
          "timestamp": 1533377857827,
          "user_tz": -540,
          "elapsed": 1119,
          "user": {
            "displayName": "Yisu Kim",
            "photoUrl": "https://lh3.googleusercontent.com/a/default-user=s128",
            "userId": "115961139854090288133"
          }
        }
      },
      "cell_type": "code",
      "source": [
        "print(arr[[1, 3], [0, 1]])  # (1, 0), (3, 1)\n",
        "print(arr[[1, 3]][:, [0, 1]])  # (1, 0), (1, 1), (3, 0), (3, 1)"
      ],
      "execution_count": 24,
      "outputs": [
        {
          "output_type": "stream",
          "text": [
            "[2 7]\n",
            "[[2 3]\n",
            " [6 7]]\n"
          ],
          "name": "stdout"
        }
      ]
    },
    {
      "metadata": {
        "id": "OJNmyOPtFP9y",
        "colab_type": "code",
        "colab": {
          "autoexec": {
            "startup": false,
            "wait_interval": 0
          },
          "base_uri": "https://localhost:8080/",
          "height": 55
        },
        "outputId": "496af490-2d4e-41e7-dc93-c36997ccd3bc",
        "executionInfo": {
          "status": "ok",
          "timestamp": 1533377860105,
          "user_tz": -540,
          "elapsed": 953,
          "user": {
            "displayName": "Yisu Kim",
            "photoUrl": "https://lh3.googleusercontent.com/a/default-user=s128",
            "userId": "115961139854090288133"
          }
        }
      },
      "cell_type": "code",
      "source": [
        "# ix_\n",
        "arr[np.ix_([1, 3], [0,1])]"
      ],
      "execution_count": 25,
      "outputs": [
        {
          "output_type": "execute_result",
          "data": {
            "text/plain": [
              "array([[2, 3],\n",
              "       [6, 7]])"
            ]
          },
          "metadata": {
            "tags": []
          },
          "execution_count": 25
        }
      ]
    },
    {
      "metadata": {
        "id": "Ur2U0V_9HCmS",
        "colab_type": "text"
      },
      "cell_type": "markdown",
      "source": [
        "## 전치"
      ]
    },
    {
      "metadata": {
        "id": "h85oPq0-HHs0",
        "colab_type": "code",
        "colab": {
          "autoexec": {
            "startup": false,
            "wait_interval": 0
          },
          "base_uri": "https://localhost:8080/",
          "height": 111
        },
        "outputId": "c313ef9d-23f2-452b-e557-a59594064aa5",
        "executionInfo": {
          "status": "ok",
          "timestamp": 1533377862345,
          "user_tz": -540,
          "elapsed": 1007,
          "user": {
            "displayName": "Yisu Kim",
            "photoUrl": "https://lh3.googleusercontent.com/a/default-user=s128",
            "userId": "115961139854090288133"
          }
        }
      },
      "cell_type": "code",
      "source": [
        "arr = np.arange(12).reshape(2, 2, 3)\n",
        "arr"
      ],
      "execution_count": 26,
      "outputs": [
        {
          "output_type": "execute_result",
          "data": {
            "text/plain": [
              "array([[[ 0,  1,  2],\n",
              "        [ 3,  4,  5]],\n",
              "\n",
              "       [[ 6,  7,  8],\n",
              "        [ 9, 10, 11]]])"
            ]
          },
          "metadata": {
            "tags": []
          },
          "execution_count": 26
        }
      ]
    },
    {
      "metadata": {
        "id": "D6qPUCKgH3k6",
        "colab_type": "code",
        "colab": {
          "autoexec": {
            "startup": false,
            "wait_interval": 0
          },
          "base_uri": "https://localhost:8080/",
          "height": 168
        },
        "outputId": "e2056fa7-cb98-4e6c-9a79-9328c16824df",
        "executionInfo": {
          "status": "ok",
          "timestamp": 1533377864525,
          "user_tz": -540,
          "elapsed": 871,
          "user": {
            "displayName": "Yisu Kim",
            "photoUrl": "https://lh3.googleusercontent.com/a/default-user=s128",
            "userId": "115961139854090288133"
          }
        }
      },
      "cell_type": "code",
      "source": [
        "# T\n",
        "print(arr.T)"
      ],
      "execution_count": 27,
      "outputs": [
        {
          "output_type": "stream",
          "text": [
            "[[[ 0  6]\n",
            "  [ 3  9]]\n",
            "\n",
            " [[ 1  7]\n",
            "  [ 4 10]]\n",
            "\n",
            " [[ 2  8]\n",
            "  [ 5 11]]]\n"
          ],
          "name": "stdout"
        }
      ]
    },
    {
      "metadata": {
        "id": "hG6vQoPXIMFq",
        "colab_type": "code",
        "colab": {
          "autoexec": {
            "startup": false,
            "wait_interval": 0
          },
          "base_uri": "https://localhost:8080/",
          "height": 111
        },
        "outputId": "b47d7176-1cdc-4d50-b2db-96a4aeb4d8af",
        "executionInfo": {
          "status": "ok",
          "timestamp": 1533377867632,
          "user_tz": -540,
          "elapsed": 1652,
          "user": {
            "displayName": "Yisu Kim",
            "photoUrl": "https://lh3.googleusercontent.com/a/default-user=s128",
            "userId": "115961139854090288133"
          }
        }
      },
      "cell_type": "code",
      "source": [
        "# transpose\n",
        "print(arr.transpose((1, 0, 2)))"
      ],
      "execution_count": 28,
      "outputs": [
        {
          "output_type": "stream",
          "text": [
            "[[[ 0  1  2]\n",
            "  [ 6  7  8]]\n",
            "\n",
            " [[ 3  4  5]\n",
            "  [ 9 10 11]]]\n"
          ],
          "name": "stdout"
        }
      ]
    },
    {
      "metadata": {
        "id": "7ytTfGqdImUu",
        "colab_type": "code",
        "colab": {
          "autoexec": {
            "startup": false,
            "wait_interval": 0
          },
          "base_uri": "https://localhost:8080/",
          "height": 149
        },
        "outputId": "98089134-e424-4be9-9c35-f54760aefbe3",
        "executionInfo": {
          "status": "ok",
          "timestamp": 1533377869881,
          "user_tz": -540,
          "elapsed": 1409,
          "user": {
            "displayName": "Yisu Kim",
            "photoUrl": "https://lh3.googleusercontent.com/a/default-user=s128",
            "userId": "115961139854090288133"
          }
        }
      },
      "cell_type": "code",
      "source": [
        "# swapaxes\n",
        "print(arr.swapaxes(2, 1))"
      ],
      "execution_count": 29,
      "outputs": [
        {
          "output_type": "stream",
          "text": [
            "[[[ 0  3]\n",
            "  [ 1  4]\n",
            "  [ 2  5]]\n",
            "\n",
            " [[ 6  9]\n",
            "  [ 7 10]\n",
            "  [ 8 11]]]\n"
          ],
          "name": "stdout"
        }
      ]
    },
    {
      "metadata": {
        "id": "JtBUEB5dHaVC",
        "colab_type": "text"
      },
      "cell_type": "markdown",
      "source": [
        "**행렬 내적**"
      ]
    },
    {
      "metadata": {
        "id": "d6T3Q2W6HdKC",
        "colab_type": "code",
        "colab": {
          "autoexec": {
            "startup": false,
            "wait_interval": 0
          },
          "base_uri": "https://localhost:8080/",
          "height": 375
        },
        "outputId": "27db5ae3-bc11-4696-c7bc-e1407173332f",
        "executionInfo": {
          "status": "ok",
          "timestamp": 1533377872458,
          "user_tz": -540,
          "elapsed": 878,
          "user": {
            "displayName": "Yisu Kim",
            "photoUrl": "https://lh3.googleusercontent.com/a/default-user=s128",
            "userId": "115961139854090288133"
          }
        }
      },
      "cell_type": "code",
      "source": [
        "np.dot(arr.T, arr)"
      ],
      "execution_count": 30,
      "outputs": [
        {
          "output_type": "execute_result",
          "data": {
            "text/plain": [
              "array([[[[ 18,  24,  30],\n",
              "         [ 54,  60,  66]],\n",
              "\n",
              "        [[ 27,  39,  51],\n",
              "         [ 99, 111, 123]]],\n",
              "\n",
              "\n",
              "       [[[ 21,  29,  37],\n",
              "         [ 69,  77,  85]],\n",
              "\n",
              "        [[ 30,  44,  58],\n",
              "         [114, 128, 142]]],\n",
              "\n",
              "\n",
              "       [[[ 24,  34,  44],\n",
              "         [ 84,  94, 104]],\n",
              "\n",
              "        [[ 33,  49,  65],\n",
              "         [129, 145, 161]]]])"
            ]
          },
          "metadata": {
            "tags": []
          },
          "execution_count": 30
        }
      ]
    },
    {
      "metadata": {
        "id": "3xWD0gQgj_L-",
        "colab_type": "text"
      },
      "cell_type": "markdown",
      "source": [
        "## Universal Function\n",
        "\n",
        "ufunc 라고도 불린다. <br>\n",
        "ndarray 안에 있는 원소별로 연산을 수행한다."
      ]
    },
    {
      "metadata": {
        "id": "OWMk17Q2BIg4",
        "colab_type": "text"
      },
      "cell_type": "markdown",
      "source": [
        "### 단항 ufunc\n",
        "| function                                          | description                                                  |\n",
        "| ------------------------------------------------- | ------------------------------------------------------------ |\n",
        "| abs, fabs                                         | 각 원소의 절대값을 구한다. 복소수가 아닌 경우 fabs를 사용하여 빠르게 연산한다. |\n",
        "| sqrt                                              | 각 원소의 제곱근을 계산한다. ( arr ** 0.5)                   |\n",
        "| square                                            | 각 원소의 제곰을 계산한다. (arr ** 2)                        |\n",
        "| Exp                                               | 각 원소에 지수 e^x를 계산한다.                               |\n",
        "| Log, log10, log2, log1p                           | 각 원소에 자연로그, 로그10, 로그2, 로그(1+x)를 계산한다.     |\n",
        "| sign                                              | 각 원소의 부호를 계산한다. (양수(1), 0, 음수(-1))            |\n",
        "| ceil                                              | 각 원소의 소수자리를 올린다. 각 원소의 값보다 같거나 큰 정수 중 가장 작은 정수를 반환한다. |\n",
        "| floor                                             | 각 원소의 소수자리를 내린다.                                 |\n",
        "| rint                                              | 각 원소의 소수자리를 반올림한다.                             |\n",
        "| modf                                              | 각 원소의 몫과 나머지를 각각의 배열로 반환한다.              |\n",
        "| isnan                                             | 각각의 원소가 숫자인지 아닌지를(NaN, Not a Number) 나타내는 불리언 배열을 반환한다. |\n",
        "| isfinite, isinf                                   | 배열의 각 원소가 유한한지(non-inf, non-Nan), 무한한지 나타내는 불리언 배열을 반환한다. |\n",
        "| cos, cosh, sin, sinh, tan, tanh                   | 일반 삼각 함수와 쌍곡삼각 함수                               |\n",
        "| arccos, arccosh, arcsin, arcsinh, arctan, arctanh | 역삼각 함수                                                  |\n",
        "| logical_not                                       | 각 원소의 논리 부정(not) 값을 계산한다. (-arr)               |"
      ]
    },
    {
      "metadata": {
        "id": "YYCpKaqBBOFm",
        "colab_type": "text"
      },
      "cell_type": "markdown",
      "source": [
        "### 다항 ufunc\n",
        "\n",
        "| function                                                   | description                                                  |\n",
        "| ---------------------------------------------------------- | ------------------------------------------------------------ |\n",
        "| add                                                        | 두 배열에서 같은 위치의 원소끼리 더한다.                     |\n",
        "| subtract                                                   | 첫 번째 배열의 원소에서 두 번째 배열의 원소를 뺀다.          |\n",
        "| multiply                                                   | 배열의 원소끼리 곱한다.                                      |\n",
        "| divide, floor_divide                                       | 첫 번째 배열의 원소에서 두 번째 배열의 원소를 나눈다. floor_divide는 몫만 취한다. |\n",
        "| power                                                      | 첫 번째 배열의 원소를 두 번째 배열의 원소만큼 제곱한다.      |\n",
        "| maximum, fmax                                              | 두 원소 중 큰 값을 반환한다. fmax는 NaN을 무시한다.          |\n",
        "| minimum, fmin                                              | 두 원소 중 작은 값을 반환한다. fmin은 NaN을 무시한다.        |\n",
        "| mod                                                        | 첫 번째 배열의 원소에서 두 번째 배열의 원소를 나눈 나머지를 구한다. |\n",
        "| copysign                                                   | 첫 번째 배열의 원소의 기호를 두 번째 배열의 원소의 기호로 바꾼다. |\n",
        "| greater, greater_equal, less, less_equal, equal, not_equal | 두 원소 간의 비교 연산(>, >=, <, <=, ==, !=) 결과를 불리언 배열로 반환한다. |\n",
        "| logical_and, logical_or, logical_xor                       | 두 원소 같의 논리 연산(&, &#124;, ^) 결과를 불리언 배열로 반환한다. |"
      ]
    },
    {
      "metadata": {
        "id": "9K7q8aSUkaIC",
        "colab_type": "code",
        "colab": {
          "autoexec": {
            "startup": false,
            "wait_interval": 0
          },
          "base_uri": "https://localhost:8080/",
          "height": 36
        },
        "outputId": "c9089a00-cae7-4b40-a24b-c4e68abbf2ef",
        "executionInfo": {
          "status": "ok",
          "timestamp": 1533377874794,
          "user_tz": -540,
          "elapsed": 968,
          "user": {
            "displayName": "Yisu Kim",
            "photoUrl": "https://lh3.googleusercontent.com/a/default-user=s128",
            "userId": "115961139854090288133"
          }
        }
      },
      "cell_type": "code",
      "source": [
        "arr = np.arange(10)\n",
        "arr"
      ],
      "execution_count": 31,
      "outputs": [
        {
          "output_type": "execute_result",
          "data": {
            "text/plain": [
              "array([0, 1, 2, 3, 4, 5, 6, 7, 8, 9])"
            ]
          },
          "metadata": {
            "tags": []
          },
          "execution_count": 31
        }
      ]
    },
    {
      "metadata": {
        "id": "Du5KPMo9kd7a",
        "colab_type": "code",
        "colab": {
          "autoexec": {
            "startup": false,
            "wait_interval": 0
          },
          "base_uri": "https://localhost:8080/",
          "height": 55
        },
        "outputId": "c07dc744-8ef1-44d7-c554-c435f5f09e76",
        "executionInfo": {
          "status": "ok",
          "timestamp": 1533377877121,
          "user_tz": -540,
          "elapsed": 976,
          "user": {
            "displayName": "Yisu Kim",
            "photoUrl": "https://lh3.googleusercontent.com/a/default-user=s128",
            "userId": "115961139854090288133"
          }
        }
      },
      "cell_type": "code",
      "source": [
        "# sqrt\n",
        "np.sqrt(arr)"
      ],
      "execution_count": 32,
      "outputs": [
        {
          "output_type": "execute_result",
          "data": {
            "text/plain": [
              "array([0.        , 1.        , 1.41421356, 1.73205081, 2.        ,\n",
              "       2.23606798, 2.44948974, 2.64575131, 2.82842712, 3.        ])"
            ]
          },
          "metadata": {
            "tags": []
          },
          "execution_count": 32
        }
      ]
    },
    {
      "metadata": {
        "id": "VFt060o-khvz",
        "colab_type": "code",
        "colab": {
          "autoexec": {
            "startup": false,
            "wait_interval": 0
          },
          "base_uri": "https://localhost:8080/",
          "height": 74
        },
        "outputId": "4932c47a-c3e3-4bce-9b32-e97f05cc8efe",
        "executionInfo": {
          "status": "ok",
          "timestamp": 1533377879825,
          "user_tz": -540,
          "elapsed": 1259,
          "user": {
            "displayName": "Yisu Kim",
            "photoUrl": "https://lh3.googleusercontent.com/a/default-user=s128",
            "userId": "115961139854090288133"
          }
        }
      },
      "cell_type": "code",
      "source": [
        "# exp\n",
        "np.exp(arr)"
      ],
      "execution_count": 33,
      "outputs": [
        {
          "output_type": "execute_result",
          "data": {
            "text/plain": [
              "array([1.00000000e+00, 2.71828183e+00, 7.38905610e+00, 2.00855369e+01,\n",
              "       5.45981500e+01, 1.48413159e+02, 4.03428793e+02, 1.09663316e+03,\n",
              "       2.98095799e+03, 8.10308393e+03])"
            ]
          },
          "metadata": {
            "tags": []
          },
          "execution_count": 33
        }
      ]
    },
    {
      "metadata": {
        "id": "Km9W6gFfkv5Z",
        "colab_type": "code",
        "colab": {
          "autoexec": {
            "startup": false,
            "wait_interval": 0
          },
          "base_uri": "https://localhost:8080/",
          "height": 55
        },
        "outputId": "8f74f168-f0ef-4f47-e5f1-3b0613330014",
        "executionInfo": {
          "status": "ok",
          "timestamp": 1533377882421,
          "user_tz": -540,
          "elapsed": 1054,
          "user": {
            "displayName": "Yisu Kim",
            "photoUrl": "https://lh3.googleusercontent.com/a/default-user=s128",
            "userId": "115961139854090288133"
          }
        }
      },
      "cell_type": "code",
      "source": [
        "x = np.random.randn(4)\n",
        "y = np.random.randn(4)\n",
        "print(x)\n",
        "print(y)"
      ],
      "execution_count": 34,
      "outputs": [
        {
          "output_type": "stream",
          "text": [
            "[-0.67998993  0.55921671  1.38538267  1.91182892]\n",
            "[ 0.41099995  0.96070194  0.00794824 -0.58839729]\n"
          ],
          "name": "stdout"
        }
      ]
    },
    {
      "metadata": {
        "id": "tMM7LIc9k5Po",
        "colab_type": "code",
        "colab": {
          "autoexec": {
            "startup": false,
            "wait_interval": 0
          },
          "base_uri": "https://localhost:8080/",
          "height": 36
        },
        "outputId": "4349f1db-f970-4ecf-d0df-bd515e7d0fc5",
        "executionInfo": {
          "status": "ok",
          "timestamp": 1533377884672,
          "user_tz": -540,
          "elapsed": 883,
          "user": {
            "displayName": "Yisu Kim",
            "photoUrl": "https://lh3.googleusercontent.com/a/default-user=s128",
            "userId": "115961139854090288133"
          }
        }
      },
      "cell_type": "code",
      "source": [
        "# maximum\n",
        "np.maximum(x, y)"
      ],
      "execution_count": 35,
      "outputs": [
        {
          "output_type": "execute_result",
          "data": {
            "text/plain": [
              "array([0.41099995, 0.96070194, 1.38538267, 1.91182892])"
            ]
          },
          "metadata": {
            "tags": []
          },
          "execution_count": 35
        }
      ]
    },
    {
      "metadata": {
        "id": "TxOCWfkClGJr",
        "colab_type": "code",
        "colab": {
          "autoexec": {
            "startup": false,
            "wait_interval": 0
          },
          "base_uri": "https://localhost:8080/",
          "height": 55
        },
        "outputId": "8c34ed84-e0b0-4eef-9805-6fb3a779f18a",
        "executionInfo": {
          "status": "ok",
          "timestamp": 1533377887136,
          "user_tz": -540,
          "elapsed": 1195,
          "user": {
            "displayName": "Yisu Kim",
            "photoUrl": "https://lh3.googleusercontent.com/a/default-user=s128",
            "userId": "115961139854090288133"
          }
        }
      },
      "cell_type": "code",
      "source": [
        "arr = np.random.randn(7) * 5\n",
        "arr"
      ],
      "execution_count": 36,
      "outputs": [
        {
          "output_type": "execute_result",
          "data": {
            "text/plain": [
              "array([ 0.01035373,  5.63483545,  1.5312932 , -0.42721174,  4.79768315,\n",
              "        3.90521721, -1.91668632])"
            ]
          },
          "metadata": {
            "tags": []
          },
          "execution_count": 36
        }
      ]
    },
    {
      "metadata": {
        "id": "0V-LlDNDlLxx",
        "colab_type": "code",
        "colab": {
          "autoexec": {
            "startup": false,
            "wait_interval": 0
          },
          "base_uri": "https://localhost:8080/",
          "height": 55
        },
        "outputId": "25c9e8c6-62b1-4c78-b9bc-e8b6cf2387d1",
        "executionInfo": {
          "status": "ok",
          "timestamp": 1533377890135,
          "user_tz": -540,
          "elapsed": 1118,
          "user": {
            "displayName": "Yisu Kim",
            "photoUrl": "https://lh3.googleusercontent.com/a/default-user=s128",
            "userId": "115961139854090288133"
          }
        }
      },
      "cell_type": "code",
      "source": [
        "# modf\n",
        "np.modf(arr)"
      ],
      "execution_count": 37,
      "outputs": [
        {
          "output_type": "execute_result",
          "data": {
            "text/plain": [
              "(array([ 0.01035373,  0.63483545,  0.5312932 , -0.42721174,  0.79768315,\n",
              "         0.90521721, -0.91668632]), array([ 0.,  5.,  1., -0.,  4.,  3., -1.]))"
            ]
          },
          "metadata": {
            "tags": []
          },
          "execution_count": 37
        }
      ]
    },
    {
      "metadata": {
        "id": "E-59OWFtMFB2",
        "colab_type": "text"
      },
      "cell_type": "markdown",
      "source": [
        "## 벡터화\n",
        "반복문을 작성하지 않아도 배열 연산을 통해 데이터 처리 작업이 가능하다. <br>\n",
        "이처럼 반복문을 명시적으로 제거하는 기법을 벡터화라 한다."
      ]
    },
    {
      "metadata": {
        "id": "vjJ-pkJSMgk8",
        "colab_type": "code",
        "colab": {
          "autoexec": {
            "startup": false,
            "wait_interval": 0
          },
          "base_uri": "https://localhost:8080/",
          "height": 281
        },
        "outputId": "a8fe8dfa-c1b2-4977-c2a1-43d5c2464976",
        "executionInfo": {
          "status": "ok",
          "timestamp": 1533377892659,
          "user_tz": -540,
          "elapsed": 1113,
          "user": {
            "displayName": "Yisu Kim",
            "photoUrl": "https://lh3.googleusercontent.com/a/default-user=s128",
            "userId": "115961139854090288133"
          }
        }
      },
      "cell_type": "code",
      "source": [
        "points = np.arange(-5, 5, 0.01)\n",
        "xs, ys = np.meshgrid(points, points)\n",
        "print(xs)\n",
        "print(ys)"
      ],
      "execution_count": 38,
      "outputs": [
        {
          "output_type": "stream",
          "text": [
            "[[-5.   -4.99 -4.98 ...  4.97  4.98  4.99]\n",
            " [-5.   -4.99 -4.98 ...  4.97  4.98  4.99]\n",
            " [-5.   -4.99 -4.98 ...  4.97  4.98  4.99]\n",
            " ...\n",
            " [-5.   -4.99 -4.98 ...  4.97  4.98  4.99]\n",
            " [-5.   -4.99 -4.98 ...  4.97  4.98  4.99]\n",
            " [-5.   -4.99 -4.98 ...  4.97  4.98  4.99]]\n",
            "[[-5.   -5.   -5.   ... -5.   -5.   -5.  ]\n",
            " [-4.99 -4.99 -4.99 ... -4.99 -4.99 -4.99]\n",
            " [-4.98 -4.98 -4.98 ... -4.98 -4.98 -4.98]\n",
            " ...\n",
            " [ 4.97  4.97  4.97 ...  4.97  4.97  4.97]\n",
            " [ 4.98  4.98  4.98 ...  4.98  4.98  4.98]\n",
            " [ 4.99  4.99  4.99 ...  4.99  4.99  4.99]]\n"
          ],
          "name": "stdout"
        }
      ]
    },
    {
      "metadata": {
        "id": "RVD9xlBTNm4D",
        "colab_type": "code",
        "colab": {
          "autoexec": {
            "startup": false,
            "wait_interval": 0
          }
        }
      },
      "cell_type": "code",
      "source": [
        "import matplotlib.pyplot as plt"
      ],
      "execution_count": 0,
      "outputs": []
    },
    {
      "metadata": {
        "id": "4d43CfeMNqYa",
        "colab_type": "code",
        "colab": {
          "autoexec": {
            "startup": false,
            "wait_interval": 0
          },
          "base_uri": "https://localhost:8080/",
          "height": 262
        },
        "outputId": "d3b35ccc-e81e-4ff5-f5c2-31b9a7e0e2cb",
        "executionInfo": {
          "status": "ok",
          "timestamp": 1533377897576,
          "user_tz": -540,
          "elapsed": 1136,
          "user": {
            "displayName": "Yisu Kim",
            "photoUrl": "https://lh3.googleusercontent.com/a/default-user=s128",
            "userId": "115961139854090288133"
          }
        }
      },
      "cell_type": "code",
      "source": [
        "z = np.sqrt(xs ** 2 + ys ** 2)\n",
        "z"
      ],
      "execution_count": 40,
      "outputs": [
        {
          "output_type": "execute_result",
          "data": {
            "text/plain": [
              "array([[7.07106781, 7.06400028, 7.05693985, ..., 7.04988652, 7.05693985,\n",
              "        7.06400028],\n",
              "       [7.06400028, 7.05692568, 7.04985815, ..., 7.04279774, 7.04985815,\n",
              "        7.05692568],\n",
              "       [7.05693985, 7.04985815, 7.04278354, ..., 7.03571603, 7.04278354,\n",
              "        7.04985815],\n",
              "       ...,\n",
              "       [7.04988652, 7.04279774, 7.03571603, ..., 7.0286414 , 7.03571603,\n",
              "        7.04279774],\n",
              "       [7.05693985, 7.04985815, 7.04278354, ..., 7.03571603, 7.04278354,\n",
              "        7.04985815],\n",
              "       [7.06400028, 7.05692568, 7.04985815, ..., 7.04279774, 7.04985815,\n",
              "        7.05692568]])"
            ]
          },
          "metadata": {
            "tags": []
          },
          "execution_count": 40
        }
      ]
    },
    {
      "metadata": {
        "id": "wSfOfsrHNwwN",
        "colab_type": "code",
        "colab": {
          "autoexec": {
            "startup": false,
            "wait_interval": 0
          },
          "base_uri": "https://localhost:8080/",
          "height": 370
        },
        "outputId": "ee13ac3d-ef14-4400-de60-e37e8844157a",
        "executionInfo": {
          "status": "ok",
          "timestamp": 1533377901011,
          "user_tz": -540,
          "elapsed": 2298,
          "user": {
            "displayName": "Yisu Kim",
            "photoUrl": "https://lh3.googleusercontent.com/a/default-user=s128",
            "userId": "115961139854090288133"
          }
        }
      },
      "cell_type": "code",
      "source": [
        "plt.imshow(z, cmap=plt.cm.gray); plt.colorbar()\n",
        "plt.title(\"Image plot of $\\sqrt{x^2 + y^2}$ for a grid of values\")\n",
        "plt.show()"
      ],
      "execution_count": 41,
      "outputs": [
        {
          "output_type": "display_data",
          "data": {
            "image/png": "[encoded data removed]",
            "text/plain": [
              "<matplotlib.figure.Figure at 0x7fb13ea2ccd0>"
            ]
          },
          "metadata": {
            "tags": []
          }
        }
      ]
    },
    {
      "metadata": {
        "id": "-dgDefhFOm0r",
        "colab_type": "text"
      },
      "cell_type": "markdown",
      "source": [
        "## 조건절\n",
        "\n",
        "numpy.where 함수는 'x if 조건 else y' 같은 삼항식의 벡터화 버전이다."
      ]
    },
    {
      "metadata": {
        "id": "FcPTxynuN5Zn",
        "colab_type": "code",
        "colab": {
          "autoexec": {
            "startup": false,
            "wait_interval": 0
          }
        }
      },
      "cell_type": "code",
      "source": [
        "xarr = np.array([1.1, 1.2, 1.3, 1.4, 1.5])\n",
        "yarr = np.array([2.1, 2.2, 2.3, 2.4, 2.5])\n",
        "cond = np.array([True, False, True, True, False])"
      ],
      "execution_count": 0,
      "outputs": []
    },
    {
      "metadata": {
        "id": "Hb0BKdqzPEKG",
        "colab_type": "code",
        "colab": {
          "autoexec": {
            "startup": false,
            "wait_interval": 0
          },
          "base_uri": "https://localhost:8080/",
          "height": 36
        },
        "outputId": "9338258e-7a22-4255-b366-0151deac762b",
        "executionInfo": {
          "status": "ok",
          "timestamp": 1533377905751,
          "user_tz": -540,
          "elapsed": 886,
          "user": {
            "displayName": "Yisu Kim",
            "photoUrl": "https://lh3.googleusercontent.com/a/default-user=s128",
            "userId": "115961139854090288133"
          }
        }
      },
      "cell_type": "code",
      "source": [
        "# x if 조건 else y\n",
        "result = [(x if c else y) for x, y, c in zip(xarr, yarr, cond)]\n",
        "result"
      ],
      "execution_count": 43,
      "outputs": [
        {
          "output_type": "execute_result",
          "data": {
            "text/plain": [
              "[1.1, 2.2, 1.3, 1.4, 2.5]"
            ]
          },
          "metadata": {
            "tags": []
          },
          "execution_count": 43
        }
      ]
    },
    {
      "metadata": {
        "id": "qV-FDpaRPZN6",
        "colab_type": "code",
        "colab": {
          "autoexec": {
            "startup": false,
            "wait_interval": 0
          },
          "base_uri": "https://localhost:8080/",
          "height": 36
        },
        "outputId": "90e4365e-358a-4ccb-ee5e-94dd5bfa3b1d",
        "executionInfo": {
          "status": "ok",
          "timestamp": 1533377908905,
          "user_tz": -540,
          "elapsed": 1489,
          "user": {
            "displayName": "Yisu Kim",
            "photoUrl": "https://lh3.googleusercontent.com/a/default-user=s128",
            "userId": "115961139854090288133"
          }
        }
      },
      "cell_type": "code",
      "source": [
        "# numpy.where\n",
        "result = np.where(cond, xarr, yarr)\n",
        "result"
      ],
      "execution_count": 44,
      "outputs": [
        {
          "output_type": "execute_result",
          "data": {
            "text/plain": [
              "array([1.1, 2.2, 1.3, 1.4, 2.5])"
            ]
          },
          "metadata": {
            "tags": []
          },
          "execution_count": 44
        }
      ]
    },
    {
      "metadata": {
        "id": "SctkUAdYaBtf",
        "colab_type": "code",
        "colab": {
          "autoexec": {
            "startup": false,
            "wait_interval": 0
          },
          "base_uri": "https://localhost:8080/",
          "height": 92
        },
        "outputId": "1462d7cd-355a-4508-87a6-7e0bc9a0ad7e",
        "executionInfo": {
          "status": "ok",
          "timestamp": 1533377912156,
          "user_tz": -540,
          "elapsed": 1047,
          "user": {
            "displayName": "Yisu Kim",
            "photoUrl": "https://lh3.googleusercontent.com/a/default-user=s128",
            "userId": "115961139854090288133"
          }
        }
      },
      "cell_type": "code",
      "source": [
        "arr = np.random.randn(4, 4)\n",
        "arr"
      ],
      "execution_count": 45,
      "outputs": [
        {
          "output_type": "execute_result",
          "data": {
            "text/plain": [
              "array([[-0.78950341,  0.93850668, -0.10545658,  1.42656437],\n",
              "       [-3.20076705, -0.41804397, -1.53800048,  2.36226729],\n",
              "       [ 1.591079  , -0.93142581, -2.02667746,  2.8007838 ],\n",
              "       [-0.54837567,  0.21736229, -0.16455837, -0.57145378]])"
            ]
          },
          "metadata": {
            "tags": []
          },
          "execution_count": 45
        }
      ]
    },
    {
      "metadata": {
        "id": "_5_PiT_YaFug",
        "colab_type": "code",
        "colab": {
          "autoexec": {
            "startup": false,
            "wait_interval": 0
          },
          "base_uri": "https://localhost:8080/",
          "height": 168
        },
        "outputId": "393d39e0-f546-4892-a971-9565c98e31d6",
        "executionInfo": {
          "status": "ok",
          "timestamp": 1533377914583,
          "user_tz": -540,
          "elapsed": 941,
          "user": {
            "displayName": "Yisu Kim",
            "photoUrl": "https://lh3.googleusercontent.com/a/default-user=s128",
            "userId": "115961139854090288133"
          }
        }
      },
      "cell_type": "code",
      "source": [
        "print(np.where(arr > 0, 2, -2))\n",
        "print(np.where(arr > 0, 2, arr))"
      ],
      "execution_count": 46,
      "outputs": [
        {
          "output_type": "stream",
          "text": [
            "[[-2  2 -2  2]\n",
            " [-2 -2 -2  2]\n",
            " [ 2 -2 -2  2]\n",
            " [-2  2 -2 -2]]\n",
            "[[-0.78950341  2.         -0.10545658  2.        ]\n",
            " [-3.20076705 -0.41804397 -1.53800048  2.        ]\n",
            " [ 2.         -0.93142581 -2.02667746  2.        ]\n",
            " [-0.54837567  2.         -0.16455837 -0.57145378]]\n"
          ],
          "name": "stdout"
        }
      ]
    },
    {
      "metadata": {
        "id": "AvnjXPnxae0c",
        "colab_type": "code",
        "colab": {
          "autoexec": {
            "startup": false,
            "wait_interval": 0
          },
          "base_uri": "https://localhost:8080/",
          "height": 36
        },
        "outputId": "127f3d30-8052-47c2-cd20-f296838311cd",
        "executionInfo": {
          "status": "ok",
          "timestamp": 1533377916876,
          "user_tz": -540,
          "elapsed": 1039,
          "user": {
            "displayName": "Yisu Kim",
            "photoUrl": "https://lh3.googleusercontent.com/a/default-user=s128",
            "userId": "115961139854090288133"
          }
        }
      },
      "cell_type": "code",
      "source": [
        "# for\n",
        "result = []\n",
        "n = 5\n",
        "cond1 = np.array([True, False, True, True, False])\n",
        "cond2 = np.array([False, False, True, False, True])\n",
        "\n",
        "for i in range(n):\n",
        "  if cond1[i] and cond2[i]:\n",
        "    result.append(0)\n",
        "  elif cond1[i]:\n",
        "    result.append(1)\n",
        "  elif cond2[i]:\n",
        "    result.append(2)\n",
        "  else:\n",
        "    result.append(3)\n",
        "\n",
        "result"
      ],
      "execution_count": 47,
      "outputs": [
        {
          "output_type": "execute_result",
          "data": {
            "text/plain": [
              "[1, 3, 0, 1, 2]"
            ]
          },
          "metadata": {
            "tags": []
          },
          "execution_count": 47
        }
      ]
    },
    {
      "metadata": {
        "id": "xBqpeXHObErF",
        "colab_type": "code",
        "colab": {
          "autoexec": {
            "startup": false,
            "wait_interval": 0
          },
          "base_uri": "https://localhost:8080/",
          "height": 36
        },
        "outputId": "ba9a31bb-6cf8-4b65-de74-abd11ec1e555",
        "executionInfo": {
          "status": "ok",
          "timestamp": 1533377920044,
          "user_tz": -540,
          "elapsed": 1137,
          "user": {
            "displayName": "Yisu Kim",
            "photoUrl": "https://lh3.googleusercontent.com/a/default-user=s128",
            "userId": "115961139854090288133"
          }
        }
      },
      "cell_type": "code",
      "source": [
        "np.where(cond1 & cond2, 0,\n",
        "        np.where(cond1, 1,\n",
        "                np.where(cond2, 2, 3)))"
      ],
      "execution_count": 48,
      "outputs": [
        {
          "output_type": "execute_result",
          "data": {
            "text/plain": [
              "array([1, 3, 0, 1, 2])"
            ]
          },
          "metadata": {
            "tags": []
          },
          "execution_count": 48
        }
      ]
    },
    {
      "metadata": {
        "id": "YIq2tMqbbsz5",
        "colab_type": "code",
        "colab": {
          "autoexec": {
            "startup": false,
            "wait_interval": 0
          },
          "base_uri": "https://localhost:8080/",
          "height": 36
        },
        "outputId": "ff134771-1661-4605-ff47-e3fed86bc5d5",
        "executionInfo": {
          "status": "ok",
          "timestamp": 1533377922330,
          "user_tz": -540,
          "elapsed": 887,
          "user": {
            "displayName": "Yisu Kim",
            "photoUrl": "https://lh3.googleusercontent.com/a/default-user=s128",
            "userId": "115961139854090288133"
          }
        }
      },
      "cell_type": "code",
      "source": [
        "1 * (cond1 & ~cond2) + 2 * (cond2 & ~cond1) + 3 * ~(cond1 | cond2)"
      ],
      "execution_count": 49,
      "outputs": [
        {
          "output_type": "execute_result",
          "data": {
            "text/plain": [
              "array([1, 3, 0, 1, 2])"
            ]
          },
          "metadata": {
            "tags": []
          },
          "execution_count": 49
        }
      ]
    },
    {
      "metadata": {
        "id": "5vugtp_meFUz",
        "colab_type": "text"
      },
      "cell_type": "markdown",
      "source": [
        "## 통계 & 수학"
      ]
    },
    {
      "metadata": {
        "id": "P2tmcyIKllJf",
        "colab_type": "text"
      },
      "cell_type": "markdown",
      "source": [
        "| method         | description                                              |\n",
        "| -------------- | -------------------------------------------------------- |\n",
        "| sum            | 배열 전체 혹은 특정 축에 대한 모든 원소의 합을 계산한다. |\n",
        "| mean           | 산술평균을 구한다.                                       |\n",
        "| std, var       | 표준편차(std)와 분산(var)을 구한다.                      |\n",
        "| min, max       | 최소 값, 최대 값                                         |\n",
        "| argmin, argmax | 최소 원소의 색인 값, 최대 원소의 색인 값                 |\n",
        "| cumsum         | 각 원소의 누적 합                                        |\n",
        "| cumprod        | 각 원소의 누적 곱                                        |"
      ]
    },
    {
      "metadata": {
        "id": "LrPhX4NeeBaV",
        "colab_type": "code",
        "colab": {
          "autoexec": {
            "startup": false,
            "wait_interval": 0
          },
          "base_uri": "https://localhost:8080/",
          "height": 74
        },
        "outputId": "d8e5f46b-1f1e-4529-c6c7-3d572833521a",
        "executionInfo": {
          "status": "ok",
          "timestamp": 1533377924661,
          "user_tz": -540,
          "elapsed": 911,
          "user": {
            "displayName": "Yisu Kim",
            "photoUrl": "https://lh3.googleusercontent.com/a/default-user=s128",
            "userId": "115961139854090288133"
          }
        }
      },
      "cell_type": "code",
      "source": [
        "arr = np.arange(1,10).reshape(3, 3)\n",
        "arr"
      ],
      "execution_count": 50,
      "outputs": [
        {
          "output_type": "execute_result",
          "data": {
            "text/plain": [
              "array([[1, 2, 3],\n",
              "       [4, 5, 6],\n",
              "       [7, 8, 9]])"
            ]
          },
          "metadata": {
            "tags": []
          },
          "execution_count": 50
        }
      ]
    },
    {
      "metadata": {
        "id": "FA0O9Z14eKus",
        "colab_type": "code",
        "colab": {
          "autoexec": {
            "startup": false,
            "wait_interval": 0
          },
          "base_uri": "https://localhost:8080/",
          "height": 55
        },
        "outputId": "dd3addcf-4a7d-4b55-a57f-22a4f2ac5eaf",
        "executionInfo": {
          "status": "ok",
          "timestamp": 1533377926550,
          "user_tz": -540,
          "elapsed": 794,
          "user": {
            "displayName": "Yisu Kim",
            "photoUrl": "https://lh3.googleusercontent.com/a/default-user=s128",
            "userId": "115961139854090288133"
          }
        }
      },
      "cell_type": "code",
      "source": [
        "# mean\n",
        "print(arr.mean())\n",
        "print(np.mean(arr))"
      ],
      "execution_count": 51,
      "outputs": [
        {
          "output_type": "stream",
          "text": [
            "5.0\n",
            "5.0\n"
          ],
          "name": "stdout"
        }
      ]
    },
    {
      "metadata": {
        "id": "CnH0ipvMeUVd",
        "colab_type": "code",
        "colab": {
          "autoexec": {
            "startup": false,
            "wait_interval": 0
          },
          "base_uri": "https://localhost:8080/",
          "height": 74
        },
        "outputId": "1a079b83-ddba-4f5a-ead6-f510b13db58d",
        "executionInfo": {
          "status": "ok",
          "timestamp": 1533377928518,
          "user_tz": -540,
          "elapsed": 798,
          "user": {
            "displayName": "Yisu Kim",
            "photoUrl": "https://lh3.googleusercontent.com/a/default-user=s128",
            "userId": "115961139854090288133"
          }
        }
      },
      "cell_type": "code",
      "source": [
        "# sum\n",
        "print(arr.sum())\n",
        "print(arr.sum(axis=0))\n",
        "print(arr.sum(axis=1))"
      ],
      "execution_count": 52,
      "outputs": [
        {
          "output_type": "stream",
          "text": [
            "45\n",
            "[12 15 18]\n",
            "[ 6 15 24]\n"
          ],
          "name": "stdout"
        }
      ]
    },
    {
      "metadata": {
        "id": "XQoYdw8CjtR7",
        "colab_type": "code",
        "colab": {
          "autoexec": {
            "startup": false,
            "wait_interval": 0
          },
          "base_uri": "https://localhost:8080/",
          "height": 74
        },
        "outputId": "6582af09-8856-4c2a-b5da-a369baa3c3d9",
        "executionInfo": {
          "status": "ok",
          "timestamp": 1533377930694,
          "user_tz": -540,
          "elapsed": 1041,
          "user": {
            "displayName": "Yisu Kim",
            "photoUrl": "https://lh3.googleusercontent.com/a/default-user=s128",
            "userId": "115961139854090288133"
          }
        }
      },
      "cell_type": "code",
      "source": [
        "# cumsum\n",
        "arr.cumsum(0)  #  1,       2,       3,\n",
        "               #  5(1+4),  7(2+5),  9(3+6),\n",
        "               # 12(5+7), 15(7+8), 18(9+9)"
      ],
      "execution_count": 53,
      "outputs": [
        {
          "output_type": "execute_result",
          "data": {
            "text/plain": [
              "array([[ 1,  2,  3],\n",
              "       [ 5,  7,  9],\n",
              "       [12, 15, 18]])"
            ]
          },
          "metadata": {
            "tags": []
          },
          "execution_count": 53
        }
      ]
    },
    {
      "metadata": {
        "id": "vo3zBYVRkJpA",
        "colab_type": "code",
        "colab": {
          "autoexec": {
            "startup": false,
            "wait_interval": 0
          },
          "base_uri": "https://localhost:8080/",
          "height": 74
        },
        "outputId": "a6fdf858-99cb-4327-8df2-ca5d23869024",
        "executionInfo": {
          "status": "ok",
          "timestamp": 1533377932748,
          "user_tz": -540,
          "elapsed": 785,
          "user": {
            "displayName": "Yisu Kim",
            "photoUrl": "https://lh3.googleusercontent.com/a/default-user=s128",
            "userId": "115961139854090288133"
          }
        }
      },
      "cell_type": "code",
      "source": [
        "# cumprod\n",
        "arr.cumprod(1)  # 1,  2(1*2),   6(2*3),\n",
        "                # 4, 20(4*5), 120(20*6),\n",
        "                # 7, 56(7*8), 504(56*9)"
      ],
      "execution_count": 54,
      "outputs": [
        {
          "output_type": "execute_result",
          "data": {
            "text/plain": [
              "array([[  1,   2,   6],\n",
              "       [  4,  20, 120],\n",
              "       [  7,  56, 504]])"
            ]
          },
          "metadata": {
            "tags": []
          },
          "execution_count": 54
        }
      ]
    },
    {
      "metadata": {
        "id": "EF1cBIoTe7kc",
        "colab_type": "text"
      },
      "cell_type": "markdown",
      "source": [
        "**Boolean Array**"
      ]
    },
    {
      "metadata": {
        "id": "yipoJhBTe4Bw",
        "colab_type": "code",
        "colab": {
          "autoexec": {
            "startup": false,
            "wait_interval": 0
          },
          "base_uri": "https://localhost:8080/",
          "height": 413
        },
        "outputId": "47c2e26b-19f1-4626-f6f7-838b1a1695bc",
        "executionInfo": {
          "status": "ok",
          "timestamp": 1533377935076,
          "user_tz": -540,
          "elapsed": 856,
          "user": {
            "displayName": "Yisu Kim",
            "photoUrl": "https://lh3.googleusercontent.com/a/default-user=s128",
            "userId": "115961139854090288133"
          }
        }
      },
      "cell_type": "code",
      "source": [
        "arr = np.random.randn(100)\n",
        "print((arr > 0).sum())  # 1(True), 0(False)\n",
        "arr"
      ],
      "execution_count": 55,
      "outputs": [
        {
          "output_type": "stream",
          "text": [
            "50\n"
          ],
          "name": "stdout"
        },
        {
          "output_type": "execute_result",
          "data": {
            "text/plain": [
              "array([ 0.25207935,  0.81481888,  1.15773592,  1.52423585,  0.06948797,\n",
              "       -2.19214756, -0.36536059,  0.19464989,  0.86394551,  1.23498636,\n",
              "        0.07897582,  0.2590409 ,  0.34552035,  0.09876167, -0.05637578,\n",
              "        0.09586193,  1.6282685 ,  0.25134428, -1.28003938,  0.08772238,\n",
              "       -0.49670717, -0.53066668,  0.18846158,  0.93764384,  0.54175386,\n",
              "        1.65306382,  0.11952256, -1.40240299, -0.25515871, -1.29293169,\n",
              "        0.36561034, -0.38182329, -0.60567698,  0.36076611, -0.29272844,\n",
              "       -0.05848432, -0.48477665,  1.35429671,  0.12334355,  0.74178564,\n",
              "        1.05058063,  0.34011861, -1.65430504, -0.7551708 ,  0.23155873,\n",
              "        0.82528141,  0.81412746,  0.95474234,  2.16965194, -1.81092639,\n",
              "       -1.18955645, -2.07304219, -2.34059411, -1.03547085, -0.42033482,\n",
              "       -0.43591024,  0.45561039, -0.2394749 , -2.22529479,  0.34844478,\n",
              "       -0.06150287,  1.03939524, -2.08423693,  1.13033401, -0.22765213,\n",
              "       -0.77423498, -0.36017129, -0.82143176,  1.56508303, -0.11435338,\n",
              "       -1.81227073,  2.45920119, -0.08507391, -2.62797191,  0.52987007,\n",
              "       -1.06790104, -1.69982175,  1.64357972, -1.05635638, -1.01072694,\n",
              "       -0.63455767, -0.06327299, -0.63540078, -0.97441735,  0.29887264,\n",
              "       -0.20278331,  0.73697052, -2.19579643, -0.48949163, -1.12416617,\n",
              "        1.59676056, -0.87263431,  1.69633508,  1.3423527 , -0.02128513,\n",
              "        1.5926968 ,  1.03964838,  1.08665046, -1.00665716,  2.33522776])"
            ]
          },
          "metadata": {
            "tags": []
          },
          "execution_count": 55
        }
      ]
    },
    {
      "metadata": {
        "id": "ep4BPALHlpv6",
        "colab_type": "code",
        "colab": {
          "autoexec": {
            "startup": false,
            "wait_interval": 0
          },
          "base_uri": "https://localhost:8080/",
          "height": 55
        },
        "outputId": "2f539b80-6612-4bed-a235-770d68bee367",
        "executionInfo": {
          "status": "ok",
          "timestamp": 1533377937315,
          "user_tz": -540,
          "elapsed": 992,
          "user": {
            "displayName": "Yisu Kim",
            "photoUrl": "https://lh3.googleusercontent.com/a/default-user=s128",
            "userId": "115961139854090288133"
          }
        }
      },
      "cell_type": "code",
      "source": [
        "arr = np.array([False, False, True, False])\n",
        "\n",
        "# any (True)\n",
        "print(arr.any())\n",
        "\n",
        "# all (True)\n",
        "print(arr.all())"
      ],
      "execution_count": 56,
      "outputs": [
        {
          "output_type": "stream",
          "text": [
            "True\n",
            "False\n"
          ],
          "name": "stdout"
        }
      ]
    },
    {
      "metadata": {
        "id": "kVAx9_blZ5iu",
        "colab_type": "text"
      },
      "cell_type": "markdown",
      "source": [
        "## Sort"
      ]
    },
    {
      "metadata": {
        "id": "MylwmNteZ9JE",
        "colab_type": "code",
        "colab": {
          "autoexec": {
            "startup": false,
            "wait_interval": 0
          },
          "base_uri": "https://localhost:8080/",
          "height": 55
        },
        "outputId": "c4f40ba5-1f42-49ac-b1c6-a9813a30922c",
        "executionInfo": {
          "status": "ok",
          "timestamp": 1533377939863,
          "user_tz": -540,
          "elapsed": 907,
          "user": {
            "displayName": "Yisu Kim",
            "photoUrl": "https://lh3.googleusercontent.com/a/default-user=s128",
            "userId": "115961139854090288133"
          }
        }
      },
      "cell_type": "code",
      "source": [
        "arr = np.random.randn(8)\n",
        "arr"
      ],
      "execution_count": 57,
      "outputs": [
        {
          "output_type": "execute_result",
          "data": {
            "text/plain": [
              "array([ 1.84909095, -0.2696148 ,  0.30914963,  2.19624854,  0.42372714,\n",
              "        0.43190164,  0.62996475, -0.67005497])"
            ]
          },
          "metadata": {
            "tags": []
          },
          "execution_count": 57
        }
      ]
    },
    {
      "metadata": {
        "id": "xwzm6KSoaEDh",
        "colab_type": "code",
        "colab": {
          "autoexec": {
            "startup": false,
            "wait_interval": 0
          },
          "base_uri": "https://localhost:8080/",
          "height": 55
        },
        "outputId": "a90ba92a-ffa1-40e7-a6b7-0853b0d4abc3",
        "executionInfo": {
          "status": "ok",
          "timestamp": 1533377942004,
          "user_tz": -540,
          "elapsed": 966,
          "user": {
            "displayName": "Yisu Kim",
            "photoUrl": "https://lh3.googleusercontent.com/a/default-user=s128",
            "userId": "115961139854090288133"
          }
        }
      },
      "cell_type": "code",
      "source": [
        "arr.sort()\n",
        "arr"
      ],
      "execution_count": 58,
      "outputs": [
        {
          "output_type": "execute_result",
          "data": {
            "text/plain": [
              "array([-0.67005497, -0.2696148 ,  0.30914963,  0.42372714,  0.43190164,\n",
              "        0.62996475,  1.84909095,  2.19624854])"
            ]
          },
          "metadata": {
            "tags": []
          },
          "execution_count": 58
        }
      ]
    },
    {
      "metadata": {
        "id": "Taf6Aq4mzhyg",
        "colab_type": "text"
      },
      "cell_type": "markdown",
      "source": [
        "다차원 배열의 정렬은 axis 옵션 값에 따라 정렬된다. 기본값은 -1이고 가장 안쪽 차원을 기준으로 정렬한다. <br>\n",
        "아래 예제의 경우 (3, 4) 배열을 각각 열 기준(axis=-1 or 1) 행 기준(axis=1)으로 정렬한다."
      ]
    },
    {
      "metadata": {
        "id": "erBOJCHNdgCq",
        "colab_type": "code",
        "colab": {
          "autoexec": {
            "startup": false,
            "wait_interval": 0
          },
          "base_uri": "https://localhost:8080/",
          "height": 74
        },
        "outputId": "058fa8da-1578-4ca5-c3eb-2f385402cc3f",
        "executionInfo": {
          "status": "ok",
          "timestamp": 1533377944801,
          "user_tz": -540,
          "elapsed": 1419,
          "user": {
            "displayName": "Yisu Kim",
            "photoUrl": "https://lh3.googleusercontent.com/a/default-user=s128",
            "userId": "115961139854090288133"
          }
        }
      },
      "cell_type": "code",
      "source": [
        "arr = np.array([[5, 3, 7, 1], [0, 2, 6, 5], [3, 2, 9, 8]])\n",
        "arr"
      ],
      "execution_count": 59,
      "outputs": [
        {
          "output_type": "execute_result",
          "data": {
            "text/plain": [
              "array([[5, 3, 7, 1],\n",
              "       [0, 2, 6, 5],\n",
              "       [3, 2, 9, 8]])"
            ]
          },
          "metadata": {
            "tags": []
          },
          "execution_count": 59
        }
      ]
    },
    {
      "metadata": {
        "id": "pGAq0CoAc4ks",
        "colab_type": "code",
        "colab": {
          "autoexec": {
            "startup": false,
            "wait_interval": 0
          },
          "base_uri": "https://localhost:8080/",
          "height": 74
        },
        "outputId": "c1ab193c-803f-45ae-f2b3-247d09daacfb",
        "executionInfo": {
          "status": "ok",
          "timestamp": 1533377946894,
          "user_tz": -540,
          "elapsed": 850,
          "user": {
            "displayName": "Yisu Kim",
            "photoUrl": "https://lh3.googleusercontent.com/a/default-user=s128",
            "userId": "115961139854090288133"
          }
        }
      },
      "cell_type": "code",
      "source": [
        "arr2 = arr.copy()\n",
        "arr2.sort()  # == .sort(-1)\n",
        "arr2"
      ],
      "execution_count": 60,
      "outputs": [
        {
          "output_type": "execute_result",
          "data": {
            "text/plain": [
              "array([[1, 3, 5, 7],\n",
              "       [0, 2, 5, 6],\n",
              "       [2, 3, 8, 9]])"
            ]
          },
          "metadata": {
            "tags": []
          },
          "execution_count": 60
        }
      ]
    },
    {
      "metadata": {
        "id": "f3NeW_tazMAH",
        "colab_type": "code",
        "colab": {
          "autoexec": {
            "startup": false,
            "wait_interval": 0
          },
          "base_uri": "https://localhost:8080/",
          "height": 74
        },
        "outputId": "85cd7470-a218-4fde-d7bb-30d95411e971",
        "executionInfo": {
          "status": "ok",
          "timestamp": 1533377949132,
          "user_tz": -540,
          "elapsed": 776,
          "user": {
            "displayName": "Yisu Kim",
            "photoUrl": "https://lh3.googleusercontent.com/a/default-user=s128",
            "userId": "115961139854090288133"
          }
        }
      },
      "cell_type": "code",
      "source": [
        "arr2 = arr.copy()\n",
        "arr2.sort(0)\n",
        "arr2"
      ],
      "execution_count": 61,
      "outputs": [
        {
          "output_type": "execute_result",
          "data": {
            "text/plain": [
              "array([[0, 2, 6, 1],\n",
              "       [3, 2, 7, 5],\n",
              "       [5, 3, 9, 8]])"
            ]
          },
          "metadata": {
            "tags": []
          },
          "execution_count": 61
        }
      ]
    },
    {
      "metadata": {
        "id": "5lEF6is7dM3f",
        "colab_type": "code",
        "colab": {
          "autoexec": {
            "startup": false,
            "wait_interval": 0
          },
          "base_uri": "https://localhost:8080/",
          "height": 74
        },
        "outputId": "ce714b01-e874-4e61-ac2a-477c0bb79210",
        "executionInfo": {
          "status": "ok",
          "timestamp": 1533377951199,
          "user_tz": -540,
          "elapsed": 846,
          "user": {
            "displayName": "Yisu Kim",
            "photoUrl": "https://lh3.googleusercontent.com/a/default-user=s128",
            "userId": "115961139854090288133"
          }
        }
      },
      "cell_type": "code",
      "source": [
        "arr2 = arr.copy()\n",
        "arr2.sort(1)\n",
        "arr2"
      ],
      "execution_count": 62,
      "outputs": [
        {
          "output_type": "execute_result",
          "data": {
            "text/plain": [
              "array([[1, 3, 5, 7],\n",
              "       [0, 2, 5, 6],\n",
              "       [2, 3, 8, 9]])"
            ]
          },
          "metadata": {
            "tags": []
          },
          "execution_count": 62
        }
      ]
    },
    {
      "metadata": {
        "id": "ifwwm5V_0vND",
        "colab_type": "text"
      },
      "cell_type": "markdown",
      "source": [
        "## Set function"
      ]
    },
    {
      "metadata": {
        "id": "KCF7zwpL1hXo",
        "colab_type": "text"
      },
      "cell_type": "markdown",
      "source": [
        "| method            | description                                                  |\n",
        "| ----------------- | ------------------------------------------------------------ |\n",
        "| unique(x)         | 배열에서 중복된 원소를 제거한 후 정렬하여 반환한다.          |\n",
        "| intersect1d(x, y) | 두 배열에 공통적으로 존재하는 원소를 정렬하여 반환한다.      |\n",
        "| union1d(x, y)     | 두 배열의 합집합을 반환한다.                                 |\n",
        "| in1d(x, y)        | x의 원소 중 y의 원소를 포함하는지를 나타내는 불리언 배열을 반환한다. |\n",
        "| setdiff1d(x, y)   | 두 배열의 차집합을 반환한다.                                 |\n",
        "| setxor1d(x, y)    | 한 배열에는 포함되지만 두 배열 모두에는 포함되지 않는 대칭차집합을 반환한다. |"
      ]
    },
    {
      "metadata": {
        "id": "5VOfSrDs3QWe",
        "colab_type": "code",
        "colab": {
          "autoexec": {
            "startup": false,
            "wait_interval": 0
          },
          "base_uri": "https://localhost:8080/",
          "height": 74
        },
        "outputId": "ce80d644-7c67-4c27-bc32-f59ad4c500c1",
        "executionInfo": {
          "status": "ok",
          "timestamp": 1533377953153,
          "user_tz": -540,
          "elapsed": 837,
          "user": {
            "displayName": "Yisu Kim",
            "photoUrl": "https://lh3.googleusercontent.com/a/default-user=s128",
            "userId": "115961139854090288133"
          }
        }
      },
      "cell_type": "code",
      "source": [
        "arr"
      ],
      "execution_count": 63,
      "outputs": [
        {
          "output_type": "execute_result",
          "data": {
            "text/plain": [
              "array([[5, 3, 7, 1],\n",
              "       [0, 2, 6, 5],\n",
              "       [3, 2, 9, 8]])"
            ]
          },
          "metadata": {
            "tags": []
          },
          "execution_count": 63
        }
      ]
    },
    {
      "metadata": {
        "id": "pRijYJE-00DZ",
        "colab_type": "code",
        "colab": {
          "autoexec": {
            "startup": false,
            "wait_interval": 0
          },
          "base_uri": "https://localhost:8080/",
          "height": 36
        },
        "outputId": "3f517703-a055-419b-e7d0-ce490b36b5da",
        "executionInfo": {
          "status": "ok",
          "timestamp": 1533377955308,
          "user_tz": -540,
          "elapsed": 1232,
          "user": {
            "displayName": "Yisu Kim",
            "photoUrl": "https://lh3.googleusercontent.com/a/default-user=s128",
            "userId": "115961139854090288133"
          }
        }
      },
      "cell_type": "code",
      "source": [
        "np.unique(arr)"
      ],
      "execution_count": 64,
      "outputs": [
        {
          "output_type": "execute_result",
          "data": {
            "text/plain": [
              "array([0, 1, 2, 3, 5, 6, 7, 8, 9])"
            ]
          },
          "metadata": {
            "tags": []
          },
          "execution_count": 64
        }
      ]
    },
    {
      "metadata": {
        "id": "J042r7y23XtC",
        "colab_type": "code",
        "colab": {
          "autoexec": {
            "startup": false,
            "wait_interval": 0
          },
          "base_uri": "https://localhost:8080/",
          "height": 55
        },
        "outputId": "802f4f31-d041-44f5-b15e-72c2282204ea",
        "executionInfo": {
          "status": "ok",
          "timestamp": 1533377957263,
          "user_tz": -540,
          "elapsed": 789,
          "user": {
            "displayName": "Yisu Kim",
            "photoUrl": "https://lh3.googleusercontent.com/a/default-user=s128",
            "userId": "115961139854090288133"
          }
        }
      },
      "cell_type": "code",
      "source": [
        "np.in1d(arr, [2, 3, 5])"
      ],
      "execution_count": 65,
      "outputs": [
        {
          "output_type": "execute_result",
          "data": {
            "text/plain": [
              "array([ True,  True, False, False, False,  True, False,  True,  True,\n",
              "        True, False, False])"
            ]
          },
          "metadata": {
            "tags": []
          },
          "execution_count": 65
        }
      ]
    },
    {
      "metadata": {
        "id": "2rM6S9zY4mRm",
        "colab_type": "text"
      },
      "cell_type": "markdown",
      "source": [
        "## File IO"
      ]
    },
    {
      "metadata": {
        "id": "GS0L2IUw4qhx",
        "colab_type": "code",
        "colab": {
          "autoexec": {
            "startup": false,
            "wait_interval": 0
          }
        }
      },
      "cell_type": "code",
      "source": [
        "# save\n",
        "np.save('arr', arr)  # arr.npy\n",
        "\n",
        "# savez\n",
        "np.savez('arr.npz', a=arr, b=arr2)"
      ],
      "execution_count": 0,
      "outputs": []
    },
    {
      "metadata": {
        "id": "AI3u0kbm5cVk",
        "colab_type": "code",
        "colab": {
          "autoexec": {
            "startup": false,
            "wait_interval": 0
          },
          "base_uri": "https://localhost:8080/",
          "height": 130
        },
        "outputId": "3488bff1-afe7-4858-f787-2b1521646ea5",
        "executionInfo": {
          "status": "ok",
          "timestamp": 1533377960774,
          "user_tz": -540,
          "elapsed": 804,
          "user": {
            "displayName": "Yisu Kim",
            "photoUrl": "https://lh3.googleusercontent.com/a/default-user=s128",
            "userId": "115961139854090288133"
          }
        }
      },
      "cell_type": "code",
      "source": [
        "# load .npy\n",
        "arch = np.load('arr.npy')\n",
        "print(arch)\n",
        "\n",
        "# load .npz\n",
        "arch2 = np.load('arr.npz')\n",
        "print(arch2['b'])"
      ],
      "execution_count": 67,
      "outputs": [
        {
          "output_type": "stream",
          "text": [
            "[[5 3 7 1]\n",
            " [0 2 6 5]\n",
            " [3 2 9 8]]\n",
            "[[1 3 5 7]\n",
            " [0 2 5 6]\n",
            " [2 3 8 9]]\n"
          ],
          "name": "stdout"
        }
      ]
    },
    {
      "metadata": {
        "id": "BArAdqyr5zB5",
        "colab_type": "code",
        "colab": {
          "autoexec": {
            "startup": false,
            "wait_interval": 0
          }
        }
      },
      "cell_type": "code",
      "source": [
        "arr = np.loadtxt('test.txt', delimiter=',')\n",
        "arr"
      ],
      "execution_count": 0,
      "outputs": []
    },
    {
      "metadata": {
        "id": "UqNhw9XU5-4W",
        "colab_type": "text"
      },
      "cell_type": "markdown",
      "source": [
        "## Linear Algebra"
      ]
    },
    {
      "metadata": {
        "id": "iI0S_tX86E-t",
        "colab_type": "text"
      },
      "cell_type": "markdown",
      "source": [
        "**행렬 곱셈**"
      ]
    },
    {
      "metadata": {
        "id": "-z3Q2oVr6chi",
        "colab_type": "code",
        "colab": {
          "autoexec": {
            "startup": false,
            "wait_interval": 0
          },
          "base_uri": "https://localhost:8080/",
          "height": 111
        },
        "outputId": "aab604cf-0f1b-4e83-8c78-e1fe9699c5ee",
        "executionInfo": {
          "status": "ok",
          "timestamp": 1533377994974,
          "user_tz": -540,
          "elapsed": 1597,
          "user": {
            "displayName": "Yisu Kim",
            "photoUrl": "https://lh3.googleusercontent.com/a/default-user=s128",
            "userId": "115961139854090288133"
          }
        }
      },
      "cell_type": "code",
      "source": [
        "x = np.array([[1., 2., 3.], [4., 5., 6.]])\n",
        "y = np.array([[6., 3.], [-1., 7.], [8., 9.]])\n",
        "print(x)\n",
        "print(y)"
      ],
      "execution_count": 69,
      "outputs": [
        {
          "output_type": "stream",
          "text": [
            "[[1. 2. 3.]\n",
            " [4. 5. 6.]]\n",
            "[[ 6.  3.]\n",
            " [-1.  7.]\n",
            " [ 8.  9.]]\n"
          ],
          "name": "stdout"
        }
      ]
    },
    {
      "metadata": {
        "id": "UPCrO6R_6tVB",
        "colab_type": "code",
        "colab": {
          "autoexec": {
            "startup": false,
            "wait_interval": 0
          },
          "base_uri": "https://localhost:8080/",
          "height": 55
        },
        "outputId": "82386733-10e1-4bc7-87aa-1991d2b3a066",
        "executionInfo": {
          "status": "ok",
          "timestamp": 1533377998261,
          "user_tz": -540,
          "elapsed": 1014,
          "user": {
            "displayName": "Yisu Kim",
            "photoUrl": "https://lh3.googleusercontent.com/a/default-user=s128",
            "userId": "115961139854090288133"
          }
        }
      },
      "cell_type": "code",
      "source": [
        "# dot\n",
        "x.dot(y)  # np.dot(x, y)"
      ],
      "execution_count": 70,
      "outputs": [
        {
          "output_type": "execute_result",
          "data": {
            "text/plain": [
              "array([[ 28.,  44.],\n",
              "       [ 67., 101.]])"
            ]
          },
          "metadata": {
            "tags": []
          },
          "execution_count": 70
        }
      ]
    },
    {
      "metadata": {
        "id": "rvYD9Kmv7T1J",
        "colab_type": "text"
      },
      "cell_type": "markdown",
      "source": [
        "### numpy.linalg\n",
        "\n",
        "행렬 분할, 역행렬, 행렬식, ..."
      ]
    },
    {
      "metadata": {
        "id": "O3eEGBsE7QbE",
        "colab_type": "code",
        "colab": {
          "autoexec": {
            "startup": false,
            "wait_interval": 0
          }
        }
      },
      "cell_type": "code",
      "source": [
        "from numpy.linalg import inv, qr"
      ],
      "execution_count": 0,
      "outputs": []
    },
    {
      "metadata": {
        "id": "jqtcrQM-7xQn",
        "colab_type": "code",
        "colab": {
          "autoexec": {
            "startup": false,
            "wait_interval": 0
          },
          "base_uri": "https://localhost:8080/",
          "height": 74
        },
        "outputId": "3f851b84-573a-4f70-a0bb-da38b16d4122",
        "executionInfo": {
          "status": "ok",
          "timestamp": 1533378004123,
          "user_tz": -540,
          "elapsed": 1078,
          "user": {
            "displayName": "Yisu Kim",
            "photoUrl": "https://lh3.googleusercontent.com/a/default-user=s128",
            "userId": "115961139854090288133"
          }
        }
      },
      "cell_type": "code",
      "source": [
        "X = np.random.randn(3, 3)\n",
        "X"
      ],
      "execution_count": 72,
      "outputs": [
        {
          "output_type": "execute_result",
          "data": {
            "text/plain": [
              "array([[ 2.15097274, -0.68199227,  0.51550812],\n",
              "       [-0.4123595 ,  1.53397977,  0.46460462],\n",
              "       [-1.80307773,  1.47137073, -1.58884043]])"
            ]
          },
          "metadata": {
            "tags": []
          },
          "execution_count": 72
        }
      ]
    },
    {
      "metadata": {
        "id": "5JjQ2vsc75Hb",
        "colab_type": "code",
        "colab": {
          "autoexec": {
            "startup": false,
            "wait_interval": 0
          },
          "base_uri": "https://localhost:8080/",
          "height": 74
        },
        "outputId": "8eac76de-88fe-48b3-8d2f-9bd06639c459",
        "executionInfo": {
          "status": "ok",
          "timestamp": 1533378007743,
          "user_tz": -540,
          "elapsed": 1229,
          "user": {
            "displayName": "Yisu Kim",
            "photoUrl": "https://lh3.googleusercontent.com/a/default-user=s128",
            "userId": "115961139854090288133"
          }
        }
      },
      "cell_type": "code",
      "source": [
        "mat = X.T.dot(X)\n",
        "mat"
      ],
      "execution_count": 73,
      "outputs": [
        {
          "output_type": "execute_result",
          "data": {
            "text/plain": [
              "array([[ 8.04781342, -4.75249372,  3.78206259],\n",
              "       [-4.75249372,  4.98313922, -1.97665177],\n",
              "       [ 3.78206259, -1.97665177,  3.00601998]])"
            ]
          },
          "metadata": {
            "tags": []
          },
          "execution_count": 73
        }
      ]
    },
    {
      "metadata": {
        "id": "QlfbA-fv8EIw",
        "colab_type": "code",
        "colab": {
          "autoexec": {
            "startup": false,
            "wait_interval": 0
          },
          "base_uri": "https://localhost:8080/",
          "height": 74
        },
        "outputId": "eede7802-54d2-476b-8189-aa5bf8bcae77",
        "executionInfo": {
          "status": "ok",
          "timestamp": 1533378011072,
          "user_tz": -540,
          "elapsed": 1412,
          "user": {
            "displayName": "Yisu Kim",
            "photoUrl": "https://lh3.googleusercontent.com/a/default-user=s128",
            "userId": "115961139854090288133"
          }
        }
      },
      "cell_type": "code",
      "source": [
        "inv(mat)"
      ],
      "execution_count": 74,
      "outputs": [
        {
          "output_type": "execute_result",
          "data": {
            "text/plain": [
              "array([[ 0.52745846,  0.3244264 , -0.45029737],\n",
              "       [ 0.3244264 ,  0.4710375 , -0.09844374],\n",
              "       [-0.45029737, -0.09844374,  0.8344801 ]])"
            ]
          },
          "metadata": {
            "tags": []
          },
          "execution_count": 74
        }
      ]
    },
    {
      "metadata": {
        "id": "l3oKijNU8G-s",
        "colab_type": "code",
        "colab": {
          "autoexec": {
            "startup": false,
            "wait_interval": 0
          },
          "base_uri": "https://localhost:8080/",
          "height": 74
        },
        "outputId": "4d544a30-b5fa-4349-b83b-20a4e2f4f53e",
        "executionInfo": {
          "status": "ok",
          "timestamp": 1533378014885,
          "user_tz": -540,
          "elapsed": 1186,
          "user": {
            "displayName": "Yisu Kim",
            "photoUrl": "https://lh3.googleusercontent.com/a/default-user=s128",
            "userId": "115961139854090288133"
          }
        }
      },
      "cell_type": "code",
      "source": [
        "mat.dot(inv(mat))"
      ],
      "execution_count": 75,
      "outputs": [
        {
          "output_type": "execute_result",
          "data": {
            "text/plain": [
              "array([[ 1.00000000e+00, -1.91736386e-16,  3.34977806e-16],\n",
              "       [-6.28004698e-16,  1.00000000e+00,  4.59476813e-16],\n",
              "       [ 2.88753627e-16, -2.17976749e-16,  1.00000000e+00]])"
            ]
          },
          "metadata": {
            "tags": []
          },
          "execution_count": 75
        }
      ]
    },
    {
      "metadata": {
        "id": "HNmAQi7C8jaH",
        "colab_type": "code",
        "colab": {
          "autoexec": {
            "startup": false,
            "wait_interval": 0
          },
          "base_uri": "https://localhost:8080/",
          "height": 130
        },
        "outputId": "3da4e5fd-fb9c-4d7d-ec3b-29844b9f56c7",
        "executionInfo": {
          "status": "ok",
          "timestamp": 1533378017650,
          "user_tz": -540,
          "elapsed": 1272,
          "user": {
            "displayName": "Yisu Kim",
            "photoUrl": "https://lh3.googleusercontent.com/a/default-user=s128",
            "userId": "115961139854090288133"
          }
        }
      },
      "cell_type": "code",
      "source": [
        "q, r = qr(mat)\n",
        "print(q)\n",
        "print(r)"
      ],
      "execution_count": 76,
      "outputs": [
        {
          "output_type": "stream",
          "text": [
            "[[-0.79819352 -0.37386512 -0.47234731]\n",
            " [ 0.47135905 -0.87587507 -0.10326428]\n",
            " [-0.37511032 -0.30507006  0.87534251]]\n",
            "[[-10.08253415   6.88371994  -5.07811966]\n",
            " [  0.          -1.98479851  -0.59972796]\n",
            " [  0.           0.           1.04896751]]\n"
          ],
          "name": "stdout"
        }
      ]
    },
    {
      "metadata": {
        "id": "HOiZjuM98-qd",
        "colab_type": "text"
      },
      "cell_type": "markdown",
      "source": [
        "## 난수 생성"
      ]
    },
    {
      "metadata": {
        "id": "HcB0TBZA9HFf",
        "colab_type": "code",
        "colab": {
          "autoexec": {
            "startup": false,
            "wait_interval": 0
          },
          "base_uri": "https://localhost:8080/",
          "height": 92
        },
        "outputId": "d8512f6d-ea73-4e7c-a9b4-faca5fd8cd9f",
        "executionInfo": {
          "status": "ok",
          "timestamp": 1533378021161,
          "user_tz": -540,
          "elapsed": 1167,
          "user": {
            "displayName": "Yisu Kim",
            "photoUrl": "https://lh3.googleusercontent.com/a/default-user=s128",
            "userId": "115961139854090288133"
          }
        }
      },
      "cell_type": "code",
      "source": [
        "samples = np.random.normal(size=(4, 4))\n",
        "samples"
      ],
      "execution_count": 77,
      "outputs": [
        {
          "output_type": "execute_result",
          "data": {
            "text/plain": [
              "array([[ 0.59876659,  1.23891068, -2.46348732,  0.39647581],\n",
              "       [ 0.98250456, -1.80610141,  0.16697942,  0.05818455],\n",
              "       [-0.04969265,  0.98030748,  1.57590331, -0.57162331],\n",
              "       [ 1.06529838,  0.6525983 ,  0.32397744, -2.26755945]])"
            ]
          },
          "metadata": {
            "tags": []
          },
          "execution_count": 77
        }
      ]
    },
    {
      "metadata": {
        "id": "_Jql7gb3Ff5A",
        "colab_type": "text"
      },
      "cell_type": "markdown",
      "source": [
        "## Example: 계단 오르내리기"
      ]
    },
    {
      "metadata": {
        "id": "NAigXoBUGnk0",
        "colab_type": "code",
        "colab": {
          "autoexec": {
            "startup": false,
            "wait_interval": 0
          }
        }
      },
      "cell_type": "code",
      "source": [
        "import numpy as np"
      ],
      "execution_count": 0,
      "outputs": []
    },
    {
      "metadata": {
        "id": "1TTEIrFBFNmi",
        "colab_type": "code",
        "colab": {
          "autoexec": {
            "startup": false,
            "wait_interval": 0
          },
          "base_uri": "https://localhost:8080/",
          "height": 885
        },
        "outputId": "12112e71-23d8-4c86-ecf7-1016e06aa68c",
        "executionInfo": {
          "status": "ok",
          "timestamp": 1533378026756,
          "user_tz": -540,
          "elapsed": 1344,
          "user": {
            "displayName": "Yisu Kim",
            "photoUrl": "https://lh3.googleusercontent.com/a/default-user=s128",
            "userId": "115961139854090288133"
          }
        }
      },
      "cell_type": "code",
      "source": [
        "nsteps = 1000\n",
        "draws = np.random.randint(0, 2, size=nsteps)\n",
        "draws"
      ],
      "execution_count": 79,
      "outputs": [
        {
          "output_type": "execute_result",
          "data": {
            "text/plain": [
              "array([0, 0, 0, 0, 0, 1, 1, 1, 0, 0, 0, 0, 1, 1, 1, 1, 0, 0, 0, 1, 0, 1,\n",
              "       1, 0, 0, 0, 0, 1, 0, 0, 0, 0, 0, 0, 0, 0, 1, 0, 1, 0, 0, 1, 0, 1,\n",
              "       1, 1, 0, 1, 0, 1, 0, 1, 1, 1, 1, 0, 0, 0, 1, 1, 1, 0, 1, 0, 1, 0,\n",
              "       1, 1, 1, 1, 1, 0, 0, 0, 0, 1, 0, 1, 0, 0, 1, 1, 1, 0, 0, 0, 1, 0,\n",
              "       1, 0, 0, 0, 1, 1, 1, 0, 0, 0, 0, 0, 1, 0, 1, 1, 1, 0, 0, 1, 0, 0,\n",
              "       1, 0, 0, 1, 1, 1, 0, 1, 0, 1, 0, 1, 0, 1, 1, 1, 1, 1, 0, 0, 1, 1,\n",
              "       0, 0, 1, 1, 0, 1, 0, 0, 0, 1, 1, 0, 0, 1, 0, 1, 1, 0, 1, 0, 0, 0,\n",
              "       0, 0, 1, 1, 1, 0, 1, 1, 0, 0, 0, 1, 1, 1, 0, 1, 1, 0, 0, 1, 1, 0,\n",
              "       0, 1, 1, 1, 1, 1, 1, 1, 1, 1, 1, 1, 1, 0, 1, 1, 0, 0, 0, 1, 1, 0,\n",
              "       1, 0, 1, 0, 1, 1, 1, 0, 0, 0, 0, 1, 1, 1, 0, 0, 1, 1, 0, 1, 1, 1,\n",
              "       1, 0, 1, 0, 1, 0, 0, 1, 0, 1, 0, 1, 0, 0, 0, 1, 0, 0, 1, 0, 1, 1,\n",
              "       0, 0, 0, 1, 0, 1, 0, 0, 1, 0, 0, 1, 0, 1, 1, 0, 1, 1, 0, 1, 0, 0,\n",
              "       0, 1, 1, 1, 0, 1, 0, 1, 1, 1, 1, 1, 0, 0, 1, 1, 0, 0, 0, 0, 1, 0,\n",
              "       1, 0, 0, 1, 1, 0, 0, 1, 1, 1, 0, 1, 0, 0, 1, 1, 0, 0, 0, 0, 1, 0,\n",
              "       0, 1, 1, 0, 1, 1, 1, 1, 1, 1, 0, 1, 1, 1, 0, 0, 1, 1, 0, 1, 0, 1,\n",
              "       0, 1, 0, 0, 1, 1, 1, 0, 1, 0, 1, 0, 1, 0, 1, 0, 1, 1, 1, 0, 1, 0,\n",
              "       1, 0, 0, 1, 0, 1, 1, 0, 0, 0, 0, 0, 1, 0, 1, 1, 1, 0, 0, 0, 0, 1,\n",
              "       1, 1, 1, 0, 0, 0, 0, 1, 1, 0, 1, 1, 1, 1, 1, 1, 1, 0, 1, 0, 0, 0,\n",
              "       0, 1, 1, 0, 0, 1, 1, 0, 1, 0, 1, 1, 0, 0, 1, 0, 1, 1, 1, 0, 1, 1,\n",
              "       1, 1, 0, 0, 1, 1, 1, 0, 0, 1, 1, 0, 0, 1, 1, 1, 0, 0, 0, 1, 1, 1,\n",
              "       0, 0, 1, 1, 0, 1, 0, 1, 1, 1, 1, 0, 1, 1, 1, 1, 1, 0, 1, 0, 0, 1,\n",
              "       0, 1, 0, 0, 1, 0, 1, 0, 0, 1, 0, 0, 0, 0, 0, 1, 1, 0, 1, 1, 0, 0,\n",
              "       0, 0, 1, 0, 0, 0, 1, 1, 0, 1, 0, 0, 0, 0, 0, 1, 0, 0, 1, 0, 0, 1,\n",
              "       0, 0, 1, 1, 1, 1, 1, 1, 1, 0, 0, 1, 1, 0, 0, 0, 1, 0, 1, 1, 0, 0,\n",
              "       1, 0, 0, 0, 1, 1, 1, 0, 1, 1, 1, 1, 0, 0, 1, 1, 1, 0, 1, 0, 1, 0,\n",
              "       0, 1, 0, 0, 1, 1, 0, 1, 1, 0, 0, 0, 1, 1, 0, 0, 1, 0, 1, 0, 1, 1,\n",
              "       0, 1, 0, 1, 1, 0, 0, 0, 0, 0, 0, 1, 0, 1, 1, 0, 1, 1, 0, 1, 0, 1,\n",
              "       0, 0, 1, 0, 0, 0, 0, 0, 1, 0, 0, 0, 1, 1, 1, 0, 0, 0, 0, 0, 1, 1,\n",
              "       0, 1, 0, 0, 1, 0, 0, 1, 1, 1, 1, 1, 0, 1, 1, 1, 1, 1, 1, 1, 1, 1,\n",
              "       1, 1, 1, 1, 1, 1, 1, 0, 0, 0, 1, 0, 0, 0, 0, 1, 1, 1, 1, 0, 1, 1,\n",
              "       1, 1, 1, 1, 1, 0, 0, 1, 0, 0, 0, 1, 1, 1, 0, 0, 1, 1, 1, 1, 1, 0,\n",
              "       0, 1, 0, 0, 0, 1, 1, 0, 0, 0, 1, 0, 1, 0, 1, 1, 0, 0, 0, 0, 0, 0,\n",
              "       1, 0, 1, 1, 1, 1, 1, 1, 1, 0, 1, 1, 1, 0, 0, 1, 1, 1, 0, 0, 1, 0,\n",
              "       0, 0, 1, 0, 1, 0, 0, 0, 0, 1, 1, 0, 1, 1, 0, 1, 0, 1, 0, 1, 0, 0,\n",
              "       1, 1, 1, 1, 1, 0, 1, 1, 1, 1, 0, 0, 0, 1, 1, 1, 1, 0, 1, 1, 1, 1,\n",
              "       0, 1, 0, 0, 1, 0, 0, 1, 1, 0, 1, 0, 1, 1, 1, 0, 0, 1, 1, 1, 1, 0,\n",
              "       1, 0, 0, 0, 1, 0, 0, 1, 1, 0, 1, 0, 1, 1, 0, 0, 0, 0, 1, 1, 0, 1,\n",
              "       0, 0, 1, 0, 0, 1, 1, 0, 1, 1, 1, 0, 1, 0, 0, 1, 0, 0, 0, 1, 1, 1,\n",
              "       0, 0, 1, 1, 1, 0, 0, 1, 1, 1, 0, 1, 0, 0, 0, 0, 1, 1, 0, 0, 1, 0,\n",
              "       0, 1, 1, 1, 0, 0, 0, 1, 0, 1, 0, 0, 1, 0, 0, 1, 1, 0, 1, 0, 1, 1,\n",
              "       0, 0, 1, 0, 0, 1, 1, 0, 0, 1, 1, 0, 1, 1, 1, 0, 1, 1, 0, 0, 1, 0,\n",
              "       1, 0, 1, 0, 0, 0, 1, 1, 1, 1, 1, 1, 0, 1, 1, 1, 1, 1, 1, 1, 1, 0,\n",
              "       0, 1, 1, 0, 0, 1, 0, 0, 1, 1, 1, 1, 1, 1, 0, 0, 0, 1, 0, 0, 1, 0,\n",
              "       1, 1, 0, 0, 1, 0, 1, 0, 1, 0, 1, 0, 0, 0, 0, 0, 1, 1, 1, 1, 0, 1,\n",
              "       0, 0, 1, 0, 0, 1, 0, 1, 0, 1, 1, 1, 0, 0, 1, 1, 0, 0, 1, 1, 1, 0,\n",
              "       1, 1, 1, 0, 0, 1, 0, 0, 0, 0])"
            ]
          },
          "metadata": {
            "tags": []
          },
          "execution_count": 79
        }
      ]
    },
    {
      "metadata": {
        "id": "HEEulGXkF-s6",
        "colab_type": "code",
        "colab": {
          "autoexec": {
            "startup": false,
            "wait_interval": 0
          },
          "base_uri": "https://localhost:8080/",
          "height": 1130
        },
        "outputId": "367f457d-39d4-4996-e0aa-9ce3a6404848",
        "executionInfo": {
          "status": "ok",
          "timestamp": 1533378029351,
          "user_tz": -540,
          "elapsed": 915,
          "user": {
            "displayName": "Yisu Kim",
            "photoUrl": "https://lh3.googleusercontent.com/a/default-user=s128",
            "userId": "115961139854090288133"
          }
        }
      },
      "cell_type": "code",
      "source": [
        "steps = np.where(draws > 0, 1, -1)\n",
        "steps"
      ],
      "execution_count": 80,
      "outputs": [
        {
          "output_type": "execute_result",
          "data": {
            "text/plain": [
              "array([-1, -1, -1, -1, -1,  1,  1,  1, -1, -1, -1, -1,  1,  1,  1,  1, -1,\n",
              "       -1, -1,  1, -1,  1,  1, -1, -1, -1, -1,  1, -1, -1, -1, -1, -1, -1,\n",
              "       -1, -1,  1, -1,  1, -1, -1,  1, -1,  1,  1,  1, -1,  1, -1,  1, -1,\n",
              "        1,  1,  1,  1, -1, -1, -1,  1,  1,  1, -1,  1, -1,  1, -1,  1,  1,\n",
              "        1,  1,  1, -1, -1, -1, -1,  1, -1,  1, -1, -1,  1,  1,  1, -1, -1,\n",
              "       -1,  1, -1,  1, -1, -1, -1,  1,  1,  1, -1, -1, -1, -1, -1,  1, -1,\n",
              "        1,  1,  1, -1, -1,  1, -1, -1,  1, -1, -1,  1,  1,  1, -1,  1, -1,\n",
              "        1, -1,  1, -1,  1,  1,  1,  1,  1, -1, -1,  1,  1, -1, -1,  1,  1,\n",
              "       -1,  1, -1, -1, -1,  1,  1, -1, -1,  1, -1,  1,  1, -1,  1, -1, -1,\n",
              "       -1, -1, -1,  1,  1,  1, -1,  1,  1, -1, -1, -1,  1,  1,  1, -1,  1,\n",
              "        1, -1, -1,  1,  1, -1, -1,  1,  1,  1,  1,  1,  1,  1,  1,  1,  1,\n",
              "        1,  1, -1,  1,  1, -1, -1, -1,  1,  1, -1,  1, -1,  1, -1,  1,  1,\n",
              "        1, -1, -1, -1, -1,  1,  1,  1, -1, -1,  1,  1, -1,  1,  1,  1,  1,\n",
              "       -1,  1, -1,  1, -1, -1,  1, -1,  1, -1,  1, -1, -1, -1,  1, -1, -1,\n",
              "        1, -1,  1,  1, -1, -1, -1,  1, -1,  1, -1, -1,  1, -1, -1,  1, -1,\n",
              "        1,  1, -1,  1,  1, -1,  1, -1, -1, -1,  1,  1,  1, -1,  1, -1,  1,\n",
              "        1,  1,  1,  1, -1, -1,  1,  1, -1, -1, -1, -1,  1, -1,  1, -1, -1,\n",
              "        1,  1, -1, -1,  1,  1,  1, -1,  1, -1, -1,  1,  1, -1, -1, -1, -1,\n",
              "        1, -1, -1,  1,  1, -1,  1,  1,  1,  1,  1,  1, -1,  1,  1,  1, -1,\n",
              "       -1,  1,  1, -1,  1, -1,  1, -1,  1, -1, -1,  1,  1,  1, -1,  1, -1,\n",
              "        1, -1,  1, -1,  1, -1,  1,  1,  1, -1,  1, -1,  1, -1, -1,  1, -1,\n",
              "        1,  1, -1, -1, -1, -1, -1,  1, -1,  1,  1,  1, -1, -1, -1, -1,  1,\n",
              "        1,  1,  1, -1, -1, -1, -1,  1,  1, -1,  1,  1,  1,  1,  1,  1,  1,\n",
              "       -1,  1, -1, -1, -1, -1,  1,  1, -1, -1,  1,  1, -1,  1, -1,  1,  1,\n",
              "       -1, -1,  1, -1,  1,  1,  1, -1,  1,  1,  1,  1, -1, -1,  1,  1,  1,\n",
              "       -1, -1,  1,  1, -1, -1,  1,  1,  1, -1, -1, -1,  1,  1,  1, -1, -1,\n",
              "        1,  1, -1,  1, -1,  1,  1,  1,  1, -1,  1,  1,  1,  1,  1, -1,  1,\n",
              "       -1, -1,  1, -1,  1, -1, -1,  1, -1,  1, -1, -1,  1, -1, -1, -1, -1,\n",
              "       -1,  1,  1, -1,  1,  1, -1, -1, -1, -1,  1, -1, -1, -1,  1,  1, -1,\n",
              "        1, -1, -1, -1, -1, -1,  1, -1, -1,  1, -1, -1,  1, -1, -1,  1,  1,\n",
              "        1,  1,  1,  1,  1, -1, -1,  1,  1, -1, -1, -1,  1, -1,  1,  1, -1,\n",
              "       -1,  1, -1, -1, -1,  1,  1,  1, -1,  1,  1,  1,  1, -1, -1,  1,  1,\n",
              "        1, -1,  1, -1,  1, -1, -1,  1, -1, -1,  1,  1, -1,  1,  1, -1, -1,\n",
              "       -1,  1,  1, -1, -1,  1, -1,  1, -1,  1,  1, -1,  1, -1,  1,  1, -1,\n",
              "       -1, -1, -1, -1, -1,  1, -1,  1,  1, -1,  1,  1, -1,  1, -1,  1, -1,\n",
              "       -1,  1, -1, -1, -1, -1, -1,  1, -1, -1, -1,  1,  1,  1, -1, -1, -1,\n",
              "       -1, -1,  1,  1, -1,  1, -1, -1,  1, -1, -1,  1,  1,  1,  1,  1, -1,\n",
              "        1,  1,  1,  1,  1,  1,  1,  1,  1,  1,  1,  1,  1,  1,  1,  1, -1,\n",
              "       -1, -1,  1, -1, -1, -1, -1,  1,  1,  1,  1, -1,  1,  1,  1,  1,  1,\n",
              "        1,  1, -1, -1,  1, -1, -1, -1,  1,  1,  1, -1, -1,  1,  1,  1,  1,\n",
              "        1, -1, -1,  1, -1, -1, -1,  1,  1, -1, -1, -1,  1, -1,  1, -1,  1,\n",
              "        1, -1, -1, -1, -1, -1, -1,  1, -1,  1,  1,  1,  1,  1,  1,  1, -1,\n",
              "        1,  1,  1, -1, -1,  1,  1,  1, -1, -1,  1, -1, -1, -1,  1, -1,  1,\n",
              "       -1, -1, -1, -1,  1,  1, -1,  1,  1, -1,  1, -1,  1, -1,  1, -1, -1,\n",
              "        1,  1,  1,  1,  1, -1,  1,  1,  1,  1, -1, -1, -1,  1,  1,  1,  1,\n",
              "       -1,  1,  1,  1,  1, -1,  1, -1, -1,  1, -1, -1,  1,  1, -1,  1, -1,\n",
              "        1,  1,  1, -1, -1,  1,  1,  1,  1, -1,  1, -1, -1, -1,  1, -1, -1,\n",
              "        1,  1, -1,  1, -1,  1,  1, -1, -1, -1, -1,  1,  1, -1,  1, -1, -1,\n",
              "        1, -1, -1,  1,  1, -1,  1,  1,  1, -1,  1, -1, -1,  1, -1, -1, -1,\n",
              "        1,  1,  1, -1, -1,  1,  1,  1, -1, -1,  1,  1,  1, -1,  1, -1, -1,\n",
              "       -1, -1,  1,  1, -1, -1,  1, -1, -1,  1,  1,  1, -1, -1, -1,  1, -1,\n",
              "        1, -1, -1,  1, -1, -1,  1,  1, -1,  1, -1,  1,  1, -1, -1,  1, -1,\n",
              "       -1,  1,  1, -1, -1,  1,  1, -1,  1,  1,  1, -1,  1,  1, -1, -1,  1,\n",
              "       -1,  1, -1,  1, -1, -1, -1,  1,  1,  1,  1,  1,  1, -1,  1,  1,  1,\n",
              "        1,  1,  1,  1,  1, -1, -1,  1,  1, -1, -1,  1, -1, -1,  1,  1,  1,\n",
              "        1,  1,  1, -1, -1, -1,  1, -1, -1,  1, -1,  1,  1, -1, -1,  1, -1,\n",
              "        1, -1,  1, -1,  1, -1, -1, -1, -1, -1,  1,  1,  1,  1, -1,  1, -1,\n",
              "       -1,  1, -1, -1,  1, -1,  1, -1,  1,  1,  1, -1, -1,  1,  1, -1, -1,\n",
              "        1,  1,  1, -1,  1,  1,  1, -1, -1,  1, -1, -1, -1, -1])"
            ]
          },
          "metadata": {
            "tags": []
          },
          "execution_count": 80
        }
      ]
    },
    {
      "metadata": {
        "id": "-5ZOFmJyGLq9",
        "colab_type": "code",
        "colab": {
          "autoexec": {
            "startup": false,
            "wait_interval": 0
          },
          "base_uri": "https://localhost:8080/",
          "height": 1470
        },
        "outputId": "d12fee8b-58de-4786-9f9d-bbff2d7c018a",
        "executionInfo": {
          "status": "ok",
          "timestamp": 1533378032725,
          "user_tz": -540,
          "elapsed": 1970,
          "user": {
            "displayName": "Yisu Kim",
            "photoUrl": "https://lh3.googleusercontent.com/a/default-user=s128",
            "userId": "115961139854090288133"
          }
        }
      },
      "cell_type": "code",
      "source": [
        "walks = steps.cumsum()\n",
        "walks"
      ],
      "execution_count": 81,
      "outputs": [
        {
          "output_type": "execute_result",
          "data": {
            "text/plain": [
              "array([ -1,  -2,  -3,  -4,  -5,  -4,  -3,  -2,  -3,  -4,  -5,  -6,  -5,\n",
              "        -4,  -3,  -2,  -3,  -4,  -5,  -4,  -5,  -4,  -3,  -4,  -5,  -6,\n",
              "        -7,  -6,  -7,  -8,  -9, -10, -11, -12, -13, -14, -13, -14, -13,\n",
              "       -14, -15, -14, -15, -14, -13, -12, -13, -12, -13, -12, -13, -12,\n",
              "       -11, -10,  -9, -10, -11, -12, -11, -10,  -9, -10,  -9, -10,  -9,\n",
              "       -10,  -9,  -8,  -7,  -6,  -5,  -6,  -7,  -8,  -9,  -8,  -9,  -8,\n",
              "        -9, -10,  -9,  -8,  -7,  -8,  -9, -10,  -9, -10,  -9, -10, -11,\n",
              "       -12, -11, -10,  -9, -10, -11, -12, -13, -14, -13, -14, -13, -12,\n",
              "       -11, -12, -13, -12, -13, -14, -13, -14, -15, -14, -13, -12, -13,\n",
              "       -12, -13, -12, -13, -12, -13, -12, -11, -10,  -9,  -8,  -9, -10,\n",
              "        -9,  -8,  -9, -10,  -9,  -8,  -9,  -8,  -9, -10, -11, -10,  -9,\n",
              "       -10, -11, -10, -11, -10,  -9, -10,  -9, -10, -11, -12, -13, -14,\n",
              "       -13, -12, -11, -12, -11, -10, -11, -12, -13, -12, -11, -10, -11,\n",
              "       -10,  -9, -10, -11, -10,  -9, -10, -11, -10,  -9,  -8,  -7,  -6,\n",
              "        -5,  -4,  -3,  -2,  -1,   0,   1,   0,   1,   2,   1,   0,  -1,\n",
              "         0,   1,   0,   1,   0,   1,   0,   1,   2,   3,   2,   1,   0,\n",
              "        -1,   0,   1,   2,   1,   0,   1,   2,   1,   2,   3,   4,   5,\n",
              "         4,   5,   4,   5,   4,   3,   4,   3,   4,   3,   4,   3,   2,\n",
              "         1,   2,   1,   0,   1,   0,   1,   2,   1,   0,  -1,   0,  -1,\n",
              "         0,  -1,  -2,  -1,  -2,  -3,  -2,  -3,  -2,  -1,  -2,  -1,   0,\n",
              "        -1,   0,  -1,  -2,  -3,  -2,  -1,   0,  -1,   0,  -1,   0,   1,\n",
              "         2,   3,   4,   3,   2,   3,   4,   3,   2,   1,   0,   1,   0,\n",
              "         1,   0,  -1,   0,   1,   0,  -1,   0,   1,   2,   1,   2,   1,\n",
              "         0,   1,   2,   1,   0,  -1,  -2,  -1,  -2,  -3,  -2,  -1,  -2,\n",
              "        -1,   0,   1,   2,   3,   4,   3,   4,   5,   6,   5,   4,   5,\n",
              "         6,   5,   6,   5,   6,   5,   6,   5,   4,   5,   6,   7,   6,\n",
              "         7,   6,   7,   6,   7,   6,   7,   6,   7,   8,   9,   8,   9,\n",
              "         8,   9,   8,   7,   8,   7,   8,   9,   8,   7,   6,   5,   4,\n",
              "         5,   4,   5,   6,   7,   6,   5,   4,   3,   4,   5,   6,   7,\n",
              "         6,   5,   4,   3,   4,   5,   4,   5,   6,   7,   8,   9,  10,\n",
              "        11,  10,  11,  10,   9,   8,   7,   8,   9,   8,   7,   8,   9,\n",
              "         8,   9,   8,   9,  10,   9,   8,   9,   8,   9,  10,  11,  10,\n",
              "        11,  12,  13,  14,  13,  12,  13,  14,  15,  14,  13,  14,  15,\n",
              "        14,  13,  14,  15,  16,  15,  14,  13,  14,  15,  16,  15,  14,\n",
              "        15,  16,  15,  16,  15,  16,  17,  18,  19,  18,  19,  20,  21,\n",
              "        22,  23,  22,  23,  22,  21,  22,  21,  22,  21,  20,  21,  20,\n",
              "        21,  20,  19,  20,  19,  18,  17,  16,  15,  16,  17,  16,  17,\n",
              "        18,  17,  16,  15,  14,  15,  14,  13,  12,  13,  14,  13,  14,\n",
              "        13,  12,  11,  10,   9,  10,   9,   8,   9,   8,   7,   8,   7,\n",
              "         6,   7,   8,   9,  10,  11,  12,  13,  12,  11,  12,  13,  12,\n",
              "        11,  10,  11,  10,  11,  12,  11,  10,  11,  10,   9,   8,   9,\n",
              "        10,  11,  10,  11,  12,  13,  14,  13,  12,  13,  14,  15,  14,\n",
              "        15,  14,  15,  14,  13,  14,  13,  12,  13,  14,  13,  14,  15,\n",
              "        14,  13,  12,  13,  14,  13,  12,  13,  12,  13,  12,  13,  14,\n",
              "        13,  14,  13,  14,  15,  14,  13,  12,  11,  10,   9,  10,   9,\n",
              "        10,  11,  10,  11,  12,  11,  12,  11,  12,  11,  10,  11,  10,\n",
              "         9,   8,   7,   6,   7,   6,   5,   4,   5,   6,   7,   6,   5,\n",
              "         4,   3,   2,   3,   4,   3,   4,   3,   2,   3,   2,   1,   2,\n",
              "         3,   4,   5,   6,   5,   6,   7,   8,   9,  10,  11,  12,  13,\n",
              "        14,  15,  16,  17,  18,  19,  20,  21,  20,  19,  18,  19,  18,\n",
              "        17,  16,  15,  16,  17,  18,  19,  18,  19,  20,  21,  22,  23,\n",
              "        24,  25,  24,  23,  24,  23,  22,  21,  22,  23,  24,  23,  22,\n",
              "        23,  24,  25,  26,  27,  26,  25,  26,  25,  24,  23,  24,  25,\n",
              "        24,  23,  22,  23,  22,  23,  22,  23,  24,  23,  22,  21,  20,\n",
              "        19,  18,  19,  18,  19,  20,  21,  22,  23,  24,  25,  24,  25,\n",
              "        26,  27,  26,  25,  26,  27,  28,  27,  26,  27,  26,  25,  24,\n",
              "        25,  24,  25,  24,  23,  22,  21,  22,  23,  22,  23,  24,  23,\n",
              "        24,  23,  24,  23,  24,  23,  22,  23,  24,  25,  26,  27,  26,\n",
              "        27,  28,  29,  30,  29,  28,  27,  28,  29,  30,  31,  30,  31,\n",
              "        32,  33,  34,  33,  34,  33,  32,  33,  32,  31,  32,  33,  32,\n",
              "        33,  32,  33,  34,  35,  34,  33,  34,  35,  36,  37,  36,  37,\n",
              "        36,  35,  34,  35,  34,  33,  34,  35,  34,  35,  34,  35,  36,\n",
              "        35,  34,  33,  32,  33,  34,  33,  34,  33,  32,  33,  32,  31,\n",
              "        32,  33,  32,  33,  34,  35,  34,  35,  34,  33,  34,  33,  32,\n",
              "        31,  32,  33,  34,  33,  32,  33,  34,  35,  34,  33,  34,  35,\n",
              "        36,  35,  36,  35,  34,  33,  32,  33,  34,  33,  32,  33,  32,\n",
              "        31,  32,  33,  34,  33,  32,  31,  32,  31,  32,  31,  30,  31,\n",
              "        30,  29,  30,  31,  30,  31,  30,  31,  32,  31,  30,  31,  30,\n",
              "        29,  30,  31,  30,  29,  30,  31,  30,  31,  32,  33,  32,  33,\n",
              "        34,  33,  32,  33,  32,  33,  32,  33,  32,  31,  30,  31,  32,\n",
              "        33,  34,  35,  36,  35,  36,  37,  38,  39,  40,  41,  42,  43,\n",
              "        42,  41,  42,  43,  42,  41,  42,  41,  40,  41,  42,  43,  44,\n",
              "        45,  46,  45,  44,  43,  44,  43,  42,  43,  42,  43,  44,  43,\n",
              "        42,  43,  42,  43,  42,  43,  42,  43,  42,  41,  40,  39,  38,\n",
              "        39,  40,  41,  42,  41,  42,  41,  40,  41,  40,  39,  40,  39,\n",
              "        40,  39,  40,  41,  42,  41,  40,  41,  42,  41,  40,  41,  42,\n",
              "        43,  42,  43,  44,  45,  44,  43,  44,  43,  42,  41,  40])"
            ]
          },
          "metadata": {
            "tags": []
          },
          "execution_count": 81
        }
      ]
    },
    {
      "metadata": {
        "id": "hq5bv7LxGZy9",
        "colab_type": "code",
        "colab": {
          "autoexec": {
            "startup": false,
            "wait_interval": 0
          },
          "base_uri": "https://localhost:8080/",
          "height": 55
        },
        "outputId": "fda231f1-939f-4456-a03e-7558b5eecb39",
        "executionInfo": {
          "status": "ok",
          "timestamp": 1533378035560,
          "user_tz": -540,
          "elapsed": 1149,
          "user": {
            "displayName": "Yisu Kim",
            "photoUrl": "https://lh3.googleusercontent.com/a/default-user=s128",
            "userId": "115961139854090288133"
          }
        }
      },
      "cell_type": "code",
      "source": [
        "print(walks.min())\n",
        "print(walks.max())"
      ],
      "execution_count": 82,
      "outputs": [
        {
          "output_type": "stream",
          "text": [
            "-15\n",
            "46\n"
          ],
          "name": "stdout"
        }
      ]
    },
    {
      "metadata": {
        "id": "ke-9_N1PG9cT",
        "colab_type": "code",
        "colab": {
          "autoexec": {
            "startup": false,
            "wait_interval": 0
          },
          "base_uri": "https://localhost:8080/",
          "height": 36
        },
        "outputId": "1fe53ac8-44dd-442a-aac2-5e2fedcadf16",
        "executionInfo": {
          "status": "ok",
          "timestamp": 1533378037566,
          "user_tz": -540,
          "elapsed": 1000,
          "user": {
            "displayName": "Yisu Kim",
            "photoUrl": "https://lh3.googleusercontent.com/a/default-user=s128",
            "userId": "115961139854090288133"
          }
        }
      },
      "cell_type": "code",
      "source": [
        "(np.abs(walks) >= 10).argmax()"
      ],
      "execution_count": 83,
      "outputs": [
        {
          "output_type": "execute_result",
          "data": {
            "text/plain": [
              "31"
            ]
          },
          "metadata": {
            "tags": []
          },
          "execution_count": 83
        }
      ]
    },
    {
      "metadata": {
        "id": "62TE9tj1GfcR",
        "colab_type": "code",
        "colab": {
          "autoexec": {
            "startup": false,
            "wait_interval": 0
          }
        }
      },
      "cell_type": "code",
      "source": [
        "import matplotlib.pyplot as plt"
      ],
      "execution_count": 0,
      "outputs": []
    },
    {
      "metadata": {
        "id": "XkNoADLNGrqm",
        "colab_type": "code",
        "colab": {
          "autoexec": {
            "startup": false,
            "wait_interval": 0
          },
          "base_uri": "https://localhost:8080/",
          "height": 347
        },
        "outputId": "07455c0c-d6ab-4260-fda0-30c492b90156",
        "executionInfo": {
          "status": "ok",
          "timestamp": 1533378043284,
          "user_tz": -540,
          "elapsed": 1584,
          "user": {
            "displayName": "Yisu Kim",
            "photoUrl": "https://lh3.googleusercontent.com/a/default-user=s128",
            "userId": "115961139854090288133"
          }
        }
      },
      "cell_type": "code",
      "source": [
        "plt.plot(walks)\n",
        "plt.show()"
      ],
      "execution_count": 85,
      "outputs": [
        {
          "output_type": "display_data",
          "data": {
            "image/png": "[encoded data removed]",
            "text/plain": [
              "<matplotlib.figure.Figure at 0x7fb13bf46790>"
            ]
          },
          "metadata": {
            "tags": []
          }
        }
      ]
    },
    {
      "metadata": {
        "id": "Veto-MvrHXd1",
        "colab_type": "code",
        "colab": {
          "autoexec": {
            "startup": false,
            "wait_interval": 0
          },
          "base_uri": "https://localhost:8080/",
          "height": 149
        },
        "outputId": "1d308d2b-73af-4309-b401-126fe80fda1f",
        "executionInfo": {
          "status": "ok",
          "timestamp": 1533378045303,
          "user_tz": -540,
          "elapsed": 995,
          "user": {
            "displayName": "Yisu Kim",
            "photoUrl": "https://lh3.googleusercontent.com/a/default-user=s128",
            "userId": "115961139854090288133"
          }
        }
      },
      "cell_type": "code",
      "source": [
        "nwalks = 5000\n",
        "nsteps = 1000\n",
        "draws = np.random.randint(0, 2, size=(nwalks, nsteps))\n",
        "draws"
      ],
      "execution_count": 86,
      "outputs": [
        {
          "output_type": "execute_result",
          "data": {
            "text/plain": [
              "array([[1, 0, 1, ..., 1, 1, 0],\n",
              "       [0, 0, 0, ..., 0, 1, 1],\n",
              "       [1, 1, 0, ..., 1, 1, 0],\n",
              "       ...,\n",
              "       [1, 1, 0, ..., 0, 0, 0],\n",
              "       [1, 0, 0, ..., 1, 0, 1],\n",
              "       [1, 0, 1, ..., 1, 0, 1]])"
            ]
          },
          "metadata": {
            "tags": []
          },
          "execution_count": 86
        }
      ]
    },
    {
      "metadata": {
        "id": "nsR6L5nJIHgk",
        "colab_type": "code",
        "colab": {
          "autoexec": {
            "startup": false,
            "wait_interval": 0
          },
          "base_uri": "https://localhost:8080/",
          "height": 149
        },
        "outputId": "0e982ddb-4da8-42e0-c856-9cff1bc36906",
        "executionInfo": {
          "status": "ok",
          "timestamp": 1533378047687,
          "user_tz": -540,
          "elapsed": 1131,
          "user": {
            "displayName": "Yisu Kim",
            "photoUrl": "https://lh3.googleusercontent.com/a/default-user=s128",
            "userId": "115961139854090288133"
          }
        }
      },
      "cell_type": "code",
      "source": [
        "steps = np.where(draws > 0, 1, -1)\n",
        "steps"
      ],
      "execution_count": 87,
      "outputs": [
        {
          "output_type": "execute_result",
          "data": {
            "text/plain": [
              "array([[ 1, -1,  1, ...,  1,  1, -1],\n",
              "       [-1, -1, -1, ..., -1,  1,  1],\n",
              "       [ 1,  1, -1, ...,  1,  1, -1],\n",
              "       ...,\n",
              "       [ 1,  1, -1, ..., -1, -1, -1],\n",
              "       [ 1, -1, -1, ...,  1, -1,  1],\n",
              "       [ 1, -1,  1, ...,  1, -1,  1]])"
            ]
          },
          "metadata": {
            "tags": []
          },
          "execution_count": 87
        }
      ]
    },
    {
      "metadata": {
        "id": "aBeOXCs7IMX8",
        "colab_type": "code",
        "colab": {
          "autoexec": {
            "startup": false,
            "wait_interval": 0
          },
          "base_uri": "https://localhost:8080/",
          "height": 149
        },
        "outputId": "5b78f5f6-f091-4fd9-d5d5-9749780b853b",
        "executionInfo": {
          "status": "ok",
          "timestamp": 1533378049749,
          "user_tz": -540,
          "elapsed": 884,
          "user": {
            "displayName": "Yisu Kim",
            "photoUrl": "https://lh3.googleusercontent.com/a/default-user=s128",
            "userId": "115961139854090288133"
          }
        }
      },
      "cell_type": "code",
      "source": [
        "walks = steps.cumsum(1)\n",
        "walks"
      ],
      "execution_count": 88,
      "outputs": [
        {
          "output_type": "execute_result",
          "data": {
            "text/plain": [
              "array([[  1,   0,   1, ..., -12, -11, -12],\n",
              "       [ -1,  -2,  -3, ...,  12,  13,  14],\n",
              "       [  1,   2,   1, ...,   8,   9,   8],\n",
              "       ...,\n",
              "       [  1,   2,   1, ...,  52,  51,  50],\n",
              "       [  1,   0,  -1, ..., -14, -15, -14],\n",
              "       [  1,   0,   1, ..., -34, -35, -34]])"
            ]
          },
          "metadata": {
            "tags": []
          },
          "execution_count": 88
        }
      ]
    },
    {
      "metadata": {
        "id": "fqRe3_XtIWBy",
        "colab_type": "code",
        "colab": {
          "autoexec": {
            "startup": false,
            "wait_interval": 0
          },
          "base_uri": "https://localhost:8080/",
          "height": 55
        },
        "outputId": "d6d18dca-8fa2-42fd-9415-a74d71f599aa",
        "executionInfo": {
          "status": "ok",
          "timestamp": 1533378051628,
          "user_tz": -540,
          "elapsed": 757,
          "user": {
            "displayName": "Yisu Kim",
            "photoUrl": "https://lh3.googleusercontent.com/a/default-user=s128",
            "userId": "115961139854090288133"
          }
        }
      },
      "cell_type": "code",
      "source": [
        "print(walks.max())\n",
        "print(walks.min())"
      ],
      "execution_count": 89,
      "outputs": [
        {
          "output_type": "stream",
          "text": [
            "117\n",
            "-140\n"
          ],
          "name": "stdout"
        }
      ]
    },
    {
      "metadata": {
        "id": "dTfjMppSIeSt",
        "colab_type": "code",
        "colab": {
          "autoexec": {
            "startup": false,
            "wait_interval": 0
          },
          "base_uri": "https://localhost:8080/",
          "height": 36
        },
        "outputId": "f86ae5fd-370b-404d-abda-a6e492c2013a",
        "executionInfo": {
          "status": "ok",
          "timestamp": 1533378054036,
          "user_tz": -540,
          "elapsed": 1321,
          "user": {
            "displayName": "Yisu Kim",
            "photoUrl": "https://lh3.googleusercontent.com/a/default-user=s128",
            "userId": "115961139854090288133"
          }
        }
      },
      "cell_type": "code",
      "source": [
        "hits30 = (np.abs(walks) >= 30).argmax()\n",
        "hits30"
      ],
      "execution_count": 90,
      "outputs": [
        {
          "output_type": "execute_result",
          "data": {
            "text/plain": [
              "367"
            ]
          },
          "metadata": {
            "tags": []
          },
          "execution_count": 90
        }
      ]
    },
    {
      "metadata": {
        "id": "dD73UNWwIs-e",
        "colab_type": "code",
        "colab": {
          "autoexec": {
            "startup": false,
            "wait_interval": 0
          },
          "base_uri": "https://localhost:8080/",
          "height": 36
        },
        "outputId": "4dd83f73-a49c-48dd-811d-e6b195b4160d",
        "executionInfo": {
          "status": "ok",
          "timestamp": 1533378055825,
          "user_tz": -540,
          "elapsed": 883,
          "user": {
            "displayName": "Yisu Kim",
            "photoUrl": "https://lh3.googleusercontent.com/a/default-user=s128",
            "userId": "115961139854090288133"
          }
        }
      },
      "cell_type": "code",
      "source": [
        "hits30 = (np.abs(walks) >= 30).any(1)\n",
        "hits30"
      ],
      "execution_count": 91,
      "outputs": [
        {
          "output_type": "execute_result",
          "data": {
            "text/plain": [
              "array([ True, False, False, ...,  True,  True,  True])"
            ]
          },
          "metadata": {
            "tags": []
          },
          "execution_count": 91
        }
      ]
    },
    {
      "metadata": {
        "id": "UuWuFwDhI113",
        "colab_type": "code",
        "colab": {
          "autoexec": {
            "startup": false,
            "wait_interval": 0
          },
          "base_uri": "https://localhost:8080/",
          "height": 36
        },
        "outputId": "4b074c7c-f35a-45e5-f39d-afb03ad6798b",
        "executionInfo": {
          "status": "ok",
          "timestamp": 1533378057996,
          "user_tz": -540,
          "elapsed": 1012,
          "user": {
            "displayName": "Yisu Kim",
            "photoUrl": "https://lh3.googleusercontent.com/a/default-user=s128",
            "userId": "115961139854090288133"
          }
        }
      },
      "cell_type": "code",
      "source": [
        "hits30.sum()"
      ],
      "execution_count": 92,
      "outputs": [
        {
          "output_type": "execute_result",
          "data": {
            "text/plain": [
              "3395"
            ]
          },
          "metadata": {
            "tags": []
          },
          "execution_count": 92
        }
      ]
    },
    {
      "metadata": {
        "id": "68kAmMTmaLf7",
        "colab_type": "code",
        "colab": {
          "autoexec": {
            "startup": false,
            "wait_interval": 0
          },
          "base_uri": "https://localhost:8080/",
          "height": 36
        },
        "outputId": "b521f824-8434-46cb-d823-8cd838ffa812",
        "executionInfo": {
          "status": "ok",
          "timestamp": 1533378060187,
          "user_tz": -540,
          "elapsed": 1226,
          "user": {
            "displayName": "Yisu Kim",
            "photoUrl": "https://lh3.googleusercontent.com/a/default-user=s128",
            "userId": "115961139854090288133"
          }
        }
      },
      "cell_type": "code",
      "source": [
        "crossing_times = (np.abs(walks[hits30]) >= 30).argmax(1)\n",
        "crossing_times"
      ],
      "execution_count": 93,
      "outputs": [
        {
          "output_type": "execute_result",
          "data": {
            "text/plain": [
              "array([367, 389, 887, ..., 429, 147, 821])"
            ]
          },
          "metadata": {
            "tags": []
          },
          "execution_count": 93
        }
      ]
    },
    {
      "metadata": {
        "id": "x89NpwCcaYA8",
        "colab_type": "code",
        "colab": {
          "autoexec": {
            "startup": false,
            "wait_interval": 0
          },
          "base_uri": "https://localhost:8080/",
          "height": 36
        },
        "outputId": "4b7d8645-5958-4d09-99bd-e19fc57d6eb2",
        "executionInfo": {
          "status": "ok",
          "timestamp": 1533378062274,
          "user_tz": -540,
          "elapsed": 864,
          "user": {
            "displayName": "Yisu Kim",
            "photoUrl": "https://lh3.googleusercontent.com/a/default-user=s128",
            "userId": "115961139854090288133"
          }
        }
      },
      "cell_type": "code",
      "source": [
        "crossing_times.mean()"
      ],
      "execution_count": 94,
      "outputs": [
        {
          "output_type": "execute_result",
          "data": {
            "text/plain": [
              "496.420324005891"
            ]
          },
          "metadata": {
            "tags": []
          },
          "execution_count": 94
        }
      ]
    },
    {
      "metadata": {
        "id": "1Yl1T1G4CmUa",
        "colab_type": "text"
      },
      "cell_type": "markdown",
      "source": [
        "## Ref.\n",
        "- Python for Data Analysis (by Wes Mckinney)"
      ]
    }
  ]
}