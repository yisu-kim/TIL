{
 "cells": [
  {
   "cell_type": "markdown",
   "metadata": {},
   "source": [
    "## Modules\n",
    "file.py\n",
    "- class\n",
    "- def"
   ]
  },
  {
   "cell_type": "code",
   "execution_count": 1,
   "metadata": {},
   "outputs": [],
   "source": [
    "# e.g. calc.py\n",
    "\n",
    "#!/home/hadoop/anaconda3/bin/python\n",
    "def add(a, b):\n",
    "        return a + b\n",
    "\n",
    "def sub(a, b):\n",
    "        return a - b"
   ]
  },
  {
   "cell_type": "markdown",
   "metadata": {},
   "source": [
    "## packages\n",
    "folder\n",
    "- \\__init__.py\n",
    "- file.py (modules)"
   ]
  },
  {
   "cell_type": "markdown",
   "metadata": {},
   "source": [
    "**/home/hadoop/testpython/mypackage/calc.py**"
   ]
  },
  {
   "cell_type": "markdown",
   "metadata": {},
   "source": [
    "## PYTHONPATH"
   ]
  },
  {
   "cell_type": "code",
   "execution_count": 2,
   "metadata": {},
   "outputs": [
    {
     "data": {
      "text/plain": [
       "['/home/hadoop/testpython',\n",
       " '',\n",
       " '/home/hadoop/anaconda3/lib/python36.zip',\n",
       " '/home/hadoop/anaconda3/lib/python3.6',\n",
       " '/home/hadoop/anaconda3/lib/python3.6/lib-dynload',\n",
       " '/home/hadoop/anaconda3/lib/python3.6/site-packages',\n",
       " '/home/hadoop/anaconda3/lib/python3.6/site-packages/IPython/extensions',\n",
       " '/home/hadoop/.ipython']"
      ]
     },
     "execution_count": 2,
     "metadata": {},
     "output_type": "execute_result"
    }
   ],
   "source": [
    "import sys\n",
    "sys.path.insert(0, '/home/hadoop/testpython')\n",
    "sys.path"
   ]
  },
  {
   "cell_type": "code",
   "execution_count": 3,
   "metadata": {},
   "outputs": [],
   "source": [
    "import mypackage\n",
    "from mypackage import calc"
   ]
  },
  {
   "cell_type": "code",
   "execution_count": 4,
   "metadata": {},
   "outputs": [
    {
     "data": {
      "text/plain": [
       "3"
      ]
     },
     "execution_count": 4,
     "metadata": {},
     "output_type": "execute_result"
    }
   ],
   "source": [
    "calc.add(1,2)"
   ]
  }
 ],
 "metadata": {
  "kernelspec": {
   "display_name": "Python 3",
   "language": "python",
   "name": "python3"
  },
  "language_info": {
   "codemirror_mode": {
    "name": "ipython",
    "version": 3
   },
   "file_extension": ".py",
   "mimetype": "text/x-python",
   "name": "python",
   "nbconvert_exporter": "python",
   "pygments_lexer": "ipython3",
   "version": "3.6.5"
  }
 },
 "nbformat": 4,
 "nbformat_minor": 2
}
