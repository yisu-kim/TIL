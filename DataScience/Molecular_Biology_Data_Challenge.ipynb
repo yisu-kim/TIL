{
 "cells": [
  {
   "cell_type": "markdown",
   "metadata": {},
   "source": [
    "# Splice-junction Gene Sequences Classifier"
   ]
  },
  {
   "cell_type": "markdown",
   "metadata": {},
   "source": [
    "## Data challenge\n",
    "\n",
    "* Generate a model in any ML/DL framework and use this data to learn to classify a 60 element DNA sequence into the categories of IE, EI or neither.\n",
    "* Download the data at Data Folder (file name splice.data). Ingest the data into the ML/DL framework of your choice and build and train a model to learn this classification task. (No need to follow any modeling instructions on the webpage, if there is any)\n",
    "* Compare performance of classical machine learning models and deep learning models."
   ]
  },
  {
   "cell_type": "code",
   "execution_count": 1,
   "metadata": {},
   "outputs": [],
   "source": [
    "import pandas as pd\n",
    "import numpy as np\n",
    "import matplotlib.pyplot as plt\n",
    "%matplotlib inline\n",
    "import seaborn as sns\n",
    "from sklearn.preprocessing import LabelEncoder\n",
    "from sklearn.preprocessing import OneHotEncoder\n",
    "from sklearn.model_selection import train_test_split\n",
    "from sklearn.model_selection import StratifiedKFold\n",
    "from sklearn.neighbors import KNeighborsClassifier\n",
    "from sklearn.tree import DecisionTreeClassifier\n",
    "from sklearn.naive_bayes import GaussianNB\n",
    "from sklearn.svm import SVC\n",
    "from sklearn.ensemble import RandomForestClassifier\n",
    "from sklearn.model_selection import cross_val_score\n",
    "from sklearn.model_selection import RandomizedSearchCV"
   ]
  },
  {
   "cell_type": "markdown",
   "metadata": {},
   "source": [
    "## 1. Load the dataset\n",
    "\n",
    "Source: https://archive.ics.uci.edu/ml/datasets/Molecular+Biology+%28Splice-junction+Gene+Sequences%29\n",
    "\n",
    "* Summary of the dataset:\n",
    "    - This is a dataset of DNA sequences that define the boundaries between regions that are spliced out during protein creation (introns) or retained for protein creation (exons).\n",
    "    - There are 3 classes: boundaries between exon and intron sequences (EI), boundaries between intron and exon sequences (IE), or sequences that are neither.\n",
    "    - The dataset has 3190 examples of DNA sequences.\n",
    "    - Each sequence is 60 base-pairs long.\n",
    "    - Each of these fields is almost always filled by one of {a, g, t, c}. Other characters indicate ambiguity among the standard characters according to the following table:\n",
    "\n",
    "  character: meaning\n",
    "    - D: A or G or T\n",
    "    - N: A or G or C or T\n",
    "    - S: C or G\n",
    "    - R: A or G"
   ]
  },
  {
   "cell_type": "code",
   "execution_count": 2,
   "metadata": {
    "scrolled": true
   },
   "outputs": [
    {
     "data": {
      "text/html": [
       "<div>\n",
       "<style scoped>\n",
       "    .dataframe tbody tr th:only-of-type {\n",
       "        vertical-align: middle;\n",
       "    }\n",
       "\n",
       "    .dataframe tbody tr th {\n",
       "        vertical-align: top;\n",
       "    }\n",
       "\n",
       "    .dataframe thead th {\n",
       "        text-align: right;\n",
       "    }\n",
       "</style>\n",
       "<table border=\"1\" class=\"dataframe\">\n",
       "  <thead>\n",
       "    <tr style=\"text-align: right;\">\n",
       "      <th></th>\n",
       "      <th>class</th>\n",
       "      <th>name</th>\n",
       "      <th>sequence</th>\n",
       "    </tr>\n",
       "  </thead>\n",
       "  <tbody>\n",
       "    <tr>\n",
       "      <th>0</th>\n",
       "      <td>EI</td>\n",
       "      <td>ATRINS-DONOR-521</td>\n",
       "      <td>CCAGCTGCATCACAGGAGGCCAGCGAGCAGG...</td>\n",
       "    </tr>\n",
       "    <tr>\n",
       "      <th>1</th>\n",
       "      <td>EI</td>\n",
       "      <td>ATRINS-DONOR-905</td>\n",
       "      <td>AGACCCGCCGGGAGGCGGAGGACCTGCAGGG...</td>\n",
       "    </tr>\n",
       "    <tr>\n",
       "      <th>2</th>\n",
       "      <td>EI</td>\n",
       "      <td>BABAPOE-DONOR-30</td>\n",
       "      <td>GAGGTGAAGGACGTCCTTCCCCAGGAGCCGG...</td>\n",
       "    </tr>\n",
       "    <tr>\n",
       "      <th>3</th>\n",
       "      <td>EI</td>\n",
       "      <td>BABAPOE-DONOR-867</td>\n",
       "      <td>GGGCTGCGTTGCTGGTCACATTCCTGGCAGGT...</td>\n",
       "    </tr>\n",
       "    <tr>\n",
       "      <th>4</th>\n",
       "      <td>EI</td>\n",
       "      <td>BABAPOE-DONOR-2817</td>\n",
       "      <td>GCTCAGCCCCCAGGTCACCCAGGAACTGACGTG...</td>\n",
       "    </tr>\n",
       "  </tbody>\n",
       "</table>\n",
       "</div>"
      ],
      "text/plain": [
       "  class                    name  \\\n",
       "0    EI        ATRINS-DONOR-521   \n",
       "1    EI        ATRINS-DONOR-905   \n",
       "2    EI        BABAPOE-DONOR-30   \n",
       "3    EI       BABAPOE-DONOR-867   \n",
       "4    EI      BABAPOE-DONOR-2817   \n",
       "\n",
       "                                            sequence  \n",
       "0                 CCAGCTGCATCACAGGAGGCCAGCGAGCAGG...  \n",
       "1                 AGACCCGCCGGGAGGCGGAGGACCTGCAGGG...  \n",
       "2                 GAGGTGAAGGACGTCCTTCCCCAGGAGCCGG...  \n",
       "3                GGGCTGCGTTGCTGGTCACATTCCTGGCAGGT...  \n",
       "4               GCTCAGCCCCCAGGTCACCCAGGAACTGACGTG...  "
      ]
     },
     "execution_count": 2,
     "metadata": {},
     "output_type": "execute_result"
    }
   ],
   "source": [
    "df = pd.read_csv(\"data/splice.data\", header=None)\n",
    "df.columns = ['class', 'name', 'sequence']\n",
    "df.head()"
   ]
  },
  {
   "cell_type": "markdown",
   "metadata": {},
   "source": [
    "## 2. Preprocess the data"
   ]
  },
  {
   "cell_type": "markdown",
   "metadata": {},
   "source": [
    "- missing value 없음"
   ]
  },
  {
   "cell_type": "code",
   "execution_count": 3,
   "metadata": {
    "scrolled": true
   },
   "outputs": [
    {
     "data": {
      "text/plain": [
       "class       0\n",
       "name        0\n",
       "sequence    0\n",
       "dtype: int64"
      ]
     },
     "execution_count": 3,
     "metadata": {},
     "output_type": "execute_result"
    }
   ],
   "source": [
    "df.isnull().sum()"
   ]
  },
  {
   "cell_type": "markdown",
   "metadata": {},
   "source": [
    "- name과 sequnece에 중복되는 데이터 존재"
   ]
  },
  {
   "cell_type": "code",
   "execution_count": 4,
   "metadata": {
    "scrolled": false
   },
   "outputs": [
    {
     "data": {
      "text/html": [
       "<div>\n",
       "<style scoped>\n",
       "    .dataframe tbody tr th:only-of-type {\n",
       "        vertical-align: middle;\n",
       "    }\n",
       "\n",
       "    .dataframe tbody tr th {\n",
       "        vertical-align: top;\n",
       "    }\n",
       "\n",
       "    .dataframe thead th {\n",
       "        text-align: right;\n",
       "    }\n",
       "</style>\n",
       "<table border=\"1\" class=\"dataframe\">\n",
       "  <thead>\n",
       "    <tr style=\"text-align: right;\">\n",
       "      <th></th>\n",
       "      <th>class</th>\n",
       "      <th>name</th>\n",
       "      <th>sequence</th>\n",
       "    </tr>\n",
       "  </thead>\n",
       "  <tbody>\n",
       "    <tr>\n",
       "      <th>count</th>\n",
       "      <td>3190</td>\n",
       "      <td>3190</td>\n",
       "      <td>3190</td>\n",
       "    </tr>\n",
       "    <tr>\n",
       "      <th>unique</th>\n",
       "      <td>3</td>\n",
       "      <td>3178</td>\n",
       "      <td>3092</td>\n",
       "    </tr>\n",
       "    <tr>\n",
       "      <th>top</th>\n",
       "      <td>N</td>\n",
       "      <td>HUMMYC3L-ACCEPTOR-4242</td>\n",
       "      <td>TGTTACCTCACCTTCGGAGACAAGATCAAGGTGCC...</td>\n",
       "    </tr>\n",
       "    <tr>\n",
       "      <th>freq</th>\n",
       "      <td>1655</td>\n",
       "      <td>2</td>\n",
       "      <td>3</td>\n",
       "    </tr>\n",
       "  </tbody>\n",
       "</table>\n",
       "</div>"
      ],
      "text/plain": [
       "       class                        name  \\\n",
       "count   3190                        3190   \n",
       "unique     3                        3178   \n",
       "top        N      HUMMYC3L-ACCEPTOR-4242   \n",
       "freq    1655                           2   \n",
       "\n",
       "                                                 sequence  \n",
       "count                                                3190  \n",
       "unique                                               3092  \n",
       "top                TGTTACCTCACCTTCGGAGACAAGATCAAGGTGCC...  \n",
       "freq                                                    3  "
      ]
     },
     "execution_count": 4,
     "metadata": {},
     "output_type": "execute_result"
    }
   ],
   "source": [
    "df.describe()"
   ]
  },
  {
   "cell_type": "code",
   "execution_count": 5,
   "metadata": {
    "scrolled": false
   },
   "outputs": [
    {
     "data": {
      "text/html": [
       "<div>\n",
       "<style scoped>\n",
       "    .dataframe tbody tr th:only-of-type {\n",
       "        vertical-align: middle;\n",
       "    }\n",
       "\n",
       "    .dataframe tbody tr th {\n",
       "        vertical-align: top;\n",
       "    }\n",
       "\n",
       "    .dataframe thead th {\n",
       "        text-align: right;\n",
       "    }\n",
       "</style>\n",
       "<table border=\"1\" class=\"dataframe\">\n",
       "  <thead>\n",
       "    <tr style=\"text-align: right;\">\n",
       "      <th></th>\n",
       "      <th>class</th>\n",
       "      <th>name</th>\n",
       "      <th>sequence</th>\n",
       "    </tr>\n",
       "  </thead>\n",
       "  <tbody>\n",
       "    <tr>\n",
       "      <th>853</th>\n",
       "      <td>IE</td>\n",
       "      <td>HUMALBGC-ACCEPTOR-18496</td>\n",
       "      <td>AAGACTTATATTTGTCCTTTTGTTTTTCAGCCTACCAT...</td>\n",
       "    </tr>\n",
       "    <tr>\n",
       "      <th>852</th>\n",
       "      <td>IE</td>\n",
       "      <td>HUMALBGC-ACCEPTOR-18496</td>\n",
       "      <td>AAGACTTATATTTGTCCTTTTGTTTTTCAGCCTACCAT...</td>\n",
       "    </tr>\n",
       "    <tr>\n",
       "      <th>84</th>\n",
       "      <td>EI</td>\n",
       "      <td>HUMALBGC-DONOR-17044</td>\n",
       "      <td>GACGATAAGGAGACCTGCTTTGCCGAGGAGGTACT...</td>\n",
       "    </tr>\n",
       "    <tr>\n",
       "      <th>86</th>\n",
       "      <td>EI</td>\n",
       "      <td>HUMALBGC-DONOR-17044</td>\n",
       "      <td>GACGATAAGGAGACCTGCTTTGCCGAGGAGGTACT...</td>\n",
       "    </tr>\n",
       "    <tr>\n",
       "      <th>1317</th>\n",
       "      <td>IE</td>\n",
       "      <td>HUMMYC3L-ACCEPTOR-4242</td>\n",
       "      <td>TTTCTTCTCTTGATCTCTTTTCTCGGACAGAGAATGA...</td>\n",
       "    </tr>\n",
       "    <tr>\n",
       "      <th>1316</th>\n",
       "      <td>IE</td>\n",
       "      <td>HUMMYC3L-ACCEPTOR-4242</td>\n",
       "      <td>TTTCTTCTCTTGATCTCTTTTCTCGGACAGAGAATGA...</td>\n",
       "    </tr>\n",
       "    <tr>\n",
       "      <th>1328</th>\n",
       "      <td>IE</td>\n",
       "      <td>HUMMYLCA-ACCEPTOR-1831</td>\n",
       "      <td>ATCCTGTGTTGACATTCATCTGAATCCTAGAGTTCAA...</td>\n",
       "    </tr>\n",
       "    <tr>\n",
       "      <th>1323</th>\n",
       "      <td>IE</td>\n",
       "      <td>HUMMYLCA-ACCEPTOR-1831</td>\n",
       "      <td>ATCCTGTGTTGACATTCATCTGAATCCTAGAGTTCAA...</td>\n",
       "    </tr>\n",
       "    <tr>\n",
       "      <th>1324</th>\n",
       "      <td>IE</td>\n",
       "      <td>HUMMYLCA-ACCEPTOR-2214</td>\n",
       "      <td>TGGCCTGACACTTCACCTCCTTTATGGCAGAGATGAA...</td>\n",
       "    </tr>\n",
       "    <tr>\n",
       "      <th>1329</th>\n",
       "      <td>IE</td>\n",
       "      <td>HUMMYLCA-ACCEPTOR-2214</td>\n",
       "      <td>TGGCCTGACACTTCACCTCCTTTATGGCAGAGATGAA...</td>\n",
       "    </tr>\n",
       "    <tr>\n",
       "      <th>1325</th>\n",
       "      <td>IE</td>\n",
       "      <td>HUMMYLCA-ACCEPTOR-2481</td>\n",
       "      <td>ATTCCAAAAATGCTTTCTTTCCCCCTGCAGGTGAGAA...</td>\n",
       "    </tr>\n",
       "    <tr>\n",
       "      <th>1330</th>\n",
       "      <td>IE</td>\n",
       "      <td>HUMMYLCA-ACCEPTOR-2481</td>\n",
       "      <td>ATTCCAAAAATGCTTTCTTTCCCCCTGCAGGTGAGAA...</td>\n",
       "    </tr>\n",
       "    <tr>\n",
       "      <th>1322</th>\n",
       "      <td>IE</td>\n",
       "      <td>HUMMYLCA-ACCEPTOR-924</td>\n",
       "      <td>ATGCTGACCACTTCCCTCTTCTCTGAGCAGTGTGAC...</td>\n",
       "    </tr>\n",
       "    <tr>\n",
       "      <th>1327</th>\n",
       "      <td>IE</td>\n",
       "      <td>HUMMYLCA-ACCEPTOR-924</td>\n",
       "      <td>ATGCTGACCACTTCCCTCTTCTCTGAGCAGTGTGAC...</td>\n",
       "    </tr>\n",
       "    <tr>\n",
       "      <th>561</th>\n",
       "      <td>EI</td>\n",
       "      <td>HUMMYLCA-DONOR-1975</td>\n",
       "      <td>TCAAGGTCCTGGGGAACCCCAAGAGTGATGGTGA...</td>\n",
       "    </tr>\n",
       "    <tr>\n",
       "      <th>556</th>\n",
       "      <td>EI</td>\n",
       "      <td>HUMMYLCA-DONOR-1975</td>\n",
       "      <td>TCAAGGTCCTGGGGAACCCCAAGAGTGATGGTGA...</td>\n",
       "    </tr>\n",
       "    <tr>\n",
       "      <th>557</th>\n",
       "      <td>EI</td>\n",
       "      <td>HUMMYLCA-DONOR-2388</td>\n",
       "      <td>CTGAAATCCGGCATGTTCTTGTCACACTGGGTAA...</td>\n",
       "    </tr>\n",
       "    <tr>\n",
       "      <th>562</th>\n",
       "      <td>EI</td>\n",
       "      <td>HUMMYLCA-DONOR-2388</td>\n",
       "      <td>CTGAAATCCGGCATGTTCTTGTCACACTGGGTAA...</td>\n",
       "    </tr>\n",
       "    <tr>\n",
       "      <th>558</th>\n",
       "      <td>EI</td>\n",
       "      <td>HUMMYLCA-DONOR-2559</td>\n",
       "      <td>AGGACAGCAATGGTTGTATCAACTATGAAGGTAA...</td>\n",
       "    </tr>\n",
       "    <tr>\n",
       "      <th>563</th>\n",
       "      <td>EI</td>\n",
       "      <td>HUMMYLCA-DONOR-2559</td>\n",
       "      <td>AGGACAGCAATGGTTGTATCAACTATGAAGGTAA...</td>\n",
       "    </tr>\n",
       "    <tr>\n",
       "      <th>559</th>\n",
       "      <td>EI</td>\n",
       "      <td>HUMMYLCA-DONOR-644</td>\n",
       "      <td>AAGGTCCCGGAGAGCTGAGCAGTCAAGATGGTG...</td>\n",
       "    </tr>\n",
       "    <tr>\n",
       "      <th>554</th>\n",
       "      <td>EI</td>\n",
       "      <td>HUMMYLCA-DONOR-644</td>\n",
       "      <td>AAGGTCCCGGAGAGCTGAGCAGTCAAGATGGTG...</td>\n",
       "    </tr>\n",
       "    <tr>\n",
       "      <th>560</th>\n",
       "      <td>EI</td>\n",
       "      <td>HUMMYLCA-DONOR-952</td>\n",
       "      <td>AGTGTGACTTCACCGAAGACCAGACCGCAGGTA...</td>\n",
       "    </tr>\n",
       "    <tr>\n",
       "      <th>555</th>\n",
       "      <td>EI</td>\n",
       "      <td>HUMMYLCA-DONOR-952</td>\n",
       "      <td>AGTGTGACTTCACCGAAGACCAGACCGCAGGTA...</td>\n",
       "    </tr>\n",
       "  </tbody>\n",
       "</table>\n",
       "</div>"
      ],
      "text/plain": [
       "     class                         name  \\\n",
       "853     IE      HUMALBGC-ACCEPTOR-18496   \n",
       "852     IE      HUMALBGC-ACCEPTOR-18496   \n",
       "84      EI         HUMALBGC-DONOR-17044   \n",
       "86      EI         HUMALBGC-DONOR-17044   \n",
       "1317    IE       HUMMYC3L-ACCEPTOR-4242   \n",
       "1316    IE       HUMMYC3L-ACCEPTOR-4242   \n",
       "1328    IE       HUMMYLCA-ACCEPTOR-1831   \n",
       "1323    IE       HUMMYLCA-ACCEPTOR-1831   \n",
       "1324    IE       HUMMYLCA-ACCEPTOR-2214   \n",
       "1329    IE       HUMMYLCA-ACCEPTOR-2214   \n",
       "1325    IE       HUMMYLCA-ACCEPTOR-2481   \n",
       "1330    IE       HUMMYLCA-ACCEPTOR-2481   \n",
       "1322    IE        HUMMYLCA-ACCEPTOR-924   \n",
       "1327    IE        HUMMYLCA-ACCEPTOR-924   \n",
       "561     EI          HUMMYLCA-DONOR-1975   \n",
       "556     EI          HUMMYLCA-DONOR-1975   \n",
       "557     EI          HUMMYLCA-DONOR-2388   \n",
       "562     EI          HUMMYLCA-DONOR-2388   \n",
       "558     EI          HUMMYLCA-DONOR-2559   \n",
       "563     EI          HUMMYLCA-DONOR-2559   \n",
       "559     EI           HUMMYLCA-DONOR-644   \n",
       "554     EI           HUMMYLCA-DONOR-644   \n",
       "560     EI           HUMMYLCA-DONOR-952   \n",
       "555     EI           HUMMYLCA-DONOR-952   \n",
       "\n",
       "                                               sequence  \n",
       "853           AAGACTTATATTTGTCCTTTTGTTTTTCAGCCTACCAT...  \n",
       "852           AAGACTTATATTTGTCCTTTTGTTTTTCAGCCTACCAT...  \n",
       "84               GACGATAAGGAGACCTGCTTTGCCGAGGAGGTACT...  \n",
       "86               GACGATAAGGAGACCTGCTTTGCCGAGGAGGTACT...  \n",
       "1317           TTTCTTCTCTTGATCTCTTTTCTCGGACAGAGAATGA...  \n",
       "1316           TTTCTTCTCTTGATCTCTTTTCTCGGACAGAGAATGA...  \n",
       "1328           ATCCTGTGTTGACATTCATCTGAATCCTAGAGTTCAA...  \n",
       "1323           ATCCTGTGTTGACATTCATCTGAATCCTAGAGTTCAA...  \n",
       "1324           TGGCCTGACACTTCACCTCCTTTATGGCAGAGATGAA...  \n",
       "1329           TGGCCTGACACTTCACCTCCTTTATGGCAGAGATGAA...  \n",
       "1325           ATTCCAAAAATGCTTTCTTTCCCCCTGCAGGTGAGAA...  \n",
       "1330           ATTCCAAAAATGCTTTCTTTCCCCCTGCAGGTGAGAA...  \n",
       "1322            ATGCTGACCACTTCCCTCTTCTCTGAGCAGTGTGAC...  \n",
       "1327            ATGCTGACCACTTCCCTCTTCTCTGAGCAGTGTGAC...  \n",
       "561               TCAAGGTCCTGGGGAACCCCAAGAGTGATGGTGA...  \n",
       "556               TCAAGGTCCTGGGGAACCCCAAGAGTGATGGTGA...  \n",
       "557               CTGAAATCCGGCATGTTCTTGTCACACTGGGTAA...  \n",
       "562               CTGAAATCCGGCATGTTCTTGTCACACTGGGTAA...  \n",
       "558               AGGACAGCAATGGTTGTATCAACTATGAAGGTAA...  \n",
       "563               AGGACAGCAATGGTTGTATCAACTATGAAGGTAA...  \n",
       "559                AAGGTCCCGGAGAGCTGAGCAGTCAAGATGGTG...  \n",
       "554                AAGGTCCCGGAGAGCTGAGCAGTCAAGATGGTG...  \n",
       "560                AGTGTGACTTCACCGAAGACCAGACCGCAGGTA...  \n",
       "555                AGTGTGACTTCACCGAAGACCAGACCGCAGGTA...  "
      ]
     },
     "execution_count": 5,
     "metadata": {},
     "output_type": "execute_result"
    }
   ],
   "source": [
    "duplicated = df[df.duplicated(keep=False)]\n",
    "duplicated.sort_values(by='name')"
   ]
  },
  {
   "cell_type": "markdown",
   "metadata": {},
   "source": [
    "- class, name, sequence과 모두 중복될 경우에만 제거"
   ]
  },
  {
   "cell_type": "code",
   "execution_count": 6,
   "metadata": {
    "scrolled": false
   },
   "outputs": [
    {
     "data": {
      "text/html": [
       "<div>\n",
       "<style scoped>\n",
       "    .dataframe tbody tr th:only-of-type {\n",
       "        vertical-align: middle;\n",
       "    }\n",
       "\n",
       "    .dataframe tbody tr th {\n",
       "        vertical-align: top;\n",
       "    }\n",
       "\n",
       "    .dataframe thead th {\n",
       "        text-align: right;\n",
       "    }\n",
       "</style>\n",
       "<table border=\"1\" class=\"dataframe\">\n",
       "  <thead>\n",
       "    <tr style=\"text-align: right;\">\n",
       "      <th></th>\n",
       "      <th>class</th>\n",
       "      <th>name</th>\n",
       "      <th>sequence</th>\n",
       "    </tr>\n",
       "  </thead>\n",
       "  <tbody>\n",
       "    <tr>\n",
       "      <th>0</th>\n",
       "      <td>EI</td>\n",
       "      <td>ATRINS-DONOR-521</td>\n",
       "      <td>CCAGCTGCATCACAGGAGGCCAGCGAGCAGG...</td>\n",
       "    </tr>\n",
       "    <tr>\n",
       "      <th>1</th>\n",
       "      <td>EI</td>\n",
       "      <td>ATRINS-DONOR-905</td>\n",
       "      <td>AGACCCGCCGGGAGGCGGAGGACCTGCAGGG...</td>\n",
       "    </tr>\n",
       "    <tr>\n",
       "      <th>2</th>\n",
       "      <td>EI</td>\n",
       "      <td>BABAPOE-DONOR-30</td>\n",
       "      <td>GAGGTGAAGGACGTCCTTCCCCAGGAGCCGG...</td>\n",
       "    </tr>\n",
       "    <tr>\n",
       "      <th>3</th>\n",
       "      <td>EI</td>\n",
       "      <td>BABAPOE-DONOR-867</td>\n",
       "      <td>GGGCTGCGTTGCTGGTCACATTCCTGGCAGGT...</td>\n",
       "    </tr>\n",
       "    <tr>\n",
       "      <th>4</th>\n",
       "      <td>EI</td>\n",
       "      <td>BABAPOE-DONOR-2817</td>\n",
       "      <td>GCTCAGCCCCCAGGTCACCCAGGAACTGACGTG...</td>\n",
       "    </tr>\n",
       "    <tr>\n",
       "      <th>5</th>\n",
       "      <td>EI</td>\n",
       "      <td>CHPIGECA-DONOR-378</td>\n",
       "      <td>CAGACTGGGTGGACAACAAAACCTTCAGCGGTA...</td>\n",
       "    </tr>\n",
       "    <tr>\n",
       "      <th>6</th>\n",
       "      <td>EI</td>\n",
       "      <td>CHPIGECA-DONOR-903</td>\n",
       "      <td>CCTTTGAGGACAGCACCAAGAAGTGTGCAGGTA...</td>\n",
       "    </tr>\n",
       "    <tr>\n",
       "      <th>7</th>\n",
       "      <td>EI</td>\n",
       "      <td>CHPIGECA-DONOR-1313</td>\n",
       "      <td>CCCTCGTGCGGTCCACGACCAAGACCAGCGGTGA...</td>\n",
       "    </tr>\n",
       "    <tr>\n",
       "      <th>8</th>\n",
       "      <td>EI</td>\n",
       "      <td>GCRHBBA1-DONOR-1260</td>\n",
       "      <td>TGGCGACTACGGCGCGGAGGCCCTGGAGAGGTGA...</td>\n",
       "    </tr>\n",
       "    <tr>\n",
       "      <th>9</th>\n",
       "      <td>EI</td>\n",
       "      <td>GCRHBBA1-DONOR-1590</td>\n",
       "      <td>AAGCTGACAGTGGACCCGGTCAACTTCAAGGTGA...</td>\n",
       "    </tr>\n",
       "    <tr>\n",
       "      <th>10</th>\n",
       "      <td>EI</td>\n",
       "      <td>GCRHBBA6-DONOR-461</td>\n",
       "      <td>TGGCGACTACGGCGCGGAGGCCCTGGAGAGGTG...</td>\n",
       "    </tr>\n",
       "    <tr>\n",
       "      <th>11</th>\n",
       "      <td>EI</td>\n",
       "      <td>GCRHBBA6-DONOR-795</td>\n",
       "      <td>AAGCTGAGAGTGGACCCTGTCAACTTCAAGGTG...</td>\n",
       "    </tr>\n",
       "    <tr>\n",
       "      <th>12</th>\n",
       "      <td>EI</td>\n",
       "      <td>GIBHBGGL-DONOR-2278</td>\n",
       "      <td>GGAAGATGCTGGAGGAGAAACCCTGGGAAGGTAG...</td>\n",
       "    </tr>\n",
       "    <tr>\n",
       "      <th>13</th>\n",
       "      <td>EI</td>\n",
       "      <td>GIBHBGGL-DONOR-2624</td>\n",
       "      <td>AAGCTGCATGTGGATCCTGAGAACTTCAGGGTGA...</td>\n",
       "    </tr>\n",
       "    <tr>\n",
       "      <th>14</th>\n",
       "      <td>EI</td>\n",
       "      <td>GIBHBGGL-DONOR-7198</td>\n",
       "      <td>GGAAGATGTTGGAGGAGAAACCCTGGGAAGGTAG...</td>\n",
       "    </tr>\n",
       "    <tr>\n",
       "      <th>15</th>\n",
       "      <td>EI</td>\n",
       "      <td>GIBHBGGL-DONOR-7544</td>\n",
       "      <td>AAGCTGCATGTGGATCCTGAGAACTTCAGGGTGA...</td>\n",
       "    </tr>\n",
       "    <tr>\n",
       "      <th>16</th>\n",
       "      <td>EI</td>\n",
       "      <td>HUMA1ATP-DONOR-1972</td>\n",
       "      <td>GGCACCACCACTGACCTGGGACAGTGAATCGTAA...</td>\n",
       "    </tr>\n",
       "    <tr>\n",
       "      <th>17</th>\n",
       "      <td>EI</td>\n",
       "      <td>HUMA1ATP-DONOR-7932</td>\n",
       "      <td>TTGCTCTGGTGAATTACATCTTCTTTAAAGGTAA...</td>\n",
       "    </tr>\n",
       "    <tr>\n",
       "      <th>18</th>\n",
       "      <td>EI</td>\n",
       "      <td>HUMA1ATP-DONOR-9653</td>\n",
       "      <td>CACCAAGTTCCTGGAAAATGAAGACAGAAGGTGA...</td>\n",
       "    </tr>\n",
       "    <tr>\n",
       "      <th>19</th>\n",
       "      <td>EI</td>\n",
       "      <td>HUMA1ATP-DONOR-11057</td>\n",
       "      <td>ACAGAGGAGGCACCCCTGAAGCTCTCCAAGGTGAG...</td>\n",
       "    </tr>\n",
       "    <tr>\n",
       "      <th>20</th>\n",
       "      <td>EI</td>\n",
       "      <td>HUMA1GLY2-DONOR-1693</td>\n",
       "      <td>GTGCCCATCACCAACGCCACCCTGGACCGGGTGAG...</td>\n",
       "    </tr>\n",
       "    <tr>\n",
       "      <th>21</th>\n",
       "      <td>EI</td>\n",
       "      <td>HUMA1GLY2-DONOR-2251</td>\n",
       "      <td>CACGATCTTTCTCAGAGAGTACCAGACCCGGTGAG...</td>\n",
       "    </tr>\n",
       "    <tr>\n",
       "      <th>22</th>\n",
       "      <td>EI</td>\n",
       "      <td>HUMA1GLY2-DONOR-2540</td>\n",
       "      <td>AGCGGGAGAATGGGACCGTCTCCAGATACGGTGAG...</td>\n",
       "    </tr>\n",
       "    <tr>\n",
       "      <th>23</th>\n",
       "      <td>EI</td>\n",
       "      <td>HUMA1GLY2-DONOR-3352</td>\n",
       "      <td>ATGAGAAGAACTGGGGGCTGTCTTTCTATGGTAGG...</td>\n",
       "    </tr>\n",
       "    <tr>\n",
       "      <th>24</th>\n",
       "      <td>EI</td>\n",
       "      <td>HUMA1GLY2-DONOR-3606</td>\n",
       "      <td>TCAGATGTCATGTACACCGACTGGAAAAAGGTAAA...</td>\n",
       "    </tr>\n",
       "    <tr>\n",
       "      <th>25</th>\n",
       "      <td>EI</td>\n",
       "      <td>HUMACCYBA-DONOR-289</td>\n",
       "      <td>GATCCGCCGCCCGTCCACACCCGCCGCCAGGTAA...</td>\n",
       "    </tr>\n",
       "    <tr>\n",
       "      <th>26</th>\n",
       "      <td>EI</td>\n",
       "      <td>HUMACCYBA-DONOR-1250</td>\n",
       "      <td>CCCTCCATCGTGGGGCGCCCCAGGCACCAGGTAGG...</td>\n",
       "    </tr>\n",
       "    <tr>\n",
       "      <th>27</th>\n",
       "      <td>EI</td>\n",
       "      <td>HUMACCYBA-DONOR-1624</td>\n",
       "      <td>CCCAAGGCCAACCGCGAGAAGATGACCCAGGTGAG...</td>\n",
       "    </tr>\n",
       "    <tr>\n",
       "      <th>28</th>\n",
       "      <td>EI</td>\n",
       "      <td>HUMACCYBA-DONOR-2504</td>\n",
       "      <td>CTGAGGCACTCTTCCAGCCTTCCTTCCTGGGTGAG...</td>\n",
       "    </tr>\n",
       "    <tr>\n",
       "      <th>29</th>\n",
       "      <td>EI</td>\n",
       "      <td>HUMACCYBA-DONOR-2781</td>\n",
       "      <td>GCCCTGGCACCCAGCACAATGAAGATCAAGGTGGG...</td>\n",
       "    </tr>\n",
       "    <tr>\n",
       "      <th>...</th>\n",
       "      <td>...</td>\n",
       "      <td>...</td>\n",
       "      <td>...</td>\n",
       "    </tr>\n",
       "    <tr>\n",
       "      <th>3148</th>\n",
       "      <td>N</td>\n",
       "      <td>HUMXYES2-NEG-1741</td>\n",
       "      <td>CTTCACTGCTACAGAGCCATAGTACCAGCCAG...</td>\n",
       "    </tr>\n",
       "    <tr>\n",
       "      <th>3149</th>\n",
       "      <td>N</td>\n",
       "      <td>HUMYTEST-NEG-301</td>\n",
       "      <td>GCCGCCCTCCCATTGATTGGCCATGAGGGAA...</td>\n",
       "    </tr>\n",
       "    <tr>\n",
       "      <th>3150</th>\n",
       "      <td>N</td>\n",
       "      <td>HUMZFX-NEG-781</td>\n",
       "      <td>GTAGTTTCAGAAGAAGTATTGGTAGCAGA...</td>\n",
       "    </tr>\n",
       "    <tr>\n",
       "      <th>3151</th>\n",
       "      <td>N</td>\n",
       "      <td>HUMZFY-NEG-2341</td>\n",
       "      <td>TTCCGAAGACCTTCAGAAAAGAACCAGCAC...</td>\n",
       "    </tr>\n",
       "    <tr>\n",
       "      <th>3152</th>\n",
       "      <td>N</td>\n",
       "      <td>HUMZNF8-NEG-661</td>\n",
       "      <td>CAGGACAAACCCTACAAATGTACTGACTGT...</td>\n",
       "    </tr>\n",
       "    <tr>\n",
       "      <th>3153</th>\n",
       "      <td>N</td>\n",
       "      <td>LEMHBDPS-NEG-1441</td>\n",
       "      <td>TTCACCCCACAGGTGCAGGCTGCCTATCAGAA...</td>\n",
       "    </tr>\n",
       "    <tr>\n",
       "      <th>3154</th>\n",
       "      <td>N</td>\n",
       "      <td>LEMHBGA-NEG-361</td>\n",
       "      <td>GATGGAATGAACCTGTGTATGGCAGAAATA...</td>\n",
       "    </tr>\n",
       "    <tr>\n",
       "      <th>3155</th>\n",
       "      <td>N</td>\n",
       "      <td>MACAPOA-NEG-961</td>\n",
       "      <td>GGCTTGATCAGGAACTACTGCAGGAATCCA...</td>\n",
       "    </tr>\n",
       "    <tr>\n",
       "      <th>3156</th>\n",
       "      <td>N</td>\n",
       "      <td>MACAPOE-NEG-181</td>\n",
       "      <td>CCAGCAGGCTGAGGGCCAGAGCGGCCAGCC...</td>\n",
       "    </tr>\n",
       "    <tr>\n",
       "      <th>3157</th>\n",
       "      <td>N</td>\n",
       "      <td>MACHBA-NEG-421</td>\n",
       "      <td>GCTGAGCGACCTGCACGCGCACAAGCTTC...</td>\n",
       "    </tr>\n",
       "    <tr>\n",
       "      <th>3158</th>\n",
       "      <td>N</td>\n",
       "      <td>MACHBB-NEG-4141</td>\n",
       "      <td>TGTGAGCCACACCCTACAGTTGGCCAATCT...</td>\n",
       "    </tr>\n",
       "    <tr>\n",
       "      <th>3159</th>\n",
       "      <td>N</td>\n",
       "      <td>MACHBDPS2-NEG-1</td>\n",
       "      <td>GAATTCATCCTACAGGTGCAGGCTGCCTAT...</td>\n",
       "    </tr>\n",
       "    <tr>\n",
       "      <th>3160</th>\n",
       "      <td>N</td>\n",
       "      <td>MACHBPEA-NEG-2161</td>\n",
       "      <td>TGACTTTGCACCTGCTCTGTGATTATGACTAT...</td>\n",
       "    </tr>\n",
       "    <tr>\n",
       "      <th>3161</th>\n",
       "      <td>N</td>\n",
       "      <td>MACHBPEA-NEG-6721</td>\n",
       "      <td>GAGAGAGAGACCAGAAATAATCTTGCTTATGC...</td>\n",
       "    </tr>\n",
       "    <tr>\n",
       "      <th>3162</th>\n",
       "      <td>N</td>\n",
       "      <td>MACHBPSBD-NEG-1141</td>\n",
       "      <td>TTACCTCTAATCAACAGTTCAATTATGCTTGAA...</td>\n",
       "    </tr>\n",
       "    <tr>\n",
       "      <th>3163</th>\n",
       "      <td>N</td>\n",
       "      <td>MACPEPSG-NEG-2161</td>\n",
       "      <td>GCTGGGGAGAAACCCAAGGTACCTATGGGGCT...</td>\n",
       "    </tr>\n",
       "    <tr>\n",
       "      <th>3164</th>\n",
       "      <td>N</td>\n",
       "      <td>MACRSMB-NEG-1</td>\n",
       "      <td>AAAAGGAAATATCCTCAGATGAAATCTG...</td>\n",
       "    </tr>\n",
       "    <tr>\n",
       "      <th>3165</th>\n",
       "      <td>N</td>\n",
       "      <td>MNKHAPSE-NEG-901</td>\n",
       "      <td>AGGAAATCTCCTTTGCTCAGATAAGTACACT...</td>\n",
       "    </tr>\n",
       "    <tr>\n",
       "      <th>3166</th>\n",
       "      <td>N</td>\n",
       "      <td>MNKHAPSE-NEG-5461</td>\n",
       "      <td>CATACTTGTGCTATCCCCTGCCCTTCTAAATC...</td>\n",
       "    </tr>\n",
       "    <tr>\n",
       "      <th>3167</th>\n",
       "      <td>N</td>\n",
       "      <td>MNKHBPSBD-NEG-961</td>\n",
       "      <td>CCTCAGTACCAAACTCATACATCAAACTGTGT...</td>\n",
       "    </tr>\n",
       "    <tr>\n",
       "      <th>3168</th>\n",
       "      <td>N</td>\n",
       "      <td>ORAHBA01-NEG-121</td>\n",
       "      <td>CCTGCCGACAAGACCAACGTCAAGACCGCCT...</td>\n",
       "    </tr>\n",
       "    <tr>\n",
       "      <th>3169</th>\n",
       "      <td>N</td>\n",
       "      <td>ORAHBBE-NEG-2581</td>\n",
       "      <td>CTGGAAGCACTGGATGGAATCTTTTCTGTCT...</td>\n",
       "    </tr>\n",
       "    <tr>\n",
       "      <th>3170</th>\n",
       "      <td>N</td>\n",
       "      <td>ORAHBBPSE-NEG-2101</td>\n",
       "      <td>TGTTTCTGAAAGAGGGATTAGCCCGTTGTCTTA...</td>\n",
       "    </tr>\n",
       "    <tr>\n",
       "      <th>3171</th>\n",
       "      <td>N</td>\n",
       "      <td>ORAHBBPSE-NEG-6661</td>\n",
       "      <td>TAAAAAAGACTCTCTGCTGTGGGAGATCCCTTC...</td>\n",
       "    </tr>\n",
       "    <tr>\n",
       "      <th>3172</th>\n",
       "      <td>N</td>\n",
       "      <td>ORAHBG2F-NEG-181</td>\n",
       "      <td>ATCAATAAGCTCCTAGTCCAGACGCCATGGG...</td>\n",
       "    </tr>\n",
       "    <tr>\n",
       "      <th>3173</th>\n",
       "      <td>N</td>\n",
       "      <td>ORAHBPSBD-NEG-2881</td>\n",
       "      <td>TCTCTTCCCTTCCCCTCTCTCTTTCTTTCTTTT...</td>\n",
       "    </tr>\n",
       "    <tr>\n",
       "      <th>3174</th>\n",
       "      <td>N</td>\n",
       "      <td>ORAINVOL-NEG-2161</td>\n",
       "      <td>GAGCTCCCAGAGCAGCAAGAGGGCCAGCTGAA...</td>\n",
       "    </tr>\n",
       "    <tr>\n",
       "      <th>3175</th>\n",
       "      <td>N</td>\n",
       "      <td>ORARGIT-NEG-241</td>\n",
       "      <td>TCTCGGGGGCGGCCGGCGCGGCGGGGAGCG...</td>\n",
       "    </tr>\n",
       "    <tr>\n",
       "      <th>3176</th>\n",
       "      <td>N</td>\n",
       "      <td>TARHBB-NEG-541</td>\n",
       "      <td>ATTCTACTTAGTAAACATAATTTCTTGTG...</td>\n",
       "    </tr>\n",
       "    <tr>\n",
       "      <th>3177</th>\n",
       "      <td>N</td>\n",
       "      <td>TARHBD-NEG-1981</td>\n",
       "      <td>AGGCTGCCTATCAGAAGGTGGTGGCTGGTG...</td>\n",
       "    </tr>\n",
       "  </tbody>\n",
       "</table>\n",
       "<p>3178 rows × 3 columns</p>\n",
       "</div>"
      ],
      "text/plain": [
       "     class                      name  \\\n",
       "0       EI          ATRINS-DONOR-521   \n",
       "1       EI          ATRINS-DONOR-905   \n",
       "2       EI          BABAPOE-DONOR-30   \n",
       "3       EI         BABAPOE-DONOR-867   \n",
       "4       EI        BABAPOE-DONOR-2817   \n",
       "5       EI        CHPIGECA-DONOR-378   \n",
       "6       EI        CHPIGECA-DONOR-903   \n",
       "7       EI       CHPIGECA-DONOR-1313   \n",
       "8       EI       GCRHBBA1-DONOR-1260   \n",
       "9       EI       GCRHBBA1-DONOR-1590   \n",
       "10      EI        GCRHBBA6-DONOR-461   \n",
       "11      EI        GCRHBBA6-DONOR-795   \n",
       "12      EI       GIBHBGGL-DONOR-2278   \n",
       "13      EI       GIBHBGGL-DONOR-2624   \n",
       "14      EI       GIBHBGGL-DONOR-7198   \n",
       "15      EI       GIBHBGGL-DONOR-7544   \n",
       "16      EI       HUMA1ATP-DONOR-1972   \n",
       "17      EI       HUMA1ATP-DONOR-7932   \n",
       "18      EI       HUMA1ATP-DONOR-9653   \n",
       "19      EI      HUMA1ATP-DONOR-11057   \n",
       "20      EI      HUMA1GLY2-DONOR-1693   \n",
       "21      EI      HUMA1GLY2-DONOR-2251   \n",
       "22      EI      HUMA1GLY2-DONOR-2540   \n",
       "23      EI      HUMA1GLY2-DONOR-3352   \n",
       "24      EI      HUMA1GLY2-DONOR-3606   \n",
       "25      EI       HUMACCYBA-DONOR-289   \n",
       "26      EI      HUMACCYBA-DONOR-1250   \n",
       "27      EI      HUMACCYBA-DONOR-1624   \n",
       "28      EI      HUMACCYBA-DONOR-2504   \n",
       "29      EI      HUMACCYBA-DONOR-2781   \n",
       "...    ...                       ...   \n",
       "3148     N         HUMXYES2-NEG-1741   \n",
       "3149     N          HUMYTEST-NEG-301   \n",
       "3150     N            HUMZFX-NEG-781   \n",
       "3151     N           HUMZFY-NEG-2341   \n",
       "3152     N           HUMZNF8-NEG-661   \n",
       "3153     N         LEMHBDPS-NEG-1441   \n",
       "3154     N           LEMHBGA-NEG-361   \n",
       "3155     N           MACAPOA-NEG-961   \n",
       "3156     N           MACAPOE-NEG-181   \n",
       "3157     N            MACHBA-NEG-421   \n",
       "3158     N           MACHBB-NEG-4141   \n",
       "3159     N           MACHBDPS2-NEG-1   \n",
       "3160     N         MACHBPEA-NEG-2161   \n",
       "3161     N         MACHBPEA-NEG-6721   \n",
       "3162     N        MACHBPSBD-NEG-1141   \n",
       "3163     N         MACPEPSG-NEG-2161   \n",
       "3164     N             MACRSMB-NEG-1   \n",
       "3165     N          MNKHAPSE-NEG-901   \n",
       "3166     N         MNKHAPSE-NEG-5461   \n",
       "3167     N         MNKHBPSBD-NEG-961   \n",
       "3168     N          ORAHBA01-NEG-121   \n",
       "3169     N          ORAHBBE-NEG-2581   \n",
       "3170     N        ORAHBBPSE-NEG-2101   \n",
       "3171     N        ORAHBBPSE-NEG-6661   \n",
       "3172     N          ORAHBG2F-NEG-181   \n",
       "3173     N        ORAHBPSBD-NEG-2881   \n",
       "3174     N         ORAINVOL-NEG-2161   \n",
       "3175     N           ORARGIT-NEG-241   \n",
       "3176     N            TARHBB-NEG-541   \n",
       "3177     N           TARHBD-NEG-1981   \n",
       "\n",
       "                                               sequence  \n",
       "0                    CCAGCTGCATCACAGGAGGCCAGCGAGCAGG...  \n",
       "1                    AGACCCGCCGGGAGGCGGAGGACCTGCAGGG...  \n",
       "2                    GAGGTGAAGGACGTCCTTCCCCAGGAGCCGG...  \n",
       "3                   GGGCTGCGTTGCTGGTCACATTCCTGGCAGGT...  \n",
       "4                  GCTCAGCCCCCAGGTCACCCAGGAACTGACGTG...  \n",
       "5                  CAGACTGGGTGGACAACAAAACCTTCAGCGGTA...  \n",
       "6                  CCTTTGAGGACAGCACCAAGAAGTGTGCAGGTA...  \n",
       "7                 CCCTCGTGCGGTCCACGACCAAGACCAGCGGTGA...  \n",
       "8                 TGGCGACTACGGCGCGGAGGCCCTGGAGAGGTGA...  \n",
       "9                 AAGCTGACAGTGGACCCGGTCAACTTCAAGGTGA...  \n",
       "10                 TGGCGACTACGGCGCGGAGGCCCTGGAGAGGTG...  \n",
       "11                 AAGCTGAGAGTGGACCCTGTCAACTTCAAGGTG...  \n",
       "12                GGAAGATGCTGGAGGAGAAACCCTGGGAAGGTAG...  \n",
       "13                AAGCTGCATGTGGATCCTGAGAACTTCAGGGTGA...  \n",
       "14                GGAAGATGTTGGAGGAGAAACCCTGGGAAGGTAG...  \n",
       "15                AAGCTGCATGTGGATCCTGAGAACTTCAGGGTGA...  \n",
       "16                GGCACCACCACTGACCTGGGACAGTGAATCGTAA...  \n",
       "17                TTGCTCTGGTGAATTACATCTTCTTTAAAGGTAA...  \n",
       "18                CACCAAGTTCCTGGAAAATGAAGACAGAAGGTGA...  \n",
       "19               ACAGAGGAGGCACCCCTGAAGCTCTCCAAGGTGAG...  \n",
       "20               GTGCCCATCACCAACGCCACCCTGGACCGGGTGAG...  \n",
       "21               CACGATCTTTCTCAGAGAGTACCAGACCCGGTGAG...  \n",
       "22               AGCGGGAGAATGGGACCGTCTCCAGATACGGTGAG...  \n",
       "23               ATGAGAAGAACTGGGGGCTGTCTTTCTATGGTAGG...  \n",
       "24               TCAGATGTCATGTACACCGACTGGAAAAAGGTAAA...  \n",
       "25                GATCCGCCGCCCGTCCACACCCGCCGCCAGGTAA...  \n",
       "26               CCCTCCATCGTGGGGCGCCCCAGGCACCAGGTAGG...  \n",
       "27               CCCAAGGCCAACCGCGAGAAGATGACCCAGGTGAG...  \n",
       "28               CTGAGGCACTCTTCCAGCCTTCCTTCCTGGGTGAG...  \n",
       "29               GCCCTGGCACCCAGCACAATGAAGATCAAGGTGGG...  \n",
       "...                                                 ...  \n",
       "3148                CTTCACTGCTACAGAGCCATAGTACCAGCCAG...  \n",
       "3149                 GCCGCCCTCCCATTGATTGGCCATGAGGGAA...  \n",
       "3150                   GTAGTTTCAGAAGAAGTATTGGTAGCAGA...  \n",
       "3151                  TTCCGAAGACCTTCAGAAAAGAACCAGCAC...  \n",
       "3152                  CAGGACAAACCCTACAAATGTACTGACTGT...  \n",
       "3153                TTCACCCCACAGGTGCAGGCTGCCTATCAGAA...  \n",
       "3154                  GATGGAATGAACCTGTGTATGGCAGAAATA...  \n",
       "3155                  GGCTTGATCAGGAACTACTGCAGGAATCCA...  \n",
       "3156                  CCAGCAGGCTGAGGGCCAGAGCGGCCAGCC...  \n",
       "3157                   GCTGAGCGACCTGCACGCGCACAAGCTTC...  \n",
       "3158                  TGTGAGCCACACCCTACAGTTGGCCAATCT...  \n",
       "3159                  GAATTCATCCTACAGGTGCAGGCTGCCTAT...  \n",
       "3160                TGACTTTGCACCTGCTCTGTGATTATGACTAT...  \n",
       "3161                GAGAGAGAGACCAGAAATAATCTTGCTTATGC...  \n",
       "3162               TTACCTCTAATCAACAGTTCAATTATGCTTGAA...  \n",
       "3163                GCTGGGGAGAAACCCAAGGTACCTATGGGGCT...  \n",
       "3164                    AAAAGGAAATATCCTCAGATGAAATCTG...  \n",
       "3165                 AGGAAATCTCCTTTGCTCAGATAAGTACACT...  \n",
       "3166                CATACTTGTGCTATCCCCTGCCCTTCTAAATC...  \n",
       "3167                CCTCAGTACCAAACTCATACATCAAACTGTGT...  \n",
       "3168                 CCTGCCGACAAGACCAACGTCAAGACCGCCT...  \n",
       "3169                 CTGGAAGCACTGGATGGAATCTTTTCTGTCT...  \n",
       "3170               TGTTTCTGAAAGAGGGATTAGCCCGTTGTCTTA...  \n",
       "3171               TAAAAAAGACTCTCTGCTGTGGGAGATCCCTTC...  \n",
       "3172                 ATCAATAAGCTCCTAGTCCAGACGCCATGGG...  \n",
       "3173               TCTCTTCCCTTCCCCTCTCTCTTTCTTTCTTTT...  \n",
       "3174                GAGCTCCCAGAGCAGCAAGAGGGCCAGCTGAA...  \n",
       "3175                  TCTCGGGGGCGGCCGGCGCGGCGGGGAGCG...  \n",
       "3176                   ATTCTACTTAGTAAACATAATTTCTTGTG...  \n",
       "3177                  AGGCTGCCTATCAGAAGGTGGTGGCTGGTG...  \n",
       "\n",
       "[3178 rows x 3 columns]"
      ]
     },
     "execution_count": 6,
     "metadata": {},
     "output_type": "execute_result"
    }
   ],
   "source": [
    "df.drop_duplicates(inplace=True)\n",
    "df.reset_index(drop=True, inplace=True)\n",
    "df"
   ]
  },
  {
   "cell_type": "markdown",
   "metadata": {},
   "source": [
    "### 2.1 class"
   ]
  },
  {
   "cell_type": "markdown",
   "metadata": {},
   "source": [
    "- 클래스가 N인 데이터의 개수는 EI와 IE보다 약 2배 큼\n",
    "- EI와 IE의 데이터 개수는 거의 같음\n",
    "- 클래스 N의 예측이 보다 수월할 것으로 예상됨"
   ]
  },
  {
   "cell_type": "code",
   "execution_count": 7,
   "metadata": {},
   "outputs": [
    {
     "data": {
      "image/png": "[encoded data removed]",
      "text/plain": [
       "<Figure size 432x288 with 1 Axes>"
      ]
     },
     "metadata": {
      "needs_background": "light"
     },
     "output_type": "display_data"
    }
   ],
   "source": [
    "classes = df['class'].value_counts()\n",
    "\n",
    "plt.figure()\n",
    "sns.barplot(classes.index, classes.values, alpha=0.8)\n",
    "plt.title('3 Classes')\n",
    "plt.ylabel('Number of Occurrences')\n",
    "plt.xlabel('Class')\n",
    "plt.show()"
   ]
  },
  {
   "cell_type": "markdown",
   "metadata": {},
   "source": [
    "- 클래스 EI, IE, N을 0, 1, 2로 변환"
   ]
  },
  {
   "cell_type": "code",
   "execution_count": 8,
   "metadata": {},
   "outputs": [
    {
     "data": {
      "text/html": [
       "<div>\n",
       "<style scoped>\n",
       "    .dataframe tbody tr th:only-of-type {\n",
       "        vertical-align: middle;\n",
       "    }\n",
       "\n",
       "    .dataframe tbody tr th {\n",
       "        vertical-align: top;\n",
       "    }\n",
       "\n",
       "    .dataframe thead th {\n",
       "        text-align: right;\n",
       "    }\n",
       "</style>\n",
       "<table border=\"1\" class=\"dataframe\">\n",
       "  <thead>\n",
       "    <tr style=\"text-align: right;\">\n",
       "      <th></th>\n",
       "      <th>class</th>\n",
       "      <th>name</th>\n",
       "      <th>sequence</th>\n",
       "    </tr>\n",
       "  </thead>\n",
       "  <tbody>\n",
       "    <tr>\n",
       "      <th>0</th>\n",
       "      <td>0</td>\n",
       "      <td>ATRINS-DONOR-521</td>\n",
       "      <td>CCAGCTGCATCACAGGAGGCCAGCGAGCAGG...</td>\n",
       "    </tr>\n",
       "    <tr>\n",
       "      <th>1</th>\n",
       "      <td>0</td>\n",
       "      <td>ATRINS-DONOR-905</td>\n",
       "      <td>AGACCCGCCGGGAGGCGGAGGACCTGCAGGG...</td>\n",
       "    </tr>\n",
       "    <tr>\n",
       "      <th>2</th>\n",
       "      <td>0</td>\n",
       "      <td>BABAPOE-DONOR-30</td>\n",
       "      <td>GAGGTGAAGGACGTCCTTCCCCAGGAGCCGG...</td>\n",
       "    </tr>\n",
       "    <tr>\n",
       "      <th>3</th>\n",
       "      <td>0</td>\n",
       "      <td>BABAPOE-DONOR-867</td>\n",
       "      <td>GGGCTGCGTTGCTGGTCACATTCCTGGCAGGT...</td>\n",
       "    </tr>\n",
       "    <tr>\n",
       "      <th>4</th>\n",
       "      <td>0</td>\n",
       "      <td>BABAPOE-DONOR-2817</td>\n",
       "      <td>GCTCAGCCCCCAGGTCACCCAGGAACTGACGTG...</td>\n",
       "    </tr>\n",
       "  </tbody>\n",
       "</table>\n",
       "</div>"
      ],
      "text/plain": [
       "   class                    name  \\\n",
       "0      0        ATRINS-DONOR-521   \n",
       "1      0        ATRINS-DONOR-905   \n",
       "2      0        BABAPOE-DONOR-30   \n",
       "3      0       BABAPOE-DONOR-867   \n",
       "4      0      BABAPOE-DONOR-2817   \n",
       "\n",
       "                                            sequence  \n",
       "0                 CCAGCTGCATCACAGGAGGCCAGCGAGCAGG...  \n",
       "1                 AGACCCGCCGGGAGGCGGAGGACCTGCAGGG...  \n",
       "2                 GAGGTGAAGGACGTCCTTCCCCAGGAGCCGG...  \n",
       "3                GGGCTGCGTTGCTGGTCACATTCCTGGCAGGT...  \n",
       "4               GCTCAGCCCCCAGGTCACCCAGGAACTGACGTG...  "
      ]
     },
     "execution_count": 8,
     "metadata": {},
     "output_type": "execute_result"
    }
   ],
   "source": [
    "le = LabelEncoder()\n",
    "df['class'] = le.fit_transform(df['class'])\n",
    "df.head()"
   ]
  },
  {
   "cell_type": "markdown",
   "metadata": {},
   "source": [
    "### 2.2 name"
   ]
  },
  {
   "cell_type": "markdown",
   "metadata": {},
   "source": [
    "- name을 살펴보면 '코드-분류-일련번호'와 같은 형태이다.\n",
    "- 특히 분류에서 EI는 DONOR, IE는 ACCEPTOR, N은 NEG로 표현되어 있다.\n",
    "- 학습에는 사용하지 않을 것이므로 drop하기로 한다."
   ]
  },
  {
   "cell_type": "code",
   "execution_count": 9,
   "metadata": {
    "scrolled": true
   },
   "outputs": [
    {
     "data": {
      "text/html": [
       "<div>\n",
       "<style scoped>\n",
       "    .dataframe tbody tr th:only-of-type {\n",
       "        vertical-align: middle;\n",
       "    }\n",
       "\n",
       "    .dataframe tbody tr th {\n",
       "        vertical-align: top;\n",
       "    }\n",
       "\n",
       "    .dataframe thead th {\n",
       "        text-align: right;\n",
       "    }\n",
       "</style>\n",
       "<table border=\"1\" class=\"dataframe\">\n",
       "  <thead>\n",
       "    <tr style=\"text-align: right;\">\n",
       "      <th></th>\n",
       "      <th>class</th>\n",
       "      <th>sequence</th>\n",
       "    </tr>\n",
       "  </thead>\n",
       "  <tbody>\n",
       "    <tr>\n",
       "      <th>0</th>\n",
       "      <td>0</td>\n",
       "      <td>CCAGCTGCATCACAGGAGGCCAGCGAGCAGG...</td>\n",
       "    </tr>\n",
       "    <tr>\n",
       "      <th>1</th>\n",
       "      <td>0</td>\n",
       "      <td>AGACCCGCCGGGAGGCGGAGGACCTGCAGGG...</td>\n",
       "    </tr>\n",
       "    <tr>\n",
       "      <th>2</th>\n",
       "      <td>0</td>\n",
       "      <td>GAGGTGAAGGACGTCCTTCCCCAGGAGCCGG...</td>\n",
       "    </tr>\n",
       "    <tr>\n",
       "      <th>3</th>\n",
       "      <td>0</td>\n",
       "      <td>GGGCTGCGTTGCTGGTCACATTCCTGGCAGGT...</td>\n",
       "    </tr>\n",
       "    <tr>\n",
       "      <th>4</th>\n",
       "      <td>0</td>\n",
       "      <td>GCTCAGCCCCCAGGTCACCCAGGAACTGACGTG...</td>\n",
       "    </tr>\n",
       "  </tbody>\n",
       "</table>\n",
       "</div>"
      ],
      "text/plain": [
       "   class                                           sequence\n",
       "0      0                 CCAGCTGCATCACAGGAGGCCAGCGAGCAGG...\n",
       "1      0                 AGACCCGCCGGGAGGCGGAGGACCTGCAGGG...\n",
       "2      0                 GAGGTGAAGGACGTCCTTCCCCAGGAGCCGG...\n",
       "3      0                GGGCTGCGTTGCTGGTCACATTCCTGGCAGGT...\n",
       "4      0               GCTCAGCCCCCAGGTCACCCAGGAACTGACGTG..."
      ]
     },
     "execution_count": 9,
     "metadata": {},
     "output_type": "execute_result"
    }
   ],
   "source": [
    "df = df.drop(columns='name')\n",
    "df.head()"
   ]
  },
  {
   "cell_type": "markdown",
   "metadata": {},
   "source": [
    "### 2.3 sequence"
   ]
  },
  {
   "cell_type": "markdown",
   "metadata": {},
   "source": [
    "- {A, G, C, T, D, N, S, R}에 one-hot encoding을 적용한다."
   ]
  },
  {
   "cell_type": "code",
   "execution_count": 10,
   "metadata": {},
   "outputs": [],
   "source": [
    "def one_hot_encoding(arr):\n",
    "    ohe = OneHotEncoder(sparse=False)\n",
    "    vector = ohe.fit_transform([[i] for i in arr])\n",
    "    chr2idx = {}\n",
    "    for i in range(len(arr)):\n",
    "        chr2idx[arr[i]] = vector[i].tolist()\n",
    "    return chr2idx"
   ]
  },
  {
   "cell_type": "code",
   "execution_count": 11,
   "metadata": {
    "scrolled": true
   },
   "outputs": [
    {
     "data": {
      "text/plain": [
       "{'A': [1.0, 0.0, 0.0, 0.0, 0.0, 0.0, 0.0, 0.0],\n",
       " 'G': [0.0, 0.0, 0.0, 1.0, 0.0, 0.0, 0.0, 0.0],\n",
       " 'C': [0.0, 1.0, 0.0, 0.0, 0.0, 0.0, 0.0, 0.0],\n",
       " 'T': [0.0, 0.0, 0.0, 0.0, 0.0, 0.0, 0.0, 1.0],\n",
       " 'D': [0.0, 0.0, 1.0, 0.0, 0.0, 0.0, 0.0, 0.0],\n",
       " 'N': [0.0, 0.0, 0.0, 0.0, 1.0, 0.0, 0.0, 0.0],\n",
       " 'S': [0.0, 0.0, 0.0, 0.0, 0.0, 0.0, 1.0, 0.0],\n",
       " 'R': [0.0, 0.0, 0.0, 0.0, 0.0, 1.0, 0.0, 0.0]}"
      ]
     },
     "execution_count": 11,
     "metadata": {},
     "output_type": "execute_result"
    }
   ],
   "source": [
    "nucleotide = ['A', 'G', 'C', 'T', 'D', 'N', 'S', 'R']\n",
    "chr2idx = one_hot_encoding(nucleotide)\n",
    "chr2idx"
   ]
  },
  {
   "cell_type": "code",
   "execution_count": 12,
   "metadata": {},
   "outputs": [],
   "source": [
    "def chr_encoding(seq, chr2idx):\n",
    "    result = []\n",
    "    for ch in seq.strip():\n",
    "        for e in chr2idx[ch]:\n",
    "            result.append(e)\n",
    "    return result"
   ]
  },
  {
   "cell_type": "code",
   "execution_count": 13,
   "metadata": {
    "scrolled": true
   },
   "outputs": [
    {
     "data": {
      "text/html": [
       "<div>\n",
       "<style scoped>\n",
       "    .dataframe tbody tr th:only-of-type {\n",
       "        vertical-align: middle;\n",
       "    }\n",
       "\n",
       "    .dataframe tbody tr th {\n",
       "        vertical-align: top;\n",
       "    }\n",
       "\n",
       "    .dataframe thead th {\n",
       "        text-align: right;\n",
       "    }\n",
       "</style>\n",
       "<table border=\"1\" class=\"dataframe\">\n",
       "  <thead>\n",
       "    <tr style=\"text-align: right;\">\n",
       "      <th></th>\n",
       "      <th>class</th>\n",
       "      <th>sequence</th>\n",
       "    </tr>\n",
       "  </thead>\n",
       "  <tbody>\n",
       "    <tr>\n",
       "      <th>0</th>\n",
       "      <td>0</td>\n",
       "      <td>[0.0, 1.0, 0.0, 0.0, 0.0, 0.0, 0.0, 0.0, 0.0, ...</td>\n",
       "    </tr>\n",
       "    <tr>\n",
       "      <th>1</th>\n",
       "      <td>0</td>\n",
       "      <td>[1.0, 0.0, 0.0, 0.0, 0.0, 0.0, 0.0, 0.0, 0.0, ...</td>\n",
       "    </tr>\n",
       "    <tr>\n",
       "      <th>2</th>\n",
       "      <td>0</td>\n",
       "      <td>[0.0, 0.0, 0.0, 1.0, 0.0, 0.0, 0.0, 0.0, 1.0, ...</td>\n",
       "    </tr>\n",
       "    <tr>\n",
       "      <th>3</th>\n",
       "      <td>0</td>\n",
       "      <td>[0.0, 0.0, 0.0, 1.0, 0.0, 0.0, 0.0, 0.0, 0.0, ...</td>\n",
       "    </tr>\n",
       "    <tr>\n",
       "      <th>4</th>\n",
       "      <td>0</td>\n",
       "      <td>[0.0, 0.0, 0.0, 1.0, 0.0, 0.0, 0.0, 0.0, 0.0, ...</td>\n",
       "    </tr>\n",
       "  </tbody>\n",
       "</table>\n",
       "</div>"
      ],
      "text/plain": [
       "   class                                           sequence\n",
       "0      0  [0.0, 1.0, 0.0, 0.0, 0.0, 0.0, 0.0, 0.0, 0.0, ...\n",
       "1      0  [1.0, 0.0, 0.0, 0.0, 0.0, 0.0, 0.0, 0.0, 0.0, ...\n",
       "2      0  [0.0, 0.0, 0.0, 1.0, 0.0, 0.0, 0.0, 0.0, 1.0, ...\n",
       "3      0  [0.0, 0.0, 0.0, 1.0, 0.0, 0.0, 0.0, 0.0, 0.0, ...\n",
       "4      0  [0.0, 0.0, 0.0, 1.0, 0.0, 0.0, 0.0, 0.0, 0.0, ..."
      ]
     },
     "execution_count": 13,
     "metadata": {},
     "output_type": "execute_result"
    }
   ],
   "source": [
    "df['sequence'] = df['sequence'].apply(chr_encoding, chr2idx=chr2idx)\n",
    "df.head()"
   ]
  },
  {
   "cell_type": "markdown",
   "metadata": {},
   "source": [
    "### 2.4 data split"
   ]
  },
  {
   "cell_type": "markdown",
   "metadata": {},
   "source": [
    "- train/test 데이터셋을 7:3 비율로 나눔"
   ]
  },
  {
   "cell_type": "code",
   "execution_count": 14,
   "metadata": {
    "scrolled": false
   },
   "outputs": [
    {
     "name": "stdout",
     "output_type": "stream",
     "text": [
      "X_train:  (2224, 480)\n",
      "X_test:  (954, 480)\n",
      "y_train:  (2224,)\n",
      "y_test:  (954,)\n"
     ]
    }
   ],
   "source": [
    "X = np.vstack(df['sequence'])\n",
    "y = df['class']\n",
    "\n",
    "X_train, X_test, y_train, y_test = train_test_split(X, y, shuffle=True, stratify=y, test_size=0.3, random_state=123)\n",
    "\n",
    "print(\"X_train: \", X_train.shape)\n",
    "print(\"X_test: \", X_test.shape)\n",
    "print(\"y_train: \", y_train.shape)\n",
    "print(\"y_test: \", y_test.shape)"
   ]
  },
  {
   "cell_type": "markdown",
   "metadata": {},
   "source": [
    "## 3. Select a model"
   ]
  },
  {
   "cell_type": "markdown",
   "metadata": {},
   "source": [
    "- 클래스의 수가 불균형하므로 stratified하게 교차검증한다.\n",
    "- (아래 이미지와 reference 참고)"
   ]
  },
  {
   "cell_type": "markdown",
   "metadata": {},
   "source": [
    "![stratifiedkfold](https://scikit-learn.org/stable/_images/sphx_glr_plot_cv_indices_0071.png)"
   ]
  },
  {
   "cell_type": "code",
   "execution_count": 15,
   "metadata": {},
   "outputs": [],
   "source": [
    "skf = StratifiedKFold(n_splits=3, shuffle=True, random_state=0)"
   ]
  },
  {
   "cell_type": "markdown",
   "metadata": {},
   "source": [
    "- 사용할 모델은 분류 과제에 적합한 KNN, Decision Tree, Naive Bayes, SVM, Random Forest을 선택"
   ]
  },
  {
   "cell_type": "markdown",
   "metadata": {},
   "source": [
    "![machine learning cheat sheet](https://scikit-learn.org/stable/_static/ml_map.png)"
   ]
  },
  {
   "cell_type": "code",
   "execution_count": 16,
   "metadata": {},
   "outputs": [],
   "source": [
    "scoring = 'accuracy'\n",
    "\n",
    "def print_score(scores):\n",
    "    print(scores)\n",
    "    print('train score: ', round(scores.mean()*100, 2))"
   ]
  },
  {
   "cell_type": "markdown",
   "metadata": {},
   "source": [
    "### 3.1 KNN"
   ]
  },
  {
   "cell_type": "code",
   "execution_count": 17,
   "metadata": {},
   "outputs": [
    {
     "name": "stdout",
     "output_type": "stream",
     "text": [
      "[0.77088949 0.78032345 0.75810811]\n",
      "train score:  76.98\n"
     ]
    }
   ],
   "source": [
    "clf = KNeighborsClassifier()\n",
    "scores = cross_val_score(clf, X_train, y_train, scoring=scoring, cv=skf)\n",
    "\n",
    "print_score(scores)"
   ]
  },
  {
   "cell_type": "markdown",
   "metadata": {},
   "source": [
    "### 3.2 Decision Tree"
   ]
  },
  {
   "cell_type": "code",
   "execution_count": 18,
   "metadata": {},
   "outputs": [
    {
     "name": "stdout",
     "output_type": "stream",
     "text": [
      "[0.893531   0.91374663 0.92027027]\n",
      "train score:  90.92\n"
     ]
    }
   ],
   "source": [
    "clf = DecisionTreeClassifier()\n",
    "scores = cross_val_score(clf, X_train, y_train, scoring=scoring, cv=skf)\n",
    "\n",
    "print_score(scores)"
   ]
  },
  {
   "cell_type": "markdown",
   "metadata": {},
   "source": [
    "### 3.3 Naive Bayes"
   ]
  },
  {
   "cell_type": "code",
   "execution_count": 19,
   "metadata": {},
   "outputs": [
    {
     "name": "stdout",
     "output_type": "stream",
     "text": [
      "[0.91239892 0.93126685 0.89864865]\n",
      "train score:  91.41\n"
     ]
    }
   ],
   "source": [
    "clf = GaussianNB()\n",
    "scores = cross_val_score(clf, X_train, y_train, scoring=scoring, cv=skf)\n",
    "\n",
    "print_score(scores)"
   ]
  },
  {
   "cell_type": "markdown",
   "metadata": {},
   "source": [
    "### 3.4 SVM"
   ]
  },
  {
   "cell_type": "markdown",
   "metadata": {},
   "source": [
    "FutureWarning: The default value of gamma will change from 'auto' to 'scale' in version 0.22 to account better for unscaled features. Set gamma explicitly to 'auto' or 'scale' to avoid this warning.\n",
    "  \"avoid this warning.\", FutureWarning)"
   ]
  },
  {
   "cell_type": "code",
   "execution_count": 21,
   "metadata": {},
   "outputs": [
    {
     "name": "stdout",
     "output_type": "stream",
     "text": [
      "[0.95283019 0.96226415 0.95540541]\n",
      "train score:  95.68\n"
     ]
    }
   ],
   "source": [
    "clf = SVC(gamma='auto')\n",
    "scores = cross_val_score(clf, X_train, y_train, scoring=scoring, cv=skf)\n",
    "\n",
    "print_score(scores)"
   ]
  },
  {
   "cell_type": "markdown",
   "metadata": {},
   "source": [
    "### 3.5 Random Forest"
   ]
  },
  {
   "cell_type": "markdown",
   "metadata": {},
   "source": [
    "FutureWarning: The default value of n_estimators will change from 10 in version 0.20 to 100 in 0.22."
   ]
  },
  {
   "cell_type": "code",
   "execution_count": 20,
   "metadata": {
    "scrolled": true
   },
   "outputs": [
    {
     "name": "stdout",
     "output_type": "stream",
     "text": [
      "[0.95283019 0.96361186 0.96216216]\n",
      "train score:  95.95\n"
     ]
    }
   ],
   "source": [
    "clf = RandomForestClassifier(n_estimators=100)\n",
    "scores = cross_val_score(clf, X_train, y_train, scoring=scoring, cv=skf)\n",
    "\n",
    "print_score(scores)"
   ]
  },
  {
   "cell_type": "markdown",
   "metadata": {},
   "source": [
    "| Model         | Accuracy |\n",
    "|---------------|----------|\n",
    "| KNN           | 76.98    |\n",
    "| Decision Tree | 90.92    |\n",
    "| Naive Bayes   | 91.41    |\n",
    "| SVM           | 95.68    |\n",
    "| Random Forest | 95.95    |"
   ]
  },
  {
   "cell_type": "markdown",
   "metadata": {},
   "source": [
    "- 최종적으로 Random Forest 모델 선택"
   ]
  },
  {
   "cell_type": "markdown",
   "metadata": {},
   "source": [
    "## 4. Tune parameters & Test"
   ]
  },
  {
   "cell_type": "markdown",
   "metadata": {},
   "source": [
    "- n_estimators: number of trees in random forest\n",
    "- max_features: number of features to consider at every split"
   ]
  },
  {
   "cell_type": "code",
   "execution_count": 22,
   "metadata": {},
   "outputs": [
    {
     "name": "stdout",
     "output_type": "stream",
     "text": [
      "{'n_estimators': [200, 400, 600, 800, 1000], 'max_features': ['auto', 'sqrt']}\n"
     ]
    }
   ],
   "source": [
    "n_estimators = [int(x) for x in np.linspace(start = 200, stop = 1000, num = 5)]\n",
    "max_features = ['auto', 'sqrt']\n",
    "random_grid = {'n_estimators': n_estimators,\n",
    "               'max_features': max_features}\n",
    "print(random_grid)"
   ]
  },
  {
   "cell_type": "code",
   "execution_count": 23,
   "metadata": {
    "scrolled": true
   },
   "outputs": [
    {
     "name": "stdout",
     "output_type": "stream",
     "text": [
      "Fitting 3 folds for each of 10 candidates, totalling 30 fits\n"
     ]
    },
    {
     "name": "stderr",
     "output_type": "stream",
     "text": [
      "[Parallel(n_jobs=-1)]: Using backend LokyBackend with 4 concurrent workers.\n",
      "[Parallel(n_jobs=-1)]: Done  30 out of  30 | elapsed:  2.4min finished\n"
     ]
    },
    {
     "name": "stdout",
     "output_type": "stream",
     "text": [
      "best_params:  {'n_estimators': 800, 'max_features': 'auto'}\n",
      "best_score:  96.58\n"
     ]
    }
   ],
   "source": [
    "clf = RandomForestClassifier()\n",
    "rscv = RandomizedSearchCV(clf, random_grid, cv = skf, n_jobs = -1, verbose=2, random_state=111)\n",
    "rscv.fit(X_train, y_train)\n",
    "\n",
    "print('best_params: ', rscv.best_params_)\n",
    "print('best_score: ', round(rscv.best_score_*100, 2))"
   ]
  },
  {
   "cell_type": "markdown",
   "metadata": {},
   "source": [
    "- 파라미터 튜닝으로 정확도 약 0.6% 상승"
   ]
  },
  {
   "cell_type": "code",
   "execution_count": 24,
   "metadata": {
    "scrolled": true
   },
   "outputs": [
    {
     "name": "stdout",
     "output_type": "stream",
     "text": [
      "test score:  97.06\n"
     ]
    }
   ],
   "source": [
    "score = rscv.score(X_test, y_test)\n",
    "print('test score: ', round(score*100, 2))"
   ]
  },
  {
   "cell_type": "markdown",
   "metadata": {},
   "source": [
    "- 최종적인 정확도 97.06%\n",
    "- test 데이터셋의 정확도가 train 데이터셋의 정확도보다 소폭 높음"
   ]
  },
  {
   "cell_type": "markdown",
   "metadata": {},
   "source": [
    "## 5. References"
   ]
  },
  {
   "cell_type": "markdown",
   "metadata": {},
   "source": [
    "- https://github.com/yisu-kim/TIL/blob/master/DataScience/Kaggle_Titanic.ipynb\n",
    "- https://github.com/QuentinQingLi/DNASeqClassifier/blob/master/TensorFlow/DNASeqClf.ipynb\n",
    "- https://scikit-learn.org/stable/modules/cross_validation.html\n",
    "- https://towardsdatascience.com/hyperparameter-tuning-the-random-forest-in-python-using-scikit-learn-28d2aa77dd74\n",
    "- https://scikit-learn.org/stable/modules/generated/sklearn.ensemble.RandomForestClassifier.html"
   ]
  }
 ],
 "metadata": {
  "kernelspec": {
   "display_name": "Python [default]",
   "language": "python",
   "name": "python3"
  },
  "language_info": {
   "codemirror_mode": {
    "name": "ipython",
    "version": 3
   },
   "file_extension": ".py",
   "mimetype": "text/x-python",
   "name": "python",
   "nbconvert_exporter": "python",
   "pygments_lexer": "ipython3",
   "version": "3.6.5"
  }
 },
 "nbformat": 4,
 "nbformat_minor": 2
}
